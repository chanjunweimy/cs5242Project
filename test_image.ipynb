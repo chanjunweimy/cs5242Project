{
 "cells": [
  {
   "cell_type": "code",
   "execution_count": 1,
   "metadata": {},
   "outputs": [],
   "source": [
    "%config IPCompleter.greedy=True\n",
    "%matplotlib inline\n",
    "\n",
    "import pandas as pd\n",
    "import numpy as np\n",
    "\n",
    "df_train = pd.read_csv('train_kaggle.csv')\n",
    "df_test = pd.read_csv('sample_solution.csv')\n",
    "Y = df_train['Label'].values\n",
    "dataframes = np.load('allData.npy', allow_pickle = True)"
   ]
  },
  {
   "cell_type": "code",
   "execution_count": 3,
   "metadata": {},
   "outputs": [],
   "source": [
    "def load_test_dataframe(id):\n",
    "    test_data = np.load(\"test/test/{}.npy\".format(id))\n",
    "    return pd.DataFrame(data=test_data)\n",
    "\n",
    "testdatas = []\n",
    "for id in df_test['Id']:\n",
    "    dfi = load_test_dataframe(id)\n",
    "    testdatas.append(dfi.values)"
   ]
  },
  {
   "cell_type": "code",
   "execution_count": 4,
   "metadata": {},
   "outputs": [
    {
     "data": {
      "text/plain": [
       "38"
      ]
     },
     "execution_count": 4,
     "metadata": {},
     "output_type": "execute_result"
    }
   ],
   "source": [
    "dfLens = []\n",
    "for df in dataframes:\n",
    "    dfLens.append(df.shape[0])\n",
    "np.min(dfLens)"
   ]
  },
  {
   "cell_type": "code",
   "execution_count": 5,
   "metadata": {},
   "outputs": [],
   "source": [
    "def pad_data(dfs):\n",
    "    padsize = np.min(dfLens)\n",
    "    data = []\n",
    "    for df in dfs:\n",
    "        diff = padsize-df.shape[0]\n",
    "        if diff >0:\n",
    "            df = np.pad(df, [(0, diff), (0,0)], 'constant')\n",
    "        else:\n",
    "            df = df[:padsize]\n",
    "        data.append(df)\n",
    "        \n",
    "    data = np.stack(data)\n",
    "    return data\n",
    "\n",
    "XTrain = pad_data(dataframes)\n",
    "XTest = pad_data(np.array(testdatas))"
   ]
  },
  {
   "cell_type": "code",
   "execution_count": 10,
   "metadata": {},
   "outputs": [],
   "source": [
    "import sklearn as sk\n",
    "from sklearn.metrics import pairwise_distances\n",
    "\n",
    "# Convert time series to image based on https://www.kaggle.com/tigurius/recuplots-and-cnns-for-time-series-classification\n",
    "#modified from https://stackoverflow.com/questions/33650371/recurrence-plot-in-python\n",
    "def recurrence_plot(s, eps=None, steps=None):\n",
    "    if eps==None: eps=0.1\n",
    "    if steps==None: steps=10\n",
    "    d = pairwise_distances(s)\n",
    "    d = np.floor(d / eps)\n",
    "    d[d > steps] = steps\n",
    "    #Z = squareform(d)\n",
    "    return d"
   ]
  },
  {
   "cell_type": "code",
   "execution_count": 11,
   "metadata": {},
   "outputs": [
    {
     "data": {
      "text/plain": [
       "(18662, 38, 38)"
      ]
     },
     "execution_count": 11,
     "metadata": {},
     "output_type": "execute_result"
    }
   ],
   "source": [
    "XTrain = np.array(list(map(recurrence_plot, XTrain)))\n",
    "XTrain.shape"
   ]
  },
  {
   "cell_type": "code",
   "execution_count": 12,
   "metadata": {},
   "outputs": [
    {
     "data": {
      "text/plain": [
       "(6051, 38, 38)"
      ]
     },
     "execution_count": 12,
     "metadata": {},
     "output_type": "execute_result"
    }
   ],
   "source": [
    "XTest = np.array(list(map(recurrence_plot, XTest)))\n",
    "XTest.shape"
   ]
  },
  {
   "cell_type": "code",
   "execution_count": 14,
   "metadata": {},
   "outputs": [
    {
     "data": {
      "text/plain": [
       "<matplotlib.image.AxesImage at 0x232693dbef0>"
      ]
     },
     "execution_count": 14,
     "metadata": {},
     "output_type": "execute_result"
    },
    {
     "data": {
      "image/png": "[encoded data removed]",
      "text/plain": [
       "<Figure size 432x288 with 1 Axes>"
      ]
     },
     "metadata": {
      "needs_background": "light"
     },
     "output_type": "display_data"
    }
   ],
   "source": [
    "import matplotlib.pyplot as plt\n",
    "\n",
    "plt.imshow(XTrain[0])"
   ]
  },
  {
   "cell_type": "code",
   "execution_count": 15,
   "metadata": {},
   "outputs": [
    {
     "data": {
      "text/plain": [
       "<matplotlib.image.AxesImage at 0x23269471be0>"
      ]
     },
     "execution_count": 15,
     "metadata": {},
     "output_type": "execute_result"
    },
    {
     "data": {
      "image/png": "[encoded data removed]",
      "text/plain": [
       "<Figure size 432x288 with 1 Axes>"
      ]
     },
     "metadata": {
      "needs_background": "light"
     },
     "output_type": "display_data"
    }
   ],
   "source": [
    "plt.imshow(XTrain[1])"
   ]
  },
  {
   "cell_type": "code",
   "execution_count": 16,
   "metadata": {},
   "outputs": [
    {
     "data": {
      "text/plain": [
       "<matplotlib.image.AxesImage at 0x232694ea2b0>"
      ]
     },
     "execution_count": 16,
     "metadata": {},
     "output_type": "execute_result"
    },
    {
     "data": {
      "image/png": "[encoded data removed]",
      "text/plain": [
       "<Figure size 432x288 with 1 Axes>"
      ]
     },
     "metadata": {
      "needs_background": "light"
     },
     "output_type": "display_data"
    }
   ],
   "source": [
    "plt.imshow(XTrain[2])"
   ]
  },
  {
   "cell_type": "code",
   "execution_count": 17,
   "metadata": {},
   "outputs": [
    {
     "data": {
      "text/plain": [
       "<matplotlib.image.AxesImage at 0x23269544320>"
      ]
     },
     "execution_count": 17,
     "metadata": {},
     "output_type": "execute_result"
    },
    {
     "data": {
      "image/png": "[encoded data removed]",
      "text/plain": [
       "<Figure size 432x288 with 1 Axes>"
      ]
     },
     "metadata": {
      "needs_background": "light"
     },
     "output_type": "display_data"
    }
   ],
   "source": [
    "plt.imshow(XTrain[3])"
   ]
  },
  {
   "cell_type": "code",
   "execution_count": 18,
   "metadata": {},
   "outputs": [
    {
     "data": {
      "text/plain": [
       "<matplotlib.image.AxesImage at 0x2326959f470>"
      ]
     },
     "execution_count": 18,
     "metadata": {},
     "output_type": "execute_result"
    },
    {
     "data": {
      "image/png": "[encoded data removed]",
      "text/plain": [
       "<Figure size 432x288 with 1 Axes>"
      ]
     },
     "metadata": {
      "needs_background": "light"
     },
     "output_type": "display_data"
    }
   ],
   "source": [
    "plt.imshow(XTrain[4])"
   ]
  },
  {
   "cell_type": "code",
   "execution_count": 19,
   "metadata": {},
   "outputs": [
    {
     "data": {
      "text/plain": [
       "<matplotlib.image.AxesImage at 0x232695f9550>"
      ]
     },
     "execution_count": 19,
     "metadata": {},
     "output_type": "execute_result"
    },
    {
     "data": {
      "image/png": "[encoded data removed]",
      "text/plain": [
       "<Figure size 432x288 with 1 Axes>"
      ]
     },
     "metadata": {
      "needs_background": "light"
     },
     "output_type": "display_data"
    }
   ],
   "source": [
    "plt.imshow(XTrain[5])"
   ]
  },
  {
   "cell_type": "code",
   "execution_count": 23,
   "metadata": {},
   "outputs": [
    {
     "data": {
      "text/plain": [
       "<matplotlib.image.AxesImage at 0x23257fd7780>"
      ]
     },
     "execution_count": 23,
     "metadata": {},
     "output_type": "execute_result"
    },
    {
     "data": {
      "image/png": "[encoded data removed]",
      "text/plain": [
       "<Figure size 432x288 with 1 Axes>"
      ]
     },
     "metadata": {
      "needs_background": "light"
     },
     "output_type": "display_data"
    }
   ],
   "source": [
    "plt.imshow(XTrain[217])"
   ]
  },
  {
   "cell_type": "code",
   "execution_count": 24,
   "metadata": {},
   "outputs": [],
   "source": [
    "from sklearn.model_selection import train_test_split\n",
    "\n",
    "X_train, X_val, y_train, y_val = train_test_split(XTrain, Y, test_size=0.2, random_state=42)"
   ]
  },
  {
   "cell_type": "markdown",
   "metadata": {},
   "source": [
    "## CNNs for Recurrence plots\n",
    "In https://arxiv.org/pdf/1710.00886.pdf the usage of a convolutional net for classification of recurrence plots is proposed."
   ]
  },
  {
   "cell_type": "code",
   "execution_count": 44,
   "metadata": {},
   "outputs": [
    {
     "name": "stdout",
     "output_type": "stream",
     "text": [
      "Model: \"model_10\"\n",
      "_________________________________________________________________\n",
      "Layer (type)                 Output Shape              Param #   \n",
      "=================================================================\n",
      "input_11 (InputLayer)        [(None, 38, 38)]          0         \n",
      "_________________________________________________________________\n",
      "tf_op_layer_Reshape_10 (Tens [(None, 1, 38, 38)]       0         \n",
      "_________________________________________________________________\n",
      "conv2d_20 (Conv2D)           (None, 36, 36, 36)        360       \n",
      "_________________________________________________________________\n",
      "max_pooling2d_20 (MaxPooling (None, 18, 18, 36)        0         \n",
      "_________________________________________________________________\n",
      "dropout_30 (Dropout)         (None, 18, 18, 36)        0         \n",
      "_________________________________________________________________\n",
      "conv2d_21 (Conv2D)           (None, 16, 16, 36)        11700     \n",
      "_________________________________________________________________\n",
      "max_pooling2d_21 (MaxPooling (None, 8, 8, 36)          0         \n",
      "_________________________________________________________________\n",
      "dropout_31 (Dropout)         (None, 8, 8, 36)          0         \n",
      "_________________________________________________________________\n",
      "flatten_10 (Flatten)         (None, 2304)              0         \n",
      "_________________________________________________________________\n",
      "dense_20 (Dense)             (None, 64)                147520    \n",
      "_________________________________________________________________\n",
      "dropout_32 (Dropout)         (None, 64)                0         \n",
      "_________________________________________________________________\n",
      "dense_21 (Dense)             (None, 1)                 65        \n",
      "=================================================================\n",
      "Total params: 159,645\n",
      "Trainable params: 159,645\n",
      "Non-trainable params: 0\n",
      "_________________________________________________________________\n"
     ]
    }
   ],
   "source": [
    "import tensorflow as tf\n",
    "from tensorflow import keras\n",
    "\n",
    "METRICS = [\n",
    "      keras.metrics.BinaryAccuracy(name='accuracy'),\n",
    "      keras.metrics.AUC(name='auc'),\n",
    "]\n",
    "\n",
    "inputs = keras.Input(shape=(XTrain.shape[1], XTrain.shape[2])) \n",
    "x = tf.reshape(inputs, (-1, 1, XTrain.shape[1], XTrain.shape[2]))\n",
    "x = keras.layers.Convolution2D(36, (3, 3), activation='relu', data_format='channels_first')(x)\n",
    "x = keras.layers.MaxPooling2D(pool_size=(2,2))(x)\n",
    "x = keras.layers.Dropout(0.25)(x)\n",
    "x = keras.layers.Convolution2D(36, (3, 3),activation='relu')(x)\n",
    "x = keras.layers.MaxPooling2D(pool_size=(2,2))(x)\n",
    "x = keras.layers.Dropout(0.25)(x)\n",
    "x = keras.layers.Flatten()(x)\n",
    "x = keras.layers.Dense(64, activation='relu')(x)\n",
    "x = keras.layers.Dropout(0.5)(x)\n",
    "x = keras.layers.Dense(1, activation='sigmoid')(x)\n",
    "\n",
    "model = keras.Model(inputs=inputs, outputs=x)\n",
    "\n",
    "model.compile(\n",
    "      optimizer=keras.optimizers.Adam(),\n",
    "      loss=keras.losses.BinaryCrossentropy(),\n",
    "      metrics=METRICS)\n",
    "\n",
    "early_stopping = tf.keras.callbacks.EarlyStopping(\n",
    "    monitor='val_auc', \n",
    "    verbose=1,\n",
    "    patience=10,\n",
    "    mode='max',\n",
    "    restore_best_weights=True)\n",
    "\n",
    "# Take a look at the model summary\n",
    "model.summary()"
   ]
  },
  {
   "cell_type": "code",
   "execution_count": 39,
   "metadata": {},
   "outputs": [
    {
     "name": "stdout",
     "output_type": "stream",
     "text": [
      "Train on 14929 samples, validate on 3733 samples\n",
      "Epoch 1/100\n",
      "14929/14929 [==============================] - 80s 5ms/sample - loss: 0.4765 - accuracy: 0.7688 - auc: 0.8439 - val_loss: 0.3339 - val_accuracy: 0.8422 - val_auc: 0.9344\n",
      "Epoch 2/100\n",
      "14929/14929 [==============================] - 79s 5ms/sample - loss: 0.3408 - accuracy: 0.8454 - auc: 0.9251 - val_loss: 0.2815 - val_accuracy: 0.8720 - val_auc: 0.9483\n",
      "Epoch 3/100\n",
      "14929/14929 [==============================] - 77s 5ms/sample - loss: 0.3059 - accuracy: 0.8622 - auc: 0.9406 - val_loss: 0.2711 - val_accuracy: 0.8805 - val_auc: 0.9548\n",
      "Epoch 4/100\n",
      "14929/14929 [==============================] - 78s 5ms/sample - loss: 0.2847 - accuracy: 0.8732 - auc: 0.9492 - val_loss: 0.2542 - val_accuracy: 0.8856 - val_auc: 0.9605\n",
      "Epoch 5/100\n",
      "14929/14929 [==============================] - 77s 5ms/sample - loss: 0.2652 - accuracy: 0.8815 - auc: 0.9558 - val_loss: 0.2468 - val_accuracy: 0.8923 - val_auc: 0.9607\n",
      "Epoch 6/100\n",
      "14929/14929 [==============================] - 80s 5ms/sample - loss: 0.2563 - accuracy: 0.8856 - auc: 0.9588 - val_loss: 0.2431 - val_accuracy: 0.8920 - val_auc: 0.9625\n",
      "Epoch 7/100\n",
      "14929/14929 [==============================] - 76s 5ms/sample - loss: 0.2452 - accuracy: 0.8922 - auc: 0.9625 - val_loss: 0.2405 - val_accuracy: 0.8979 - val_auc: 0.9640\n",
      "Epoch 8/100\n",
      "14929/14929 [==============================] - 76s 5ms/sample - loss: 0.2420 - accuracy: 0.8938 - auc: 0.9639 - val_loss: 0.2389 - val_accuracy: 0.8843 - val_auc: 0.9646\n",
      "Epoch 9/100\n",
      "14929/14929 [==============================] - 77s 5ms/sample - loss: 0.2281 - accuracy: 0.8995 - auc: 0.9676 - val_loss: 0.2338 - val_accuracy: 0.8995 - val_auc: 0.9665\n",
      "Epoch 10/100\n",
      "14929/14929 [==============================] - 76s 5ms/sample - loss: 0.2282 - accuracy: 0.9045 - auc: 0.9680 - val_loss: 0.2257 - val_accuracy: 0.9070 - val_auc: 0.9688\n",
      "Epoch 11/100\n",
      "14929/14929 [==============================] - 77s 5ms/sample - loss: 0.2166 - accuracy: 0.9080 - auc: 0.9713 - val_loss: 0.2268 - val_accuracy: 0.9049 - val_auc: 0.9688\n",
      "Epoch 12/100\n",
      "14929/14929 [==============================] - 77s 5ms/sample - loss: 0.2181 - accuracy: 0.9085 - auc: 0.9710 - val_loss: 0.2260 - val_accuracy: 0.9076 - val_auc: 0.9688\n",
      "Epoch 13/100\n",
      "14929/14929 [==============================] - 77s 5ms/sample - loss: 0.2110 - accuracy: 0.9119 - auc: 0.9729 - val_loss: 0.2207 - val_accuracy: 0.9076 - val_auc: 0.9702\n",
      "Epoch 14/100\n",
      "14929/14929 [==============================] - 78s 5ms/sample - loss: 0.2052 - accuracy: 0.9137 - auc: 0.9744 - val_loss: 0.2239 - val_accuracy: 0.9081 - val_auc: 0.9699\n",
      "Epoch 15/100\n",
      "14929/14929 [==============================] - 79s 5ms/sample - loss: 0.2028 - accuracy: 0.9121 - auc: 0.9744 - val_loss: 0.2187 - val_accuracy: 0.9049 - val_auc: 0.9709\n",
      "Epoch 16/100\n",
      "14929/14929 [==============================] - 79s 5ms/sample - loss: 0.1982 - accuracy: 0.9154 - auc: 0.9760 - val_loss: 0.2291 - val_accuracy: 0.9068 - val_auc: 0.9684\n",
      "Epoch 17/100\n",
      "14929/14929 [==============================] - 77s 5ms/sample - loss: 0.1972 - accuracy: 0.9163 - auc: 0.9764 - val_loss: 0.2364 - val_accuracy: 0.9038 - val_auc: 0.9687\n",
      "Epoch 18/100\n",
      "14929/14929 [==============================] - 77s 5ms/sample - loss: 0.1929 - accuracy: 0.9204 - auc: 0.9773 - val_loss: 0.2265 - val_accuracy: 0.9014 - val_auc: 0.9693\n",
      "Epoch 19/100\n",
      "14929/14929 [==============================] - 77s 5ms/sample - loss: 0.1970 - accuracy: 0.9179 - auc: 0.9762 - val_loss: 0.2251 - val_accuracy: 0.9124 - val_auc: 0.9704\n",
      "Epoch 20/100\n",
      "14929/14929 [==============================] - 77s 5ms/sample - loss: 0.1852 - accuracy: 0.9224 - auc: 0.9790 - val_loss: 0.2183 - val_accuracy: 0.9062 - val_auc: 0.9716\n",
      "Epoch 21/100\n",
      "14929/14929 [==============================] - 77s 5ms/sample - loss: 0.1850 - accuracy: 0.9211 - auc: 0.9791 - val_loss: 0.2302 - val_accuracy: 0.9054 - val_auc: 0.9698\n",
      "Epoch 22/100\n",
      "14929/14929 [==============================] - 76s 5ms/sample - loss: 0.1875 - accuracy: 0.9206 - auc: 0.9784 - val_loss: 0.2287 - val_accuracy: 0.9030 - val_auc: 0.9689\n",
      "Epoch 23/100\n",
      "14929/14929 [==============================] - 76s 5ms/sample - loss: 0.1811 - accuracy: 0.9250 - auc: 0.9801 - val_loss: 0.2280 - val_accuracy: 0.9111 - val_auc: 0.9708\n",
      "Epoch 24/100\n",
      "14929/14929 [==============================] - 83s 6ms/sample - loss: 0.1810 - accuracy: 0.9230 - auc: 0.9797 - val_loss: 0.2253 - val_accuracy: 0.9105 - val_auc: 0.9709\n",
      "Epoch 25/100\n",
      "14929/14929 [==============================] - 77s 5ms/sample - loss: 0.1793 - accuracy: 0.9273 - auc: 0.9803 - val_loss: 0.2184 - val_accuracy: 0.9084 - val_auc: 0.9709\n",
      "Epoch 26/100\n",
      "14929/14929 [==============================] - 80s 5ms/sample - loss: 0.1746 - accuracy: 0.9275 - auc: 0.9813 - val_loss: 0.2273 - val_accuracy: 0.9076 - val_auc: 0.9697\n",
      "Epoch 27/100\n",
      "14929/14929 [==============================] - 77s 5ms/sample - loss: 0.1762 - accuracy: 0.9271 - auc: 0.9810 - val_loss: 0.2286 - val_accuracy: 0.9100 - val_auc: 0.9701\n",
      "Epoch 28/100\n",
      "14929/14929 [==============================] - 76s 5ms/sample - loss: 0.1755 - accuracy: 0.9257 - auc: 0.9810 - val_loss: 0.2343 - val_accuracy: 0.9052 - val_auc: 0.9694\n",
      "Epoch 29/100\n",
      "14929/14929 [==============================] - 77s 5ms/sample - loss: 0.1791 - accuracy: 0.9250 - auc: 0.9803 - val_loss: 0.2270 - val_accuracy: 0.9089 - val_auc: 0.9701\n",
      "Epoch 30/100\n",
      "14912/14929 [============================>.] - ETA: 0s - loss: 0.1732 - accuracy: 0.9282 - auc: 0.9819Restoring model weights from the end of the best epoch.\n",
      "14929/14929 [==============================] - 77s 5ms/sample - loss: 0.1732 - accuracy: 0.9283 - auc: 0.9820 - val_loss: 0.2201 - val_accuracy: 0.9044 - val_auc: 0.9707\n",
      "Epoch 00030: early stopping\n"
     ]
    }
   ],
   "source": [
    "EPOCHS = 100\n",
    "baseline_history = model.fit(\n",
    "    X_train,\n",
    "    y_train,\n",
    "    epochs=EPOCHS,\n",
    "    callbacks = [early_stopping],\n",
    "    validation_data=(X_val, y_val))"
   ]
  },
  {
   "cell_type": "code",
   "execution_count": 46,
   "metadata": {},
   "outputs": [
    {
     "data": {
      "text/html": [
       "<div>\n",
       "<style scoped>\n",
       "    .dataframe tbody tr th:only-of-type {\n",
       "        vertical-align: middle;\n",
       "    }\n",
       "\n",
       "    .dataframe tbody tr th {\n",
       "        vertical-align: top;\n",
       "    }\n",
       "\n",
       "    .dataframe thead th {\n",
       "        text-align: right;\n",
       "    }\n",
       "</style>\n",
       "<table border=\"1\" class=\"dataframe\">\n",
       "  <thead>\n",
       "    <tr style=\"text-align: right;\">\n",
       "      <th></th>\n",
       "      <th>Id</th>\n",
       "      <th>Predicted</th>\n",
       "    </tr>\n",
       "  </thead>\n",
       "  <tbody>\n",
       "    <tr>\n",
       "      <th>0</th>\n",
       "      <td>0</td>\n",
       "      <td>9.999983e-01</td>\n",
       "    </tr>\n",
       "    <tr>\n",
       "      <th>1</th>\n",
       "      <td>1</td>\n",
       "      <td>8.599497e-01</td>\n",
       "    </tr>\n",
       "    <tr>\n",
       "      <th>2</th>\n",
       "      <td>2</td>\n",
       "      <td>8.046627e-07</td>\n",
       "    </tr>\n",
       "    <tr>\n",
       "      <th>3</th>\n",
       "      <td>3</td>\n",
       "      <td>4.914441e-01</td>\n",
       "    </tr>\n",
       "    <tr>\n",
       "      <th>4</th>\n",
       "      <td>4</td>\n",
       "      <td>5.527620e-01</td>\n",
       "    </tr>\n",
       "    <tr>\n",
       "      <th>5</th>\n",
       "      <td>5</td>\n",
       "      <td>1.309122e-01</td>\n",
       "    </tr>\n",
       "    <tr>\n",
       "      <th>6</th>\n",
       "      <td>6</td>\n",
       "      <td>6.258488e-07</td>\n",
       "    </tr>\n",
       "    <tr>\n",
       "      <th>7</th>\n",
       "      <td>7</td>\n",
       "      <td>6.560699e-01</td>\n",
       "    </tr>\n",
       "    <tr>\n",
       "      <th>8</th>\n",
       "      <td>8</td>\n",
       "      <td>9.999983e-01</td>\n",
       "    </tr>\n",
       "    <tr>\n",
       "      <th>9</th>\n",
       "      <td>9</td>\n",
       "      <td>9.997185e-01</td>\n",
       "    </tr>\n",
       "    <tr>\n",
       "      <th>10</th>\n",
       "      <td>10</td>\n",
       "      <td>3.565276e-02</td>\n",
       "    </tr>\n",
       "    <tr>\n",
       "      <th>11</th>\n",
       "      <td>11</td>\n",
       "      <td>9.999983e-01</td>\n",
       "    </tr>\n",
       "    <tr>\n",
       "      <th>12</th>\n",
       "      <td>12</td>\n",
       "      <td>2.898459e-01</td>\n",
       "    </tr>\n",
       "    <tr>\n",
       "      <th>13</th>\n",
       "      <td>13</td>\n",
       "      <td>2.153803e-01</td>\n",
       "    </tr>\n",
       "    <tr>\n",
       "      <th>14</th>\n",
       "      <td>14</td>\n",
       "      <td>1.192093e-07</td>\n",
       "    </tr>\n",
       "    <tr>\n",
       "      <th>15</th>\n",
       "      <td>15</td>\n",
       "      <td>8.194745e-04</td>\n",
       "    </tr>\n",
       "    <tr>\n",
       "      <th>16</th>\n",
       "      <td>16</td>\n",
       "      <td>2.608177e-02</td>\n",
       "    </tr>\n",
       "    <tr>\n",
       "      <th>17</th>\n",
       "      <td>17</td>\n",
       "      <td>9.999496e-01</td>\n",
       "    </tr>\n",
       "    <tr>\n",
       "      <th>18</th>\n",
       "      <td>18</td>\n",
       "      <td>1.697375e-01</td>\n",
       "    </tr>\n",
       "    <tr>\n",
       "      <th>19</th>\n",
       "      <td>19</td>\n",
       "      <td>3.314018e-05</td>\n",
       "    </tr>\n",
       "    <tr>\n",
       "      <th>20</th>\n",
       "      <td>20</td>\n",
       "      <td>9.999889e-01</td>\n",
       "    </tr>\n",
       "    <tr>\n",
       "      <th>21</th>\n",
       "      <td>21</td>\n",
       "      <td>3.314018e-05</td>\n",
       "    </tr>\n",
       "    <tr>\n",
       "      <th>22</th>\n",
       "      <td>22</td>\n",
       "      <td>2.608177e-02</td>\n",
       "    </tr>\n",
       "    <tr>\n",
       "      <th>23</th>\n",
       "      <td>23</td>\n",
       "      <td>9.999983e-01</td>\n",
       "    </tr>\n",
       "    <tr>\n",
       "      <th>24</th>\n",
       "      <td>24</td>\n",
       "      <td>9.990842e-01</td>\n",
       "    </tr>\n",
       "    <tr>\n",
       "      <th>25</th>\n",
       "      <td>25</td>\n",
       "      <td>3.314018e-05</td>\n",
       "    </tr>\n",
       "    <tr>\n",
       "      <th>26</th>\n",
       "      <td>26</td>\n",
       "      <td>2.608177e-02</td>\n",
       "    </tr>\n",
       "    <tr>\n",
       "      <th>27</th>\n",
       "      <td>27</td>\n",
       "      <td>6.258488e-07</td>\n",
       "    </tr>\n",
       "    <tr>\n",
       "      <th>28</th>\n",
       "      <td>28</td>\n",
       "      <td>4.412594e-01</td>\n",
       "    </tr>\n",
       "    <tr>\n",
       "      <th>29</th>\n",
       "      <td>29</td>\n",
       "      <td>2.608177e-02</td>\n",
       "    </tr>\n",
       "    <tr>\n",
       "      <th>...</th>\n",
       "      <td>...</td>\n",
       "      <td>...</td>\n",
       "    </tr>\n",
       "    <tr>\n",
       "      <th>6021</th>\n",
       "      <td>6021</td>\n",
       "      <td>8.505285e-04</td>\n",
       "    </tr>\n",
       "    <tr>\n",
       "      <th>6022</th>\n",
       "      <td>6022</td>\n",
       "      <td>2.608177e-02</td>\n",
       "    </tr>\n",
       "    <tr>\n",
       "      <th>6023</th>\n",
       "      <td>6023</td>\n",
       "      <td>8.412021e-01</td>\n",
       "    </tr>\n",
       "    <tr>\n",
       "      <th>6024</th>\n",
       "      <td>6024</td>\n",
       "      <td>9.999983e-01</td>\n",
       "    </tr>\n",
       "    <tr>\n",
       "      <th>6025</th>\n",
       "      <td>6025</td>\n",
       "      <td>9.982126e-01</td>\n",
       "    </tr>\n",
       "    <tr>\n",
       "      <th>6026</th>\n",
       "      <td>6026</td>\n",
       "      <td>1.309122e-01</td>\n",
       "    </tr>\n",
       "    <tr>\n",
       "      <th>6027</th>\n",
       "      <td>6027</td>\n",
       "      <td>7.855043e-01</td>\n",
       "    </tr>\n",
       "    <tr>\n",
       "      <th>6028</th>\n",
       "      <td>6028</td>\n",
       "      <td>9.999983e-01</td>\n",
       "    </tr>\n",
       "    <tr>\n",
       "      <th>6029</th>\n",
       "      <td>6029</td>\n",
       "      <td>6.258488e-07</td>\n",
       "    </tr>\n",
       "    <tr>\n",
       "      <th>6030</th>\n",
       "      <td>6030</td>\n",
       "      <td>9.994670e-01</td>\n",
       "    </tr>\n",
       "    <tr>\n",
       "      <th>6031</th>\n",
       "      <td>6031</td>\n",
       "      <td>9.668782e-01</td>\n",
       "    </tr>\n",
       "    <tr>\n",
       "      <th>6032</th>\n",
       "      <td>6032</td>\n",
       "      <td>9.524809e-01</td>\n",
       "    </tr>\n",
       "    <tr>\n",
       "      <th>6033</th>\n",
       "      <td>6033</td>\n",
       "      <td>9.882932e-01</td>\n",
       "    </tr>\n",
       "    <tr>\n",
       "      <th>6034</th>\n",
       "      <td>6034</td>\n",
       "      <td>2.608177e-02</td>\n",
       "    </tr>\n",
       "    <tr>\n",
       "      <th>6035</th>\n",
       "      <td>6035</td>\n",
       "      <td>1.475796e-02</td>\n",
       "    </tr>\n",
       "    <tr>\n",
       "      <th>6036</th>\n",
       "      <td>6036</td>\n",
       "      <td>3.314018e-05</td>\n",
       "    </tr>\n",
       "    <tr>\n",
       "      <th>6037</th>\n",
       "      <td>6037</td>\n",
       "      <td>9.999902e-01</td>\n",
       "    </tr>\n",
       "    <tr>\n",
       "      <th>6038</th>\n",
       "      <td>6038</td>\n",
       "      <td>2.608177e-02</td>\n",
       "    </tr>\n",
       "    <tr>\n",
       "      <th>6039</th>\n",
       "      <td>6039</td>\n",
       "      <td>9.727776e-01</td>\n",
       "    </tr>\n",
       "    <tr>\n",
       "      <th>6040</th>\n",
       "      <td>6040</td>\n",
       "      <td>6.258488e-07</td>\n",
       "    </tr>\n",
       "    <tr>\n",
       "      <th>6041</th>\n",
       "      <td>6041</td>\n",
       "      <td>7.193089e-04</td>\n",
       "    </tr>\n",
       "    <tr>\n",
       "      <th>6042</th>\n",
       "      <td>6042</td>\n",
       "      <td>3.314018e-05</td>\n",
       "    </tr>\n",
       "    <tr>\n",
       "      <th>6043</th>\n",
       "      <td>6043</td>\n",
       "      <td>1.192093e-07</td>\n",
       "    </tr>\n",
       "    <tr>\n",
       "      <th>6044</th>\n",
       "      <td>6044</td>\n",
       "      <td>3.314018e-05</td>\n",
       "    </tr>\n",
       "    <tr>\n",
       "      <th>6045</th>\n",
       "      <td>6045</td>\n",
       "      <td>9.077488e-01</td>\n",
       "    </tr>\n",
       "    <tr>\n",
       "      <th>6046</th>\n",
       "      <td>6046</td>\n",
       "      <td>7.560754e-01</td>\n",
       "    </tr>\n",
       "    <tr>\n",
       "      <th>6047</th>\n",
       "      <td>6047</td>\n",
       "      <td>9.993109e-01</td>\n",
       "    </tr>\n",
       "    <tr>\n",
       "      <th>6048</th>\n",
       "      <td>6048</td>\n",
       "      <td>6.018331e-07</td>\n",
       "    </tr>\n",
       "    <tr>\n",
       "      <th>6049</th>\n",
       "      <td>6049</td>\n",
       "      <td>2.351201e-01</td>\n",
       "    </tr>\n",
       "    <tr>\n",
       "      <th>6050</th>\n",
       "      <td>6050</td>\n",
       "      <td>6.018331e-07</td>\n",
       "    </tr>\n",
       "  </tbody>\n",
       "</table>\n",
       "<p>6051 rows × 2 columns</p>\n",
       "</div>"
      ],
      "text/plain": [
       "        Id     Predicted\n",
       "0        0  9.999983e-01\n",
       "1        1  8.599497e-01\n",
       "2        2  8.046627e-07\n",
       "3        3  4.914441e-01\n",
       "4        4  5.527620e-01\n",
       "5        5  1.309122e-01\n",
       "6        6  6.258488e-07\n",
       "7        7  6.560699e-01\n",
       "8        8  9.999983e-01\n",
       "9        9  9.997185e-01\n",
       "10      10  3.565276e-02\n",
       "11      11  9.999983e-01\n",
       "12      12  2.898459e-01\n",
       "13      13  2.153803e-01\n",
       "14      14  1.192093e-07\n",
       "15      15  8.194745e-04\n",
       "16      16  2.608177e-02\n",
       "17      17  9.999496e-01\n",
       "18      18  1.697375e-01\n",
       "19      19  3.314018e-05\n",
       "20      20  9.999889e-01\n",
       "21      21  3.314018e-05\n",
       "22      22  2.608177e-02\n",
       "23      23  9.999983e-01\n",
       "24      24  9.990842e-01\n",
       "25      25  3.314018e-05\n",
       "26      26  2.608177e-02\n",
       "27      27  6.258488e-07\n",
       "28      28  4.412594e-01\n",
       "29      29  2.608177e-02\n",
       "...    ...           ...\n",
       "6021  6021  8.505285e-04\n",
       "6022  6022  2.608177e-02\n",
       "6023  6023  8.412021e-01\n",
       "6024  6024  9.999983e-01\n",
       "6025  6025  9.982126e-01\n",
       "6026  6026  1.309122e-01\n",
       "6027  6027  7.855043e-01\n",
       "6028  6028  9.999983e-01\n",
       "6029  6029  6.258488e-07\n",
       "6030  6030  9.994670e-01\n",
       "6031  6031  9.668782e-01\n",
       "6032  6032  9.524809e-01\n",
       "6033  6033  9.882932e-01\n",
       "6034  6034  2.608177e-02\n",
       "6035  6035  1.475796e-02\n",
       "6036  6036  3.314018e-05\n",
       "6037  6037  9.999902e-01\n",
       "6038  6038  2.608177e-02\n",
       "6039  6039  9.727776e-01\n",
       "6040  6040  6.258488e-07\n",
       "6041  6041  7.193089e-04\n",
       "6042  6042  3.314018e-05\n",
       "6043  6043  1.192093e-07\n",
       "6044  6044  3.314018e-05\n",
       "6045  6045  9.077488e-01\n",
       "6046  6046  7.560754e-01\n",
       "6047  6047  9.993109e-01\n",
       "6048  6048  6.018331e-07\n",
       "6049  6049  2.351201e-01\n",
       "6050  6050  6.018331e-07\n",
       "\n",
       "[6051 rows x 2 columns]"
      ]
     },
     "execution_count": 46,
     "metadata": {},
     "output_type": "execute_result"
    }
   ],
   "source": [
    "YTest = model.predict(XTest)\n",
    "df_test['Predicted'] = YTest[:, 0]\n",
    "df_test"
   ]
  },
  {
   "cell_type": "code",
   "execution_count": 47,
   "metadata": {},
   "outputs": [],
   "source": [
    "df_test.to_csv('test.csv', index=False)"
   ]
  },
  {
   "cell_type": "code",
   "execution_count": null,
   "metadata": {},
   "outputs": [],
   "source": []
  }
 ],
 "metadata": {
  "kernelspec": {
   "display_name": "Python 3",
   "language": "python",
   "name": "python3"
  },
  "language_info": {
   "codemirror_mode": {
    "name": "ipython",
    "version": 3
   },
   "file_extension": ".py",
   "mimetype": "text/x-python",
   "name": "python",
   "nbconvert_exporter": "python",
   "pygments_lexer": "ipython3",
   "version": "3.6.9"
  }
 },
 "nbformat": 4,
 "nbformat_minor": 2
}
