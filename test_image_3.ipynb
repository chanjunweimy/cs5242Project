{
 "cells": [
  {
   "cell_type": "markdown",
   "metadata": {},
   "source": [
    "## Convert time series to image \n",
    "Based on https://gist.github.com/oguiza/c9c373aec07b96047d1ba484f23b7b47\n",
    "and https://www.tensorflow.org/tutorials/load_data/images\n",
    "and https://www.tensorflow.org/tutorials/images/transfer_learning"
   ]
  },
  {
   "cell_type": "code",
   "execution_count": 4,
   "metadata": {},
   "outputs": [],
   "source": [
    "%config IPCompleter.greedy=True\n",
    "%matplotlib inline\n",
    "\n",
    "import warnings\n",
    "warnings.filterwarnings(\"ignore\")\n",
    "\n",
    "import pandas as pd\n",
    "import numpy as np\n",
    "from sklearn.preprocessing import minmax_scale\n",
    "\n",
    "df_train = pd.read_csv('train_kaggle.csv')\n",
    "df_test = pd.read_csv('sample_solution.csv')\n",
    "Y = df_train['Label'].values"
   ]
  },
  {
   "cell_type": "code",
   "execution_count": 2,
   "metadata": {},
   "outputs": [],
   "source": [
    "dataframes = np.load('allData.npy', allow_pickle = True)\n",
    "\n",
    "def load_test_dataframe(id):\n",
    "    test_data = np.load(\"test/test/{}.npy\".format(id))\n",
    "    return test_data\n",
    "\n",
    "\n",
    "for i in range(len(dataframes)):\n",
    "    dataframes[i] = minmax_scale(dataframes[i])\n",
    "\n",
    "testdatas = []\n",
    "for id in df_test['Id']:\n",
    "    dfi = minmax_scale(load_test_dataframe(id))\n",
    "    testdatas.append(dfi)"
   ]
  },
  {
   "cell_type": "code",
   "execution_count": 3,
   "metadata": {},
   "outputs": [],
   "source": [
    "from pyts.multivariate.image import JointRecurrencePlot\n",
    "from tqdm import tqdm\n",
    "\n",
    "transformer = JointRecurrencePlot()\n",
    "def convert_to_image(dfs):\n",
    "    data = []\n",
    "    for i in tqdm(range(len(dfs))):\n",
    "        df = transformer.transform(dfs[i].reshape(1,dfs[i].shape[0],dfs[i].shape[1]))\n",
    "        data.append(df)\n",
    "    data = np.stack(data)\n",
    "    return data"
   ]
  },
  {
   "cell_type": "code",
   "execution_count": 4,
   "metadata": {},
   "outputs": [
    {
     "name": "stderr",
     "output_type": "stream",
     "text": [
      "100%|█████████████████████████████████████████████████| 18662/18662 [1:19:13<00:00,  3.93it/s]\n"
     ]
    }
   ],
   "source": [
    "XTrain = convert_to_image(dataframes)"
   ]
  },
  {
   "cell_type": "code",
   "execution_count": 5,
   "metadata": {},
   "outputs": [
    {
     "name": "stderr",
     "output_type": "stream",
     "text": [
      "100%|█████████████████████████████████████████████████████| 6051/6051 [19:24<00:00,  5.19it/s]\n"
     ]
    }
   ],
   "source": [
    "XTest = convert_to_image(testdatas)"
   ]
  },
  {
   "cell_type": "code",
   "execution_count": 6,
   "metadata": {},
   "outputs": [
    {
     "data": {
      "image/png": "[encoded data removed]",
      "text/plain": [
       "<Figure size 432x432 with 1 Axes>"
      ]
     },
     "metadata": {
      "needs_background": "light"
     },
     "output_type": "display_data"
    }
   ],
   "source": [
    "import matplotlib.pyplot as plt\n",
    "\n",
    "plt.figure(figsize=(6, 6))\n",
    "plt.imshow(XTrain[0][0], cmap='binary', origin='lower')\n",
    "plt.title('Joint Recurrence Plot', fontsize=18)\n",
    "plt.show()"
   ]
  },
  {
   "cell_type": "code",
   "execution_count": 7,
   "metadata": {},
   "outputs": [
    {
     "data": {
      "image/png": "[encoded data removed]",
      "text/plain": [
       "<Figure size 432x432 with 1 Axes>"
      ]
     },
     "metadata": {
      "needs_background": "light"
     },
     "output_type": "display_data"
    }
   ],
   "source": [
    "plt.figure(figsize=(6, 6))\n",
    "plt.imshow(XTrain[1][0], cmap='binary', origin='lower')\n",
    "plt.title('Joint Recurrence Plot', fontsize=18)\n",
    "plt.show()"
   ]
  },
  {
   "cell_type": "code",
   "execution_count": 8,
   "metadata": {},
   "outputs": [],
   "source": [
    "np.save('XTrain_image.npy', XTrain)"
   ]
  },
  {
   "cell_type": "code",
   "execution_count": 9,
   "metadata": {},
   "outputs": [],
   "source": [
    "np.save('XTest_image.npy', XTest)"
   ]
  },
  {
   "cell_type": "code",
   "execution_count": 5,
   "metadata": {},
   "outputs": [],
   "source": [
    "XTrain = np.load('XTrain_image.npy', allow_pickle = True)\n",
    "XTest = np.load('XTest_image.npy', allow_pickle = True)"
   ]
  },
  {
   "cell_type": "code",
   "execution_count": 6,
   "metadata": {},
   "outputs": [
    {
     "data": {
      "text/plain": [
       "(18662, 102, 102)"
      ]
     },
     "execution_count": 6,
     "metadata": {},
     "output_type": "execute_result"
    }
   ],
   "source": [
    "XTrain = XTrain.reshape((XTrain.shape[0], XTrain.shape[2], XTrain.shape[3]))\n",
    "XTrain.shape"
   ]
  },
  {
   "cell_type": "code",
   "execution_count": 7,
   "metadata": {},
   "outputs": [
    {
     "data": {
      "text/plain": [
       "(6051, 102, 102)"
      ]
     },
     "execution_count": 7,
     "metadata": {},
     "output_type": "execute_result"
    }
   ],
   "source": [
    "XTest = XTest.reshape((XTest.shape[0], XTest.shape[2], XTest.shape[3]))\n",
    "XTest.shape"
   ]
  },
  {
   "cell_type": "code",
   "execution_count": 8,
   "metadata": {},
   "outputs": [],
   "source": [
    "from sklearn.model_selection import train_test_split\n",
    "\n",
    "X_train, X_val, y_train, y_val = train_test_split(XTrain, Y, test_size=0.2, random_state=42)"
   ]
  },
  {
   "cell_type": "markdown",
   "metadata": {},
   "source": [
    "### Use CNN"
   ]
  },
  {
   "cell_type": "code",
   "execution_count": 19,
   "metadata": {},
   "outputs": [
    {
     "name": "stdout",
     "output_type": "stream",
     "text": [
      "Model: \"model_2\"\n",
      "_________________________________________________________________\n",
      "Layer (type)                 Output Shape              Param #   \n",
      "=================================================================\n",
      "input_3 (InputLayer)         [(None, 102, 102)]        0         \n",
      "_________________________________________________________________\n",
      "tf_op_layer_Reshape_2 (Tenso [(None, 1, 102, 102)]     0         \n",
      "_________________________________________________________________\n",
      "conv2d_4 (Conv2D)            (None, 100, 100, 100)     1000      \n",
      "_________________________________________________________________\n",
      "max_pooling2d_4 (MaxPooling2 (None, 50, 50, 100)       0         \n",
      "_________________________________________________________________\n",
      "dropout_6 (Dropout)          (None, 50, 50, 100)       0         \n",
      "_________________________________________________________________\n",
      "conv2d_5 (Conv2D)            (None, 48, 48, 100)       90100     \n",
      "_________________________________________________________________\n",
      "max_pooling2d_5 (MaxPooling2 (None, 24, 24, 100)       0         \n",
      "_________________________________________________________________\n",
      "dropout_7 (Dropout)          (None, 24, 24, 100)       0         \n",
      "_________________________________________________________________\n",
      "flatten_2 (Flatten)          (None, 57600)             0         \n",
      "_________________________________________________________________\n",
      "dense_4 (Dense)              (None, 64)                3686464   \n",
      "_________________________________________________________________\n",
      "dropout_8 (Dropout)          (None, 64)                0         \n",
      "_________________________________________________________________\n",
      "dense_5 (Dense)              (None, 1)                 65        \n",
      "=================================================================\n",
      "Total params: 3,777,629\n",
      "Trainable params: 3,777,629\n",
      "Non-trainable params: 0\n",
      "_________________________________________________________________\n"
     ]
    }
   ],
   "source": [
    "import tensorflow as tf\n",
    "from tensorflow import keras\n",
    "\n",
    "METRICS = [\n",
    "      keras.metrics.BinaryAccuracy(name='accuracy'),\n",
    "      keras.metrics.AUC(name='auc'),\n",
    "]\n",
    "\n",
    "inputs = keras.Input(shape=(XTrain.shape[1], XTrain.shape[2])) \n",
    "x = tf.reshape(inputs, (-1, 1, XTrain.shape[1], XTrain.shape[2]))\n",
    "x = keras.layers.Convolution2D(100, (3, 3), activation='relu', data_format='channels_first')(x)\n",
    "x = keras.layers.MaxPooling2D(pool_size=(2,2))(x)\n",
    "x = keras.layers.Dropout(0.25)(x)\n",
    "x = keras.layers.Convolution2D(100, (3, 3),activation='relu')(x)\n",
    "x = keras.layers.MaxPooling2D(pool_size=(2,2))(x)\n",
    "x = keras.layers.Dropout(0.25)(x)\n",
    "x = keras.layers.Flatten()(x)\n",
    "x = keras.layers.Dense(64, activation='relu')(x)\n",
    "x = keras.layers.Dropout(0.5)(x)\n",
    "x = keras.layers.Dense(1, activation='sigmoid')(x)\n",
    "\n",
    "model = keras.Model(inputs=inputs, outputs=x)\n",
    "\n",
    "model.compile(\n",
    "      optimizer=keras.optimizers.Adam(),\n",
    "      loss=keras.losses.BinaryCrossentropy(),\n",
    "      metrics=METRICS)\n",
    "\n",
    "early_stopping = tf.keras.callbacks.EarlyStopping(\n",
    "    monitor='val_auc', \n",
    "    verbose=1,\n",
    "    patience=10,\n",
    "    mode='max',\n",
    "    restore_best_weights=True)\n",
    "\n",
    "# Take a look at the model summary\n",
    "model.summary()"
   ]
  },
  {
   "cell_type": "code",
   "execution_count": 20,
   "metadata": {},
   "outputs": [
    {
     "name": "stdout",
     "output_type": "stream",
     "text": [
      "Train on 14929 samples, validate on 3733 samples\n",
      "Epoch 1/100\n"
     ]
    },
    {
     "name": "stdout",
     "output_type": "stream",
     "text": [
      " 4320/14929 [=======>......................] - ETA: 29:24 - loss: 0.6939 - accuracy: 0.4375 - auc: 0.394 - ETA: 22:27 - loss: 0.6912 - accuracy: 0.4844 - auc: 0.564 - ETA: 20:09 - loss: 0.6825 - accuracy: 0.5521 - auc: 0.613 - ETA: 18:54 - loss: 0.6796 - accuracy: 0.5703 - auc: 0.614 - ETA: 18:24 - loss: 0.6592 - accuracy: 0.6000 - auc: 0.658 - ETA: 18:06 - loss: 0.6620 - accuracy: 0.5938 - auc: 0.652 - ETA: 17:42 - loss: 0.6619 - accuracy: 0.5804 - auc: 0.639 - ETA: 17:32 - loss: 0.6549 - accuracy: 0.5977 - auc: 0.653 - ETA: 17:22 - loss: 0.6486 - accuracy: 0.6181 - auc: 0.679 - ETA: 17:08 - loss: 0.6364 - accuracy: 0.6344 - auc: 0.692 - ETA: 17:02 - loss: 0.6376 - accuracy: 0.6392 - auc: 0.687 - ETA: 17:04 - loss: 0.6265 - accuracy: 0.6510 - auc: 0.699 - ETA: 17:01 - loss: 0.6216 - accuracy: 0.6538 - auc: 0.698 - ETA: 16:56 - loss: 0.6080 - accuracy: 0.6652 - auc: 0.712 - ETA: 16:54 - loss: 0.5964 - accuracy: 0.6646 - auc: 0.721 - ETA: 16:48 - loss: 0.5940 - accuracy: 0.6680 - auc: 0.720 - ETA: 16:41 - loss: 0.5856 - accuracy: 0.6765 - auc: 0.730 - ETA: 16:34 - loss: 0.5824 - accuracy: 0.6806 - auc: 0.732 - ETA: 16:29 - loss: 0.5711 - accuracy: 0.6908 - auc: 0.743 - ETA: 16:25 - loss: 0.5680 - accuracy: 0.6953 - auc: 0.747 - ETA: 16:21 - loss: 0.5718 - accuracy: 0.6949 - auc: 0.744 - ETA: 16:16 - loss: 0.5736 - accuracy: 0.6960 - auc: 0.742 - ETA: 16:15 - loss: 0.5686 - accuracy: 0.6997 - auc: 0.748 - ETA: 16:10 - loss: 0.5625 - accuracy: 0.7044 - auc: 0.753 - ETA: 16:07 - loss: 0.5569 - accuracy: 0.7075 - auc: 0.756 - ETA: 16:02 - loss: 0.5592 - accuracy: 0.7067 - auc: 0.753 - ETA: 15:58 - loss: 0.5524 - accuracy: 0.7118 - auc: 0.758 - ETA: 15:54 - loss: 0.5460 - accuracy: 0.7176 - auc: 0.765 - ETA: 15:50 - loss: 0.5428 - accuracy: 0.7198 - auc: 0.768 - ETA: 15:45 - loss: 0.5435 - accuracy: 0.7229 - auc: 0.771 - ETA: 15:41 - loss: 0.5452 - accuracy: 0.7218 - auc: 0.768 - ETA: 15:37 - loss: 0.5414 - accuracy: 0.7236 - auc: 0.770 - ETA: 15:35 - loss: 0.5366 - accuracy: 0.7292 - auc: 0.775 - ETA: 15:33 - loss: 0.5382 - accuracy: 0.7270 - auc: 0.772 - ETA: 15:39 - loss: 0.5335 - accuracy: 0.7304 - auc: 0.776 - ETA: 15:39 - loss: 0.5372 - accuracy: 0.7292 - auc: 0.772 - ETA: 15:37 - loss: 0.5375 - accuracy: 0.7297 - auc: 0.773 - ETA: 15:35 - loss: 0.5344 - accuracy: 0.7311 - auc: 0.775 - ETA: 15:32 - loss: 0.5348 - accuracy: 0.7316 - auc: 0.773 - ETA: 15:29 - loss: 0.5347 - accuracy: 0.7312 - auc: 0.772 - ETA: 15:26 - loss: 0.5329 - accuracy: 0.7332 - auc: 0.774 - ETA: 15:23 - loss: 0.5317 - accuracy: 0.7329 - auc: 0.775 - ETA: 15:20 - loss: 0.5276 - accuracy: 0.7369 - auc: 0.779 - ETA: 15:17 - loss: 0.5234 - accuracy: 0.7401 - auc: 0.782 - ETA: 15:13 - loss: 0.5202 - accuracy: 0.7431 - auc: 0.786 - ETA: 15:10 - loss: 0.5164 - accuracy: 0.7459 - auc: 0.790 - ETA: 15:07 - loss: 0.5120 - accuracy: 0.7480 - auc: 0.794 - ETA: 15:04 - loss: 0.5143 - accuracy: 0.7480 - auc: 0.792 - ETA: 15:01 - loss: 0.5111 - accuracy: 0.7500 - auc: 0.794 - ETA: 14:58 - loss: 0.5169 - accuracy: 0.7475 - auc: 0.789 - ETA: 14:55 - loss: 0.5182 - accuracy: 0.7469 - auc: 0.787 - ETA: 14:52 - loss: 0.5172 - accuracy: 0.7482 - auc: 0.787 - ETA: 14:48 - loss: 0.5148 - accuracy: 0.7488 - auc: 0.789 - ETA: 14:45 - loss: 0.5155 - accuracy: 0.7488 - auc: 0.790 - ETA: 14:42 - loss: 0.5156 - accuracy: 0.7494 - auc: 0.791 - ETA: 14:39 - loss: 0.5128 - accuracy: 0.7511 - auc: 0.793 - ETA: 14:36 - loss: 0.5101 - accuracy: 0.7527 - auc: 0.795 - ETA: 14:33 - loss: 0.5091 - accuracy: 0.7543 - auc: 0.796 - ETA: 14:31 - loss: 0.5077 - accuracy: 0.7558 - auc: 0.797 - ETA: 14:28 - loss: 0.5068 - accuracy: 0.7568 - auc: 0.797 - ETA: 14:26 - loss: 0.5070 - accuracy: 0.7577 - auc: 0.796 - ETA: 14:24 - loss: 0.5052 - accuracy: 0.7586 - auc: 0.798 - ETA: 14:21 - loss: 0.5046 - accuracy: 0.7589 - auc: 0.798 - ETA: 14:18 - loss: 0.5034 - accuracy: 0.7603 - auc: 0.800 - ETA: 14:16 - loss: 0.5034 - accuracy: 0.7606 - auc: 0.799 - ETA: 14:14 - loss: 0.4981 - accuracy: 0.7642 - auc: 0.804 - ETA: 14:12 - loss: 0.4985 - accuracy: 0.7645 - auc: 0.803 - ETA: 14:10 - loss: 0.4998 - accuracy: 0.7638 - auc: 0.803 - ETA: 14:08 - loss: 0.4975 - accuracy: 0.7649 - auc: 0.804 - ETA: 14:05 - loss: 0.4948 - accuracy: 0.7661 - auc: 0.806 - ETA: 14:03 - loss: 0.4936 - accuracy: 0.7676 - auc: 0.807 - ETA: 14:00 - loss: 0.4922 - accuracy: 0.7682 - auc: 0.808 - ETA: 13:58 - loss: 0.4909 - accuracy: 0.7693 - auc: 0.809 - ETA: 13:55 - loss: 0.4898 - accuracy: 0.7698 - auc: 0.810 - ETA: 13:54 - loss: 0.4878 - accuracy: 0.7713 - auc: 0.812 - ETA: 13:52 - loss: 0.4862 - accuracy: 0.7722 - auc: 0.813 - ETA: 13:50 - loss: 0.4849 - accuracy: 0.7731 - auc: 0.814 - ETA: 13:47 - loss: 0.4843 - accuracy: 0.7732 - auc: 0.814 - ETA: 13:45 - loss: 0.4855 - accuracy: 0.7725 - auc: 0.812 - ETA: 13:43 - loss: 0.4841 - accuracy: 0.7730 - auc: 0.813 - ETA: 13:41 - loss: 0.4840 - accuracy: 0.7731 - auc: 0.814 - ETA: 13:39 - loss: 0.4810 - accuracy: 0.7748 - auc: 0.816 - ETA: 13:36 - loss: 0.4800 - accuracy: 0.7752 - auc: 0.817 - ETA: 13:33 - loss: 0.4803 - accuracy: 0.7753 - auc: 0.817 - ETA: 13:31 - loss: 0.4795 - accuracy: 0.7761 - auc: 0.817 - ETA: 13:28 - loss: 0.4780 - accuracy: 0.7769 - auc: 0.818 - ETA: 13:26 - loss: 0.4761 - accuracy: 0.7780 - auc: 0.820 - ETA: 13:23 - loss: 0.4765 - accuracy: 0.7777 - auc: 0.819 - ETA: 13:21 - loss: 0.4753 - accuracy: 0.7788 - auc: 0.820 - ETA: 13:19 - loss: 0.4748 - accuracy: 0.7795 - auc: 0.821 - ETA: 13:17 - loss: 0.4742 - accuracy: 0.7795 - auc: 0.820 - ETA: 13:15 - loss: 0.4758 - accuracy: 0.7792 - auc: 0.819 - ETA: 13:12 - loss: 0.4763 - accuracy: 0.7796 - auc: 0.818 - ETA: 13:09 - loss: 0.4762 - accuracy: 0.7793 - auc: 0.818 - ETA: 13:07 - loss: 0.4766 - accuracy: 0.7789 - auc: 0.818 - ETA: 13:04 - loss: 0.4778 - accuracy: 0.7780 - auc: 0.817 - ETA: 13:03 - loss: 0.4769 - accuracy: 0.7784 - auc: 0.817 - ETA: 13:00 - loss: 0.4773 - accuracy: 0.7781 - auc: 0.817 - ETA: 12:59 - loss: 0.4795 - accuracy: 0.7759 - auc: 0.815 - ETA: 12:57 - loss: 0.4796 - accuracy: 0.7756 - auc: 0.815 - ETA: 12:55 - loss: 0.4793 - accuracy: 0.7760 - auc: 0.815 - ETA: 12:52 - loss: 0.4803 - accuracy: 0.7757 - auc: 0.815 - ETA: 12:50 - loss: 0.4797 - accuracy: 0.7764 - auc: 0.815 - ETA: 12:47 - loss: 0.4796 - accuracy: 0.7767 - auc: 0.815 - ETA: 12:45 - loss: 0.4793 - accuracy: 0.7771 - auc: 0.815 - ETA: 12:43 - loss: 0.4785 - accuracy: 0.7780 - auc: 0.816 - ETA: 12:41 - loss: 0.4787 - accuracy: 0.7780 - auc: 0.816 - ETA: 12:38 - loss: 0.4789 - accuracy: 0.7784 - auc: 0.816 - ETA: 12:36 - loss: 0.4787 - accuracy: 0.7781 - auc: 0.816 - ETA: 12:34 - loss: 0.4780 - accuracy: 0.7787 - auc: 0.816 - ETA: 12:31 - loss: 0.4784 - accuracy: 0.7784 - auc: 0.816 - ETA: 12:29 - loss: 0.4781 - accuracy: 0.7790 - auc: 0.816 - ETA: 12:26 - loss: 0.4778 - accuracy: 0.7804 - auc: 0.816 - ETA: 12:24 - loss: 0.4784 - accuracy: 0.7802 - auc: 0.816 - ETA: 12:22 - loss: 0.4792 - accuracy: 0.7802 - auc: 0.815 - ETA: 12:20 - loss: 0.4781 - accuracy: 0.7807 - auc: 0.816 - ETA: 12:17 - loss: 0.4766 - accuracy: 0.7821 - auc: 0.817 - ETA: 12:15 - loss: 0.4776 - accuracy: 0.7818 - auc: 0.817 - ETA: 12:13 - loss: 0.4769 - accuracy: 0.7820 - auc: 0.818 - ETA: 12:10 - loss: 0.4758 - accuracy: 0.7826 - auc: 0.819 - ETA: 12:08 - loss: 0.4758 - accuracy: 0.7825 - auc: 0.818 - ETA: 12:06 - loss: 0.4742 - accuracy: 0.7836 - auc: 0.820 - ETA: 12:03 - loss: 0.4746 - accuracy: 0.7835 - auc: 0.819 - ETA: 12:01 - loss: 0.4743 - accuracy: 0.7838 - auc: 0.820 - ETA: 11:59 - loss: 0.4754 - accuracy: 0.7825 - auc: 0.818 - ETA: 11:56 - loss: 0.4750 - accuracy: 0.7825 - auc: 0.818 - ETA: 11:54 - loss: 0.4737 - accuracy: 0.7830 - auc: 0.819 - ETA: 11:52 - loss: 0.4734 - accuracy: 0.7830 - auc: 0.820 - ETA: 11:50 - loss: 0.4724 - accuracy: 0.7832 - auc: 0.820 - ETA: 11:48 - loss: 0.4727 - accuracy: 0.7827 - auc: 0.820 - ETA: 11:47 - loss: 0.4736 - accuracy: 0.7822 - auc: 0.820 - ETA: 11:45 - loss: 0.4748 - accuracy: 0.7810 - auc: 0.820 - ETA: 11:43 - loss: 0.4758 - accuracy: 0.7810 - auc: 0.820 - ETA: 11:41 - loss: 0.4753 - accuracy: 0.7808 - auc: 0.820 - ETA: 11:39 - loss: 0.4739 - accuracy: 0.7810 - auc: 0.822 8768/14929 [================>.............] - ETA: 11:38 - loss: 0.4734 - accuracy: 0.7817 - auc: 0.822 - ETA: 11:36 - loss: 0.4746 - accuracy: 0.7815 - auc: 0.821 - ETA: 11:35 - loss: 0.4743 - accuracy: 0.7819 - auc: 0.821 - ETA: 11:34 - loss: 0.4742 - accuracy: 0.7824 - auc: 0.822 - ETA: 11:33 - loss: 0.4749 - accuracy: 0.7821 - auc: 0.822 - ETA: 11:30 - loss: 0.4742 - accuracy: 0.7828 - auc: 0.822 - ETA: 11:28 - loss: 0.4745 - accuracy: 0.7826 - auc: 0.822 - ETA: 11:26 - loss: 0.4741 - accuracy: 0.7826 - auc: 0.822 - ETA: 11:24 - loss: 0.4739 - accuracy: 0.7830 - auc: 0.823 - ETA: 11:22 - loss: 0.4733 - accuracy: 0.7832 - auc: 0.823 - ETA: 11:20 - loss: 0.4733 - accuracy: 0.7830 - auc: 0.823 - ETA: 11:17 - loss: 0.4723 - accuracy: 0.7838 - auc: 0.823 - ETA: 11:15 - loss: 0.4726 - accuracy: 0.7836 - auc: 0.823 - ETA: 11:13 - loss: 0.4723 - accuracy: 0.7833 - auc: 0.823 - ETA: 11:11 - loss: 0.4721 - accuracy: 0.7833 - auc: 0.823 - ETA: 11:09 - loss: 0.4712 - accuracy: 0.7839 - auc: 0.824 - ETA: 11:06 - loss: 0.4714 - accuracy: 0.7837 - auc: 0.823 - ETA: 11:05 - loss: 0.4714 - accuracy: 0.7837 - auc: 0.823 - ETA: 11:02 - loss: 0.4713 - accuracy: 0.7841 - auc: 0.823 - ETA: 11:01 - loss: 0.4705 - accuracy: 0.7845 - auc: 0.823 - ETA: 10:59 - loss: 0.4697 - accuracy: 0.7849 - auc: 0.824 - ETA: 10:57 - loss: 0.4698 - accuracy: 0.7848 - auc: 0.823 - ETA: 10:55 - loss: 0.4695 - accuracy: 0.7852 - auc: 0.823 - ETA: 10:54 - loss: 0.4700 - accuracy: 0.7850 - auc: 0.822 - ETA: 10:52 - loss: 0.4692 - accuracy: 0.7855 - auc: 0.823 - ETA: 10:50 - loss: 0.4682 - accuracy: 0.7861 - auc: 0.824 - ETA: 10:48 - loss: 0.4681 - accuracy: 0.7863 - auc: 0.824 - ETA: 10:46 - loss: 0.4677 - accuracy: 0.7866 - auc: 0.824 - ETA: 10:43 - loss: 0.4672 - accuracy: 0.7868 - auc: 0.824 - ETA: 10:41 - loss: 0.4659 - accuracy: 0.7873 - auc: 0.825 - ETA: 10:39 - loss: 0.4659 - accuracy: 0.7873 - auc: 0.825 - ETA: 10:37 - loss: 0.4641 - accuracy: 0.7885 - auc: 0.827 - ETA: 10:34 - loss: 0.4635 - accuracy: 0.7889 - auc: 0.827 - ETA: 10:32 - loss: 0.4638 - accuracy: 0.7888 - auc: 0.826 - ETA: 10:30 - loss: 0.4635 - accuracy: 0.7890 - auc: 0.827 - ETA: 10:28 - loss: 0.4627 - accuracy: 0.7893 - auc: 0.827 - ETA: 10:26 - loss: 0.4634 - accuracy: 0.7891 - auc: 0.826 - ETA: 10:24 - loss: 0.4634 - accuracy: 0.7890 - auc: 0.826 - ETA: 10:21 - loss: 0.4623 - accuracy: 0.7899 - auc: 0.827 - ETA: 10:19 - loss: 0.4622 - accuracy: 0.7900 - auc: 0.827 - ETA: 10:17 - loss: 0.4618 - accuracy: 0.7900 - auc: 0.827 - ETA: 10:15 - loss: 0.4607 - accuracy: 0.7906 - auc: 0.828 - ETA: 10:12 - loss: 0.4601 - accuracy: 0.7911 - auc: 0.829 - ETA: 10:10 - loss: 0.4597 - accuracy: 0.7914 - auc: 0.829 - ETA: 10:08 - loss: 0.4595 - accuracy: 0.7915 - auc: 0.829 - ETA: 10:06 - loss: 0.4594 - accuracy: 0.7920 - auc: 0.829 - ETA: 10:03 - loss: 0.4598 - accuracy: 0.7919 - auc: 0.829 - ETA: 10:01 - loss: 0.4594 - accuracy: 0.7918 - auc: 0.830 - ETA: 9:59 - loss: 0.4595 - accuracy: 0.7916 - auc: 0.829 - ETA: 9:57 - loss: 0.4588 - accuracy: 0.7919 - auc: 0.83 - ETA: 9:55 - loss: 0.4585 - accuracy: 0.7922 - auc: 0.83 - ETA: 9:52 - loss: 0.4575 - accuracy: 0.7929 - auc: 0.83 - ETA: 9:50 - loss: 0.4573 - accuracy: 0.7927 - auc: 0.83 - ETA: 9:48 - loss: 0.4575 - accuracy: 0.7927 - auc: 0.83 - ETA: 9:46 - loss: 0.4582 - accuracy: 0.7926 - auc: 0.83 - ETA: 9:43 - loss: 0.4583 - accuracy: 0.7925 - auc: 0.83 - ETA: 9:41 - loss: 0.4576 - accuracy: 0.7928 - auc: 0.83 - ETA: 9:39 - loss: 0.4575 - accuracy: 0.7931 - auc: 0.83 - ETA: 9:37 - loss: 0.4578 - accuracy: 0.7930 - auc: 0.83 - ETA: 9:35 - loss: 0.4575 - accuracy: 0.7931 - auc: 0.83 - ETA: 9:32 - loss: 0.4570 - accuracy: 0.7934 - auc: 0.83 - ETA: 9:30 - loss: 0.4566 - accuracy: 0.7936 - auc: 0.83 - ETA: 9:28 - loss: 0.4566 - accuracy: 0.7937 - auc: 0.83 - ETA: 9:26 - loss: 0.4561 - accuracy: 0.7941 - auc: 0.83 - ETA: 9:24 - loss: 0.4560 - accuracy: 0.7941 - auc: 0.83 - ETA: 9:22 - loss: 0.4557 - accuracy: 0.7943 - auc: 0.83 - ETA: 9:19 - loss: 0.4557 - accuracy: 0.7942 - auc: 0.83 - ETA: 9:17 - loss: 0.4553 - accuracy: 0.7946 - auc: 0.83 - ETA: 9:15 - loss: 0.4544 - accuracy: 0.7953 - auc: 0.83 - ETA: 9:13 - loss: 0.4538 - accuracy: 0.7959 - auc: 0.83 - ETA: 9:11 - loss: 0.4541 - accuracy: 0.7958 - auc: 0.83 - ETA: 9:09 - loss: 0.4536 - accuracy: 0.7962 - auc: 0.83 - ETA: 9:06 - loss: 0.4541 - accuracy: 0.7960 - auc: 0.83 - ETA: 9:04 - loss: 0.4541 - accuracy: 0.7959 - auc: 0.83 - ETA: 9:02 - loss: 0.4536 - accuracy: 0.7961 - auc: 0.83 - ETA: 9:00 - loss: 0.4533 - accuracy: 0.7961 - auc: 0.83 - ETA: 8:58 - loss: 0.4533 - accuracy: 0.7963 - auc: 0.83 - ETA: 8:56 - loss: 0.4530 - accuracy: 0.7965 - auc: 0.83 - ETA: 8:54 - loss: 0.4523 - accuracy: 0.7969 - auc: 0.83 - ETA: 8:52 - loss: 0.4515 - accuracy: 0.7974 - auc: 0.83 - ETA: 8:49 - loss: 0.4520 - accuracy: 0.7970 - auc: 0.83 - ETA: 8:48 - loss: 0.4520 - accuracy: 0.7969 - auc: 0.83 - ETA: 8:45 - loss: 0.4529 - accuracy: 0.7966 - auc: 0.83 - ETA: 8:43 - loss: 0.4523 - accuracy: 0.7971 - auc: 0.83 - ETA: 8:41 - loss: 0.4519 - accuracy: 0.7974 - auc: 0.83 - ETA: 8:40 - loss: 0.4522 - accuracy: 0.7971 - auc: 0.83 - ETA: 8:38 - loss: 0.4528 - accuracy: 0.7970 - auc: 0.83 - ETA: 8:36 - loss: 0.4524 - accuracy: 0.7971 - auc: 0.83 - ETA: 8:34 - loss: 0.4529 - accuracy: 0.7967 - auc: 0.83 - ETA: 8:32 - loss: 0.4534 - accuracy: 0.7964 - auc: 0.83 - ETA: 8:30 - loss: 0.4533 - accuracy: 0.7965 - auc: 0.83 - ETA: 8:28 - loss: 0.4536 - accuracy: 0.7963 - auc: 0.83 - ETA: 8:25 - loss: 0.4530 - accuracy: 0.7966 - auc: 0.83 - ETA: 8:24 - loss: 0.4526 - accuracy: 0.7967 - auc: 0.83 - ETA: 8:22 - loss: 0.4522 - accuracy: 0.7970 - auc: 0.83 - ETA: 8:20 - loss: 0.4523 - accuracy: 0.7969 - auc: 0.83 - ETA: 8:18 - loss: 0.4528 - accuracy: 0.7965 - auc: 0.83 - ETA: 8:16 - loss: 0.4524 - accuracy: 0.7968 - auc: 0.83 - ETA: 8:14 - loss: 0.4522 - accuracy: 0.7969 - auc: 0.83 - ETA: 8:11 - loss: 0.4518 - accuracy: 0.7971 - auc: 0.83 - ETA: 8:09 - loss: 0.4518 - accuracy: 0.7970 - auc: 0.83 - ETA: 8:07 - loss: 0.4515 - accuracy: 0.7972 - auc: 0.83 - ETA: 8:05 - loss: 0.4515 - accuracy: 0.7971 - auc: 0.83 - ETA: 8:02 - loss: 0.4509 - accuracy: 0.7975 - auc: 0.83 - ETA: 8:00 - loss: 0.4511 - accuracy: 0.7973 - auc: 0.83 - ETA: 7:58 - loss: 0.4513 - accuracy: 0.7972 - auc: 0.83 - ETA: 7:56 - loss: 0.4517 - accuracy: 0.7971 - auc: 0.83 - ETA: 7:53 - loss: 0.4513 - accuracy: 0.7972 - auc: 0.83 - ETA: 7:51 - loss: 0.4513 - accuracy: 0.7971 - auc: 0.83 - ETA: 7:49 - loss: 0.4514 - accuracy: 0.7971 - auc: 0.83 - ETA: 7:47 - loss: 0.4515 - accuracy: 0.7971 - auc: 0.83 - ETA: 7:45 - loss: 0.4507 - accuracy: 0.7977 - auc: 0.83 - ETA: 7:42 - loss: 0.4506 - accuracy: 0.7975 - auc: 0.83 - ETA: 7:40 - loss: 0.4501 - accuracy: 0.7976 - auc: 0.83 - ETA: 7:38 - loss: 0.4496 - accuracy: 0.7980 - auc: 0.83 - ETA: 7:36 - loss: 0.4492 - accuracy: 0.7983 - auc: 0.83 - ETA: 7:33 - loss: 0.4490 - accuracy: 0.7982 - auc: 0.83 - ETA: 7:31 - loss: 0.4482 - accuracy: 0.7989 - auc: 0.83 - ETA: 7:29 - loss: 0.4487 - accuracy: 0.7987 - auc: 0.83 - ETA: 7:27 - loss: 0.4487 - accuracy: 0.7988 - auc: 0.83 - ETA: 7:25 - loss: 0.4488 - accuracy: 0.7986 - auc: 0.83 - ETA: 7:23 - loss: 0.4488 - accuracy: 0.7985 - auc: 0.83 - ETA: 7:20 - loss: 0.4487 - accuracy: 0.7987 - auc: 0.83 - ETA: 7:18 - loss: 0.4492 - accuracy: 0.7986 - auc: 0.83 - ETA: 7:16 - loss: 0.4486 - accuracy: 0.7989 - auc: 0.83 - ETA: 7:14 - loss: 0.4486 - accuracy: 0.7989 - auc: 0.83 - ETA: 7:12 - loss: 0.4481 - accuracy: 0.7993 - auc: 0.83 - ETA: 7:10 - loss: 0.4479 - accuracy: 0.7994 - auc: 0.83 - ETA: 7:07 - loss: 0.4478 - accuracy: 0.7998 - auc: 0.83 - ETA: 7:05 - loss: 0.4473 - accuracy: 0.8001 - auc: 0.83 - ETA: 7:03 - loss: 0.4469 - accuracy: 0.8003 - auc: 0.83 - ETA: 7:01 - loss: 0.4467 - accuracy: 0.8003 - auc: 0.83 - ETA: 6:59 - loss: 0.4458 - accuracy: 0.8008 - auc: 0.83 - ETA: 6:57 - loss: 0.4458 - accuracy: 0.8008 - auc: 0.83 - ETA: 6:55 - loss: 0.4454 - accuracy: 0.8010 - auc: 0.83 - ETA: 6:53 - loss: 0.4458 - accuracy: 0.8009 - auc: 0.83 - ETA: 6:51 - loss: 0.4457 - accuracy: 0.8010 - auc: 0.83 - ETA: 6:49 - loss: 0.4454 - accuracy: 0.8009 - auc: 0.83 - ETA: 6:47 - loss: 0.4458 - accuracy: 0.8006 - auc: 0.839213280/14929 [=========================>....] - ETA: 6:44 - loss: 0.4459 - accuracy: 0.8007 - auc: 0.83 - ETA: 6:42 - loss: 0.4457 - accuracy: 0.8008 - auc: 0.83 - ETA: 6:40 - loss: 0.4460 - accuracy: 0.8004 - auc: 0.83 - ETA: 6:38 - loss: 0.4457 - accuracy: 0.8008 - auc: 0.83 - ETA: 6:36 - loss: 0.4455 - accuracy: 0.8006 - auc: 0.83 - ETA: 6:33 - loss: 0.4452 - accuracy: 0.8008 - auc: 0.84 - ETA: 6:31 - loss: 0.4454 - accuracy: 0.8008 - auc: 0.83 - ETA: 6:29 - loss: 0.4452 - accuracy: 0.8008 - auc: 0.84 - ETA: 6:27 - loss: 0.4450 - accuracy: 0.8008 - auc: 0.84 - ETA: 6:25 - loss: 0.4447 - accuracy: 0.8009 - auc: 0.84 - ETA: 6:22 - loss: 0.4443 - accuracy: 0.8013 - auc: 0.84 - ETA: 6:20 - loss: 0.4440 - accuracy: 0.8015 - auc: 0.84 - ETA: 6:18 - loss: 0.4452 - accuracy: 0.8015 - auc: 0.84 - ETA: 6:16 - loss: 0.4449 - accuracy: 0.8018 - auc: 0.84 - ETA: 6:14 - loss: 0.4448 - accuracy: 0.8019 - auc: 0.84 - ETA: 6:12 - loss: 0.4453 - accuracy: 0.8017 - auc: 0.84 - ETA: 6:10 - loss: 0.4447 - accuracy: 0.8020 - auc: 0.84 - ETA: 6:07 - loss: 0.4442 - accuracy: 0.8024 - auc: 0.84 - ETA: 6:05 - loss: 0.4446 - accuracy: 0.8025 - auc: 0.84 - ETA: 6:03 - loss: 0.4445 - accuracy: 0.8027 - auc: 0.84 - ETA: 6:01 - loss: 0.4449 - accuracy: 0.8025 - auc: 0.84 - ETA: 5:59 - loss: 0.4447 - accuracy: 0.8025 - auc: 0.84 - ETA: 5:57 - loss: 0.4450 - accuracy: 0.8023 - auc: 0.84 - ETA: 5:54 - loss: 0.4444 - accuracy: 0.8025 - auc: 0.84 - ETA: 5:52 - loss: 0.4446 - accuracy: 0.8022 - auc: 0.84 - ETA: 5:50 - loss: 0.4443 - accuracy: 0.8022 - auc: 0.84 - ETA: 5:48 - loss: 0.4441 - accuracy: 0.8023 - auc: 0.84 - ETA: 5:46 - loss: 0.4440 - accuracy: 0.8025 - auc: 0.84 - ETA: 5:44 - loss: 0.4437 - accuracy: 0.8027 - auc: 0.84 - ETA: 5:41 - loss: 0.4436 - accuracy: 0.8026 - auc: 0.84 - ETA: 5:39 - loss: 0.4440 - accuracy: 0.8027 - auc: 0.84 - ETA: 5:37 - loss: 0.4442 - accuracy: 0.8022 - auc: 0.84 - ETA: 5:35 - loss: 0.4445 - accuracy: 0.8021 - auc: 0.84 - ETA: 5:33 - loss: 0.4445 - accuracy: 0.8023 - auc: 0.84 - ETA: 5:31 - loss: 0.4445 - accuracy: 0.8021 - auc: 0.84 - ETA: 5:29 - loss: 0.4446 - accuracy: 0.8020 - auc: 0.84 - ETA: 5:26 - loss: 0.4445 - accuracy: 0.8018 - auc: 0.84 - ETA: 5:24 - loss: 0.4439 - accuracy: 0.8024 - auc: 0.84 - ETA: 5:22 - loss: 0.4434 - accuracy: 0.8029 - auc: 0.84 - ETA: 5:20 - loss: 0.4432 - accuracy: 0.8030 - auc: 0.84 - ETA: 5:18 - loss: 0.4431 - accuracy: 0.8031 - auc: 0.84 - ETA: 5:16 - loss: 0.4431 - accuracy: 0.8030 - auc: 0.84 - ETA: 5:13 - loss: 0.4429 - accuracy: 0.8030 - auc: 0.84 - ETA: 5:11 - loss: 0.4431 - accuracy: 0.8029 - auc: 0.84 - ETA: 5:09 - loss: 0.4427 - accuracy: 0.8032 - auc: 0.84 - ETA: 5:07 - loss: 0.4425 - accuracy: 0.8033 - auc: 0.84 - ETA: 5:05 - loss: 0.4427 - accuracy: 0.8033 - auc: 0.84 - ETA: 5:03 - loss: 0.4430 - accuracy: 0.8031 - auc: 0.84 - ETA: 5:01 - loss: 0.4426 - accuracy: 0.8033 - auc: 0.84 - ETA: 4:59 - loss: 0.4422 - accuracy: 0.8035 - auc: 0.84 - ETA: 4:56 - loss: 0.4424 - accuracy: 0.8035 - auc: 0.84 - ETA: 4:54 - loss: 0.4418 - accuracy: 0.8038 - auc: 0.84 - ETA: 4:52 - loss: 0.4415 - accuracy: 0.8038 - auc: 0.84 - ETA: 4:50 - loss: 0.4416 - accuracy: 0.8037 - auc: 0.84 - ETA: 4:48 - loss: 0.4415 - accuracy: 0.8038 - auc: 0.84 - ETA: 4:46 - loss: 0.4419 - accuracy: 0.8037 - auc: 0.84 - ETA: 4:44 - loss: 0.4416 - accuracy: 0.8038 - auc: 0.84 - ETA: 4:41 - loss: 0.4419 - accuracy: 0.8036 - auc: 0.84 - ETA: 4:39 - loss: 0.4416 - accuracy: 0.8038 - auc: 0.84 - ETA: 4:37 - loss: 0.4412 - accuracy: 0.8041 - auc: 0.84 - ETA: 4:35 - loss: 0.4409 - accuracy: 0.8041 - auc: 0.84 - ETA: 4:33 - loss: 0.4409 - accuracy: 0.8039 - auc: 0.84 - ETA: 4:31 - loss: 0.4411 - accuracy: 0.8040 - auc: 0.84 - ETA: 4:29 - loss: 0.4411 - accuracy: 0.8038 - auc: 0.84 - ETA: 4:26 - loss: 0.4414 - accuracy: 0.8037 - auc: 0.84 - ETA: 4:24 - loss: 0.4416 - accuracy: 0.8038 - auc: 0.84 - ETA: 4:22 - loss: 0.4413 - accuracy: 0.8039 - auc: 0.84 - ETA: 4:20 - loss: 0.4412 - accuracy: 0.8040 - auc: 0.84 - ETA: 4:18 - loss: 0.4406 - accuracy: 0.8040 - auc: 0.84 - ETA: 4:16 - loss: 0.4406 - accuracy: 0.8040 - auc: 0.84 - ETA: 4:14 - loss: 0.4403 - accuracy: 0.8042 - auc: 0.84 - ETA: 4:12 - loss: 0.4405 - accuracy: 0.8040 - auc: 0.84 - ETA: 4:10 - loss: 0.4401 - accuracy: 0.8042 - auc: 0.84 - ETA: 4:07 - loss: 0.4400 - accuracy: 0.8043 - auc: 0.84 - ETA: 4:05 - loss: 0.4403 - accuracy: 0.8042 - auc: 0.84 - ETA: 4:03 - loss: 0.4400 - accuracy: 0.8043 - auc: 0.84 - ETA: 4:01 - loss: 0.4399 - accuracy: 0.8044 - auc: 0.84 - ETA: 3:59 - loss: 0.4396 - accuracy: 0.8045 - auc: 0.84 - ETA: 3:57 - loss: 0.4392 - accuracy: 0.8047 - auc: 0.84 - ETA: 3:55 - loss: 0.4388 - accuracy: 0.8049 - auc: 0.84 - ETA: 3:53 - loss: 0.4386 - accuracy: 0.8050 - auc: 0.84 - ETA: 3:51 - loss: 0.4390 - accuracy: 0.8050 - auc: 0.84 - ETA: 3:48 - loss: 0.4389 - accuracy: 0.8051 - auc: 0.84 - ETA: 3:46 - loss: 0.4390 - accuracy: 0.8051 - auc: 0.84 - ETA: 3:44 - loss: 0.4386 - accuracy: 0.8052 - auc: 0.84 - ETA: 3:42 - loss: 0.4389 - accuracy: 0.8052 - auc: 0.84 - ETA: 3:40 - loss: 0.4386 - accuracy: 0.8052 - auc: 0.84 - ETA: 3:38 - loss: 0.4385 - accuracy: 0.8052 - auc: 0.84 - ETA: 3:36 - loss: 0.4382 - accuracy: 0.8053 - auc: 0.84 - ETA: 3:34 - loss: 0.4377 - accuracy: 0.8055 - auc: 0.84 - ETA: 3:31 - loss: 0.4377 - accuracy: 0.8056 - auc: 0.84 - ETA: 3:29 - loss: 0.4374 - accuracy: 0.8057 - auc: 0.84 - ETA: 3:27 - loss: 0.4373 - accuracy: 0.8057 - auc: 0.84 - ETA: 3:25 - loss: 0.4372 - accuracy: 0.8058 - auc: 0.84 - ETA: 3:23 - loss: 0.4372 - accuracy: 0.8058 - auc: 0.84 - ETA: 3:21 - loss: 0.4372 - accuracy: 0.8057 - auc: 0.84 - ETA: 3:19 - loss: 0.4368 - accuracy: 0.8059 - auc: 0.84 - ETA: 3:17 - loss: 0.4366 - accuracy: 0.8059 - auc: 0.84 - ETA: 3:15 - loss: 0.4365 - accuracy: 0.8061 - auc: 0.84 - ETA: 3:12 - loss: 0.4362 - accuracy: 0.8063 - auc: 0.84 - ETA: 3:10 - loss: 0.4358 - accuracy: 0.8064 - auc: 0.84 - ETA: 3:08 - loss: 0.4358 - accuracy: 0.8063 - auc: 0.84 - ETA: 3:06 - loss: 0.4358 - accuracy: 0.8064 - auc: 0.84 - ETA: 3:04 - loss: 0.4362 - accuracy: 0.8062 - auc: 0.84 - ETA: 3:02 - loss: 0.4363 - accuracy: 0.8062 - auc: 0.84 - ETA: 3:00 - loss: 0.4370 - accuracy: 0.8059 - auc: 0.84 - ETA: 2:58 - loss: 0.4366 - accuracy: 0.8061 - auc: 0.84 - ETA: 2:56 - loss: 0.4365 - accuracy: 0.8061 - auc: 0.84 - ETA: 2:54 - loss: 0.4360 - accuracy: 0.8065 - auc: 0.84 - ETA: 2:51 - loss: 0.4357 - accuracy: 0.8067 - auc: 0.84 - ETA: 2:49 - loss: 0.4354 - accuracy: 0.8069 - auc: 0.84 - ETA: 2:47 - loss: 0.4360 - accuracy: 0.8068 - auc: 0.84 - ETA: 2:45 - loss: 0.4358 - accuracy: 0.8070 - auc: 0.84 - ETA: 2:43 - loss: 0.4355 - accuracy: 0.8072 - auc: 0.84 - ETA: 2:41 - loss: 0.4355 - accuracy: 0.8072 - auc: 0.84 - ETA: 2:39 - loss: 0.4363 - accuracy: 0.8067 - auc: 0.84 - ETA: 2:37 - loss: 0.4369 - accuracy: 0.8063 - auc: 0.84 - ETA: 2:35 - loss: 0.4366 - accuracy: 0.8064 - auc: 0.84 - ETA: 2:33 - loss: 0.4363 - accuracy: 0.8066 - auc: 0.84 - ETA: 2:31 - loss: 0.4362 - accuracy: 0.8066 - auc: 0.84 - ETA: 2:28 - loss: 0.4359 - accuracy: 0.8068 - auc: 0.84 - ETA: 2:26 - loss: 0.4362 - accuracy: 0.8069 - auc: 0.84 - ETA: 2:24 - loss: 0.4359 - accuracy: 0.8071 - auc: 0.84 - ETA: 2:22 - loss: 0.4357 - accuracy: 0.8073 - auc: 0.84 - ETA: 2:20 - loss: 0.4356 - accuracy: 0.8075 - auc: 0.84 - ETA: 2:18 - loss: 0.4358 - accuracy: 0.8073 - auc: 0.84 - ETA: 2:16 - loss: 0.4355 - accuracy: 0.8075 - auc: 0.84 - ETA: 2:14 - loss: 0.4353 - accuracy: 0.8077 - auc: 0.85 - ETA: 2:12 - loss: 0.4353 - accuracy: 0.8078 - auc: 0.84 - ETA: 2:10 - loss: 0.4349 - accuracy: 0.8080 - auc: 0.85 - ETA: 2:08 - loss: 0.4352 - accuracy: 0.8076 - auc: 0.85 - ETA: 2:05 - loss: 0.4352 - accuracy: 0.8075 - auc: 0.85 - ETA: 2:03 - loss: 0.4354 - accuracy: 0.8074 - auc: 0.85 - ETA: 2:01 - loss: 0.4352 - accuracy: 0.8075 - auc: 0.85 - ETA: 1:59 - loss: 0.4353 - accuracy: 0.8074 - auc: 0.85 - ETA: 1:57 - loss: 0.4353 - accuracy: 0.8073 - auc: 0.85 - ETA: 1:55 - loss: 0.4350 - accuracy: 0.8076 - auc: 0.85 - ETA: 1:53 - loss: 0.4349 - accuracy: 0.8076 - auc: 0.85 - ETA: 1:51 - loss: 0.4353 - accuracy: 0.8071 - auc: 0.85 - ETA: 1:49 - loss: 0.4355 - accuracy: 0.8070 - auc: 0.85 - ETA: 1:47 - loss: 0.4358 - accuracy: 0.8069 - auc: 0.8500"
     ]
    },
    {
     "name": "stdout",
     "output_type": "stream",
     "text": [
      "14929/14929 [==============================] - ETA: 1:45 - loss: 0.4357 - accuracy: 0.8068 - auc: 0.85 - ETA: 1:43 - loss: 0.4360 - accuracy: 0.8069 - auc: 0.85 - ETA: 1:41 - loss: 0.4358 - accuracy: 0.8071 - auc: 0.85 - ETA: 1:39 - loss: 0.4358 - accuracy: 0.8071 - auc: 0.85 - ETA: 1:37 - loss: 0.4358 - accuracy: 0.8071 - auc: 0.85 - ETA: 1:35 - loss: 0.4358 - accuracy: 0.8071 - auc: 0.85 - ETA: 1:33 - loss: 0.4358 - accuracy: 0.8072 - auc: 0.85 - ETA: 1:30 - loss: 0.4361 - accuracy: 0.8071 - auc: 0.84 - ETA: 1:28 - loss: 0.4360 - accuracy: 0.8070 - auc: 0.84 - ETA: 1:26 - loss: 0.4358 - accuracy: 0.8072 - auc: 0.85 - ETA: 1:24 - loss: 0.4360 - accuracy: 0.8071 - auc: 0.84 - ETA: 1:22 - loss: 0.4359 - accuracy: 0.8070 - auc: 0.85 - ETA: 1:20 - loss: 0.4358 - accuracy: 0.8072 - auc: 0.85 - ETA: 1:18 - loss: 0.4358 - accuracy: 0.8072 - auc: 0.85 - ETA: 1:16 - loss: 0.4355 - accuracy: 0.8073 - auc: 0.85 - ETA: 1:14 - loss: 0.4357 - accuracy: 0.8074 - auc: 0.85 - ETA: 1:12 - loss: 0.4353 - accuracy: 0.8077 - auc: 0.85 - ETA: 1:10 - loss: 0.4353 - accuracy: 0.8076 - auc: 0.85 - ETA: 1:08 - loss: 0.4352 - accuracy: 0.8075 - auc: 0.85 - ETA: 1:06 - loss: 0.4351 - accuracy: 0.8075 - auc: 0.85 - ETA: 1:04 - loss: 0.4351 - accuracy: 0.8075 - auc: 0.85 - ETA: 1:02 - loss: 0.4353 - accuracy: 0.8074 - auc: 0.85 - ETA: 1:00 - loss: 0.4350 - accuracy: 0.8076 - auc: 0.85 - ETA: 58s - loss: 0.4351 - accuracy: 0.8075 - auc: 0.8506 - ETA: 55s - loss: 0.4351 - accuracy: 0.8075 - auc: 0.850 - ETA: 53s - loss: 0.4346 - accuracy: 0.8079 - auc: 0.851 - ETA: 51s - loss: 0.4344 - accuracy: 0.8080 - auc: 0.851 - ETA: 49s - loss: 0.4342 - accuracy: 0.8083 - auc: 0.851 - ETA: 47s - loss: 0.4340 - accuracy: 0.8083 - auc: 0.851 - ETA: 45s - loss: 0.4341 - accuracy: 0.8084 - auc: 0.851 - ETA: 43s - loss: 0.4339 - accuracy: 0.8084 - auc: 0.851 - ETA: 41s - loss: 0.4338 - accuracy: 0.8085 - auc: 0.851 - ETA: 39s - loss: 0.4332 - accuracy: 0.8088 - auc: 0.852 - ETA: 37s - loss: 0.4329 - accuracy: 0.8090 - auc: 0.852 - ETA: 34s - loss: 0.4329 - accuracy: 0.8091 - auc: 0.852 - ETA: 32s - loss: 0.4328 - accuracy: 0.8092 - auc: 0.852 - ETA: 30s - loss: 0.4326 - accuracy: 0.8093 - auc: 0.852 - ETA: 28s - loss: 0.4326 - accuracy: 0.8093 - auc: 0.852 - ETA: 26s - loss: 0.4327 - accuracy: 0.8091 - auc: 0.852 - ETA: 24s - loss: 0.4325 - accuracy: 0.8093 - auc: 0.852 - ETA: 22s - loss: 0.4321 - accuracy: 0.8096 - auc: 0.852 - ETA: 20s - loss: 0.4322 - accuracy: 0.8095 - auc: 0.852 - ETA: 17s - loss: 0.4321 - accuracy: 0.8095 - auc: 0.852 - ETA: 15s - loss: 0.4320 - accuracy: 0.8095 - auc: 0.852 - ETA: 13s - loss: 0.4322 - accuracy: 0.8093 - auc: 0.852 - ETA: 11s - loss: 0.4317 - accuracy: 0.8096 - auc: 0.853 - ETA: 9s - loss: 0.4317 - accuracy: 0.8097 - auc: 0.853 - ETA: 7s - loss: 0.4320 - accuracy: 0.8095 - auc: 0.85 - ETA: 5s - loss: 0.4319 - accuracy: 0.8095 - auc: 0.85 - ETA: 3s - loss: 0.4316 - accuracy: 0.8097 - auc: 0.85 - ETA: 1s - loss: 0.4319 - accuracy: 0.8095 - auc: 0.85 - 1078s 72ms/sample - loss: 0.4318 - accuracy: 0.8096 - auc: 0.8535 - val_loss: 0.3940 - val_accuracy: 0.8291 - val_auc: 0.8854\n",
      "Epoch 2/100\n"
     ]
    },
    {
     "name": "stdout",
     "output_type": "stream",
     "text": [
      " 4352/14929 [=======>......................] - ETA: 15:55 - loss: 0.4259 - accuracy: 0.8125 - auc: 0.886 - ETA: 15:49 - loss: 0.3606 - accuracy: 0.8281 - auc: 0.912 - ETA: 15:43 - loss: 0.4284 - accuracy: 0.7812 - auc: 0.875 - ETA: 15:38 - loss: 0.4101 - accuracy: 0.7969 - auc: 0.876 - ETA: 15:34 - loss: 0.4168 - accuracy: 0.7937 - auc: 0.868 - ETA: 15:37 - loss: 0.4068 - accuracy: 0.8021 - auc: 0.866 - ETA: 15:35 - loss: 0.4009 - accuracy: 0.8170 - auc: 0.879 - ETA: 15:31 - loss: 0.3943 - accuracy: 0.8242 - auc: 0.881 - ETA: 15:29 - loss: 0.4070 - accuracy: 0.8194 - auc: 0.873 - ETA: 15:26 - loss: 0.3904 - accuracy: 0.8281 - auc: 0.884 - ETA: 15:22 - loss: 0.3936 - accuracy: 0.8239 - auc: 0.882 - ETA: 15:19 - loss: 0.3925 - accuracy: 0.8229 - auc: 0.882 - ETA: 15:21 - loss: 0.3959 - accuracy: 0.8221 - auc: 0.883 - ETA: 15:20 - loss: 0.4024 - accuracy: 0.8192 - auc: 0.879 - ETA: 15:19 - loss: 0.3932 - accuracy: 0.8271 - auc: 0.885 - ETA: 15:20 - loss: 0.3926 - accuracy: 0.8262 - auc: 0.888 - ETA: 15:23 - loss: 0.3918 - accuracy: 0.8272 - auc: 0.887 - ETA: 15:20 - loss: 0.3891 - accuracy: 0.8316 - auc: 0.886 - ETA: 15:19 - loss: 0.3829 - accuracy: 0.8355 - auc: 0.890 - ETA: 15:18 - loss: 0.3852 - accuracy: 0.8328 - auc: 0.889 - ETA: 15:24 - loss: 0.3865 - accuracy: 0.8348 - auc: 0.887 - ETA: 15:27 - loss: 0.3830 - accuracy: 0.8366 - auc: 0.890 - ETA: 15:25 - loss: 0.3807 - accuracy: 0.8370 - auc: 0.892 - ETA: 15:22 - loss: 0.3788 - accuracy: 0.8398 - auc: 0.893 - ETA: 15:19 - loss: 0.3786 - accuracy: 0.8388 - auc: 0.892 - ETA: 15:18 - loss: 0.3764 - accuracy: 0.8389 - auc: 0.894 - ETA: 15:19 - loss: 0.3732 - accuracy: 0.8414 - auc: 0.895 - ETA: 15:20 - loss: 0.3763 - accuracy: 0.8382 - auc: 0.893 - ETA: 15:18 - loss: 0.3765 - accuracy: 0.8362 - auc: 0.894 - ETA: 15:14 - loss: 0.3746 - accuracy: 0.8385 - auc: 0.895 - ETA: 15:11 - loss: 0.3760 - accuracy: 0.8377 - auc: 0.894 - ETA: 15:07 - loss: 0.3768 - accuracy: 0.8379 - auc: 0.892 - ETA: 15:04 - loss: 0.3752 - accuracy: 0.8390 - auc: 0.893 - ETA: 15:02 - loss: 0.3760 - accuracy: 0.8373 - auc: 0.892 - ETA: 15:03 - loss: 0.3725 - accuracy: 0.8411 - auc: 0.894 - ETA: 15:05 - loss: 0.3730 - accuracy: 0.8403 - auc: 0.893 - ETA: 15:03 - loss: 0.3747 - accuracy: 0.8387 - auc: 0.893 - ETA: 15:01 - loss: 0.3787 - accuracy: 0.8380 - auc: 0.892 - ETA: 14:58 - loss: 0.3770 - accuracy: 0.8389 - auc: 0.893 - ETA: 14:56 - loss: 0.3741 - accuracy: 0.8414 - auc: 0.893 - ETA: 14:54 - loss: 0.3769 - accuracy: 0.8384 - auc: 0.892 - ETA: 14:52 - loss: 0.3757 - accuracy: 0.8408 - auc: 0.892 - ETA: 14:51 - loss: 0.3820 - accuracy: 0.8401 - auc: 0.891 - ETA: 14:49 - loss: 0.3790 - accuracy: 0.8416 - auc: 0.893 - ETA: 14:47 - loss: 0.3823 - accuracy: 0.8410 - auc: 0.891 - ETA: 14:45 - loss: 0.3817 - accuracy: 0.8404 - auc: 0.891 - ETA: 14:43 - loss: 0.3806 - accuracy: 0.8411 - auc: 0.891 - ETA: 14:41 - loss: 0.3775 - accuracy: 0.8431 - auc: 0.892 - ETA: 14:38 - loss: 0.3782 - accuracy: 0.8425 - auc: 0.892 - ETA: 14:36 - loss: 0.3781 - accuracy: 0.8425 - auc: 0.892 - ETA: 14:34 - loss: 0.3828 - accuracy: 0.8401 - auc: 0.890 - ETA: 14:31 - loss: 0.3848 - accuracy: 0.8401 - auc: 0.889 - ETA: 14:29 - loss: 0.3835 - accuracy: 0.8408 - auc: 0.890 - ETA: 14:27 - loss: 0.3844 - accuracy: 0.8409 - auc: 0.889 - ETA: 14:26 - loss: 0.3868 - accuracy: 0.8398 - auc: 0.887 - ETA: 14:23 - loss: 0.3859 - accuracy: 0.8410 - auc: 0.887 - ETA: 14:22 - loss: 0.3835 - accuracy: 0.8427 - auc: 0.888 - ETA: 14:21 - loss: 0.3830 - accuracy: 0.8432 - auc: 0.889 - ETA: 14:21 - loss: 0.3834 - accuracy: 0.8427 - auc: 0.888 - ETA: 14:18 - loss: 0.3830 - accuracy: 0.8427 - auc: 0.888 - ETA: 14:16 - loss: 0.3824 - accuracy: 0.8427 - auc: 0.889 - ETA: 14:14 - loss: 0.3821 - accuracy: 0.8427 - auc: 0.889 - ETA: 14:11 - loss: 0.3827 - accuracy: 0.8428 - auc: 0.889 - ETA: 14:10 - loss: 0.3819 - accuracy: 0.8438 - auc: 0.889 - ETA: 14:08 - loss: 0.3811 - accuracy: 0.8438 - auc: 0.890 - ETA: 14:06 - loss: 0.3827 - accuracy: 0.8414 - auc: 0.889 - ETA: 14:03 - loss: 0.3817 - accuracy: 0.8414 - auc: 0.890 - ETA: 14:05 - loss: 0.3815 - accuracy: 0.8419 - auc: 0.889 - ETA: 14:12 - loss: 0.3835 - accuracy: 0.8397 - auc: 0.888 - ETA: 14:16 - loss: 0.3861 - accuracy: 0.8379 - auc: 0.887 - ETA: 14:21 - loss: 0.3863 - accuracy: 0.8371 - auc: 0.887 - ETA: 14:26 - loss: 0.3872 - accuracy: 0.8377 - auc: 0.887 - ETA: 14:33 - loss: 0.3881 - accuracy: 0.8378 - auc: 0.887 - ETA: 14:38 - loss: 0.3881 - accuracy: 0.8374 - auc: 0.887 - ETA: 14:39 - loss: 0.3869 - accuracy: 0.8379 - auc: 0.888 - ETA: 14:40 - loss: 0.3867 - accuracy: 0.8384 - auc: 0.888 - ETA: 14:41 - loss: 0.3867 - accuracy: 0.8377 - auc: 0.888 - ETA: 14:42 - loss: 0.3876 - accuracy: 0.8381 - auc: 0.888 - ETA: 14:40 - loss: 0.3901 - accuracy: 0.8366 - auc: 0.886 - ETA: 14:39 - loss: 0.3921 - accuracy: 0.8348 - auc: 0.884 - ETA: 14:37 - loss: 0.3919 - accuracy: 0.8353 - auc: 0.884 - ETA: 14:36 - loss: 0.3918 - accuracy: 0.8350 - auc: 0.885 - ETA: 14:36 - loss: 0.3918 - accuracy: 0.8351 - auc: 0.885 - ETA: 14:35 - loss: 0.3922 - accuracy: 0.8348 - auc: 0.885 - ETA: 14:33 - loss: 0.3921 - accuracy: 0.8346 - auc: 0.885 - ETA: 14:31 - loss: 0.3909 - accuracy: 0.8350 - auc: 0.885 - ETA: 14:30 - loss: 0.3912 - accuracy: 0.8348 - auc: 0.885 - ETA: 14:28 - loss: 0.3908 - accuracy: 0.8342 - auc: 0.885 - ETA: 14:26 - loss: 0.3918 - accuracy: 0.8339 - auc: 0.884 - ETA: 14:25 - loss: 0.3918 - accuracy: 0.8337 - auc: 0.885 - ETA: 14:23 - loss: 0.3915 - accuracy: 0.8334 - auc: 0.885 - ETA: 14:22 - loss: 0.3920 - accuracy: 0.8325 - auc: 0.885 - ETA: 14:20 - loss: 0.3922 - accuracy: 0.8323 - auc: 0.884 - ETA: 14:18 - loss: 0.3918 - accuracy: 0.8328 - auc: 0.884 - ETA: 14:16 - loss: 0.3908 - accuracy: 0.8332 - auc: 0.885 - ETA: 14:14 - loss: 0.3896 - accuracy: 0.8340 - auc: 0.885 - ETA: 14:12 - loss: 0.3897 - accuracy: 0.8334 - auc: 0.885 - ETA: 14:10 - loss: 0.3916 - accuracy: 0.8323 - auc: 0.884 - ETA: 14:08 - loss: 0.3911 - accuracy: 0.8324 - auc: 0.884 - ETA: 14:07 - loss: 0.3917 - accuracy: 0.8316 - auc: 0.884 - ETA: 14:05 - loss: 0.3911 - accuracy: 0.8317 - auc: 0.885 - ETA: 14:03 - loss: 0.3904 - accuracy: 0.8324 - auc: 0.885 - ETA: 14:01 - loss: 0.3904 - accuracy: 0.8331 - auc: 0.885 - ETA: 13:59 - loss: 0.3918 - accuracy: 0.8323 - auc: 0.885 - ETA: 13:57 - loss: 0.3913 - accuracy: 0.8324 - auc: 0.885 - ETA: 13:55 - loss: 0.3934 - accuracy: 0.8314 - auc: 0.883 - ETA: 13:53 - loss: 0.3930 - accuracy: 0.8318 - auc: 0.884 - ETA: 13:51 - loss: 0.3928 - accuracy: 0.8319 - auc: 0.884 - ETA: 13:50 - loss: 0.3920 - accuracy: 0.8323 - auc: 0.884 - ETA: 13:48 - loss: 0.3915 - accuracy: 0.8330 - auc: 0.884 - ETA: 13:47 - loss: 0.3908 - accuracy: 0.8336 - auc: 0.884 - ETA: 13:45 - loss: 0.3922 - accuracy: 0.8331 - auc: 0.883 - ETA: 13:43 - loss: 0.3916 - accuracy: 0.8338 - auc: 0.884 - ETA: 13:41 - loss: 0.3909 - accuracy: 0.8342 - auc: 0.884 - ETA: 13:39 - loss: 0.3917 - accuracy: 0.8342 - auc: 0.883 - ETA: 13:37 - loss: 0.3916 - accuracy: 0.8343 - auc: 0.883 - ETA: 13:35 - loss: 0.3914 - accuracy: 0.8344 - auc: 0.883 - ETA: 13:33 - loss: 0.3925 - accuracy: 0.8340 - auc: 0.882 - ETA: 13:30 - loss: 0.3928 - accuracy: 0.8338 - auc: 0.882 - ETA: 13:30 - loss: 0.3940 - accuracy: 0.8326 - auc: 0.881 - ETA: 13:28 - loss: 0.3939 - accuracy: 0.8326 - auc: 0.881 - ETA: 13:26 - loss: 0.3948 - accuracy: 0.8315 - auc: 0.881 - ETA: 13:24 - loss: 0.3939 - accuracy: 0.8321 - auc: 0.882 - ETA: 13:22 - loss: 0.3934 - accuracy: 0.8327 - auc: 0.881 - ETA: 13:20 - loss: 0.3927 - accuracy: 0.8332 - auc: 0.882 - ETA: 13:18 - loss: 0.3929 - accuracy: 0.8331 - auc: 0.881 - ETA: 13:16 - loss: 0.3919 - accuracy: 0.8339 - auc: 0.882 - ETA: 13:13 - loss: 0.3925 - accuracy: 0.8337 - auc: 0.882 - ETA: 13:11 - loss: 0.3925 - accuracy: 0.8338 - auc: 0.881 - ETA: 13:09 - loss: 0.3928 - accuracy: 0.8337 - auc: 0.881 - ETA: 13:07 - loss: 0.3922 - accuracy: 0.8342 - auc: 0.881 - ETA: 13:05 - loss: 0.3919 - accuracy: 0.8343 - auc: 0.882 - ETA: 13:02 - loss: 0.3911 - accuracy: 0.8348 - auc: 0.882 - ETA: 13:00 - loss: 0.3907 - accuracy: 0.8351 - auc: 0.882 - ETA: 12:58 - loss: 0.3908 - accuracy: 0.8352 - auc: 0.882 - ETA: 12:56 - loss: 0.3913 - accuracy: 0.8346 - auc: 0.8821 8768/14929 [================>.............] - ETA: 12:54 - loss: 0.3904 - accuracy: 0.8351 - auc: 0.882 - ETA: 12:52 - loss: 0.3899 - accuracy: 0.8354 - auc: 0.882 - ETA: 12:50 - loss: 0.3901 - accuracy: 0.8352 - auc: 0.882 - ETA: 12:48 - loss: 0.3888 - accuracy: 0.8359 - auc: 0.883 - ETA: 12:46 - loss: 0.3873 - accuracy: 0.8367 - auc: 0.885 - ETA: 12:44 - loss: 0.3860 - accuracy: 0.8374 - auc: 0.885 - ETA: 12:41 - loss: 0.3859 - accuracy: 0.8372 - auc: 0.885 - ETA: 12:39 - loss: 0.3865 - accuracy: 0.8372 - auc: 0.885 - ETA: 12:37 - loss: 0.3863 - accuracy: 0.8371 - auc: 0.885 - ETA: 12:35 - loss: 0.3881 - accuracy: 0.8358 - auc: 0.884 - ETA: 12:32 - loss: 0.3882 - accuracy: 0.8357 - auc: 0.884 - ETA: 12:30 - loss: 0.3875 - accuracy: 0.8359 - auc: 0.885 - ETA: 12:28 - loss: 0.3877 - accuracy: 0.8358 - auc: 0.885 - ETA: 12:26 - loss: 0.3870 - accuracy: 0.8365 - auc: 0.885 - ETA: 12:23 - loss: 0.3879 - accuracy: 0.8361 - auc: 0.884 - ETA: 12:21 - loss: 0.3876 - accuracy: 0.8359 - auc: 0.885 - ETA: 12:19 - loss: 0.3870 - accuracy: 0.8366 - auc: 0.885 - ETA: 12:17 - loss: 0.3871 - accuracy: 0.8369 - auc: 0.885 - ETA: 12:15 - loss: 0.3879 - accuracy: 0.8363 - auc: 0.884 - ETA: 12:12 - loss: 0.3877 - accuracy: 0.8363 - auc: 0.884 - ETA: 12:10 - loss: 0.3874 - accuracy: 0.8364 - auc: 0.884 - ETA: 12:08 - loss: 0.3882 - accuracy: 0.8358 - auc: 0.884 - ETA: 12:05 - loss: 0.3882 - accuracy: 0.8355 - auc: 0.884 - ETA: 12:03 - loss: 0.3875 - accuracy: 0.8359 - auc: 0.884 - ETA: 12:01 - loss: 0.3880 - accuracy: 0.8356 - auc: 0.884 - ETA: 11:59 - loss: 0.3872 - accuracy: 0.8360 - auc: 0.884 - ETA: 11:57 - loss: 0.3873 - accuracy: 0.8361 - auc: 0.884 - ETA: 11:55 - loss: 0.3869 - accuracy: 0.8361 - auc: 0.884 - ETA: 11:53 - loss: 0.3881 - accuracy: 0.8354 - auc: 0.884 - ETA: 11:51 - loss: 0.3876 - accuracy: 0.8355 - auc: 0.884 - ETA: 11:48 - loss: 0.3872 - accuracy: 0.8357 - auc: 0.885 - ETA: 11:46 - loss: 0.3875 - accuracy: 0.8356 - auc: 0.884 - ETA: 11:44 - loss: 0.3874 - accuracy: 0.8354 - auc: 0.884 - ETA: 11:42 - loss: 0.3869 - accuracy: 0.8358 - auc: 0.884 - ETA: 11:39 - loss: 0.3870 - accuracy: 0.8357 - auc: 0.884 - ETA: 11:37 - loss: 0.3864 - accuracy: 0.8359 - auc: 0.885 - ETA: 11:35 - loss: 0.3858 - accuracy: 0.8360 - auc: 0.885 - ETA: 11:32 - loss: 0.3858 - accuracy: 0.8362 - auc: 0.885 - ETA: 11:30 - loss: 0.3849 - accuracy: 0.8371 - auc: 0.886 - ETA: 11:28 - loss: 0.3850 - accuracy: 0.8372 - auc: 0.886 - ETA: 11:25 - loss: 0.3842 - accuracy: 0.8377 - auc: 0.886 - ETA: 11:23 - loss: 0.3836 - accuracy: 0.8380 - auc: 0.887 - ETA: 11:21 - loss: 0.3826 - accuracy: 0.8387 - auc: 0.887 - ETA: 11:19 - loss: 0.3846 - accuracy: 0.8382 - auc: 0.886 - ETA: 11:17 - loss: 0.3851 - accuracy: 0.8377 - auc: 0.886 - ETA: 11:14 - loss: 0.3849 - accuracy: 0.8376 - auc: 0.886 - ETA: 11:12 - loss: 0.3843 - accuracy: 0.8379 - auc: 0.887 - ETA: 11:09 - loss: 0.3843 - accuracy: 0.8378 - auc: 0.887 - ETA: 11:07 - loss: 0.3848 - accuracy: 0.8375 - auc: 0.887 - ETA: 11:04 - loss: 0.3854 - accuracy: 0.8367 - auc: 0.886 - ETA: 11:02 - loss: 0.3849 - accuracy: 0.8369 - auc: 0.886 - ETA: 10:59 - loss: 0.3867 - accuracy: 0.8363 - auc: 0.885 - ETA: 10:57 - loss: 0.3865 - accuracy: 0.8365 - auc: 0.885 - ETA: 10:55 - loss: 0.3859 - accuracy: 0.8368 - auc: 0.886 - ETA: 10:53 - loss: 0.3862 - accuracy: 0.8367 - auc: 0.885 - ETA: 10:51 - loss: 0.3861 - accuracy: 0.8369 - auc: 0.885 - ETA: 10:49 - loss: 0.3856 - accuracy: 0.8374 - auc: 0.885 - ETA: 10:46 - loss: 0.3854 - accuracy: 0.8376 - auc: 0.886 - ETA: 10:45 - loss: 0.3854 - accuracy: 0.8377 - auc: 0.886 - ETA: 10:42 - loss: 0.3849 - accuracy: 0.8379 - auc: 0.886 - ETA: 10:40 - loss: 0.3846 - accuracy: 0.8382 - auc: 0.886 - ETA: 10:38 - loss: 0.3843 - accuracy: 0.8382 - auc: 0.886 - ETA: 10:35 - loss: 0.3843 - accuracy: 0.8383 - auc: 0.886 - ETA: 10:33 - loss: 0.3835 - accuracy: 0.8389 - auc: 0.887 - ETA: 10:31 - loss: 0.3839 - accuracy: 0.8385 - auc: 0.887 - ETA: 10:28 - loss: 0.3839 - accuracy: 0.8386 - auc: 0.887 - ETA: 10:26 - loss: 0.3846 - accuracy: 0.8379 - auc: 0.886 - ETA: 10:24 - loss: 0.3842 - accuracy: 0.8384 - auc: 0.886 - ETA: 10:22 - loss: 0.3846 - accuracy: 0.8383 - auc: 0.886 - ETA: 10:19 - loss: 0.3842 - accuracy: 0.8387 - auc: 0.886 - ETA: 10:17 - loss: 0.3835 - accuracy: 0.8392 - auc: 0.886 - ETA: 10:15 - loss: 0.3834 - accuracy: 0.8394 - auc: 0.886 - ETA: 10:12 - loss: 0.3843 - accuracy: 0.8390 - auc: 0.886 - ETA: 10:10 - loss: 0.3839 - accuracy: 0.8393 - auc: 0.886 - ETA: 10:08 - loss: 0.3840 - accuracy: 0.8393 - auc: 0.886 - ETA: 10:05 - loss: 0.3842 - accuracy: 0.8393 - auc: 0.886 - ETA: 10:03 - loss: 0.3840 - accuracy: 0.8393 - auc: 0.886 - ETA: 10:01 - loss: 0.3838 - accuracy: 0.8394 - auc: 0.886 - ETA: 9:58 - loss: 0.3833 - accuracy: 0.8397 - auc: 0.887 - ETA: 9:56 - loss: 0.3829 - accuracy: 0.8398 - auc: 0.88 - ETA: 9:54 - loss: 0.3825 - accuracy: 0.8403 - auc: 0.88 - ETA: 9:52 - loss: 0.3833 - accuracy: 0.8402 - auc: 0.88 - ETA: 9:50 - loss: 0.3830 - accuracy: 0.8403 - auc: 0.88 - ETA: 9:47 - loss: 0.3830 - accuracy: 0.8403 - auc: 0.88 - ETA: 9:45 - loss: 0.3832 - accuracy: 0.8402 - auc: 0.88 - ETA: 9:43 - loss: 0.3835 - accuracy: 0.8399 - auc: 0.88 - ETA: 9:40 - loss: 0.3838 - accuracy: 0.8398 - auc: 0.88 - ETA: 9:38 - loss: 0.3841 - accuracy: 0.8396 - auc: 0.88 - ETA: 9:36 - loss: 0.3844 - accuracy: 0.8396 - auc: 0.88 - ETA: 9:33 - loss: 0.3841 - accuracy: 0.8397 - auc: 0.88 - ETA: 9:31 - loss: 0.3841 - accuracy: 0.8396 - auc: 0.88 - ETA: 9:29 - loss: 0.3842 - accuracy: 0.8396 - auc: 0.88 - ETA: 9:26 - loss: 0.3838 - accuracy: 0.8399 - auc: 0.88 - ETA: 9:24 - loss: 0.3835 - accuracy: 0.8402 - auc: 0.88 - ETA: 9:22 - loss: 0.3838 - accuracy: 0.8400 - auc: 0.88 - ETA: 9:19 - loss: 0.3837 - accuracy: 0.8398 - auc: 0.88 - ETA: 9:17 - loss: 0.3842 - accuracy: 0.8393 - auc: 0.88 - ETA: 9:15 - loss: 0.3845 - accuracy: 0.8396 - auc: 0.88 - ETA: 9:12 - loss: 0.3848 - accuracy: 0.8392 - auc: 0.88 - ETA: 9:10 - loss: 0.3851 - accuracy: 0.8390 - auc: 0.88 - ETA: 9:08 - loss: 0.3852 - accuracy: 0.8389 - auc: 0.88 - ETA: 9:05 - loss: 0.3846 - accuracy: 0.8390 - auc: 0.88 - ETA: 9:03 - loss: 0.3846 - accuracy: 0.8390 - auc: 0.88 - ETA: 9:01 - loss: 0.3841 - accuracy: 0.8396 - auc: 0.88 - ETA: 8:59 - loss: 0.3840 - accuracy: 0.8399 - auc: 0.88 - ETA: 8:56 - loss: 0.3840 - accuracy: 0.8397 - auc: 0.88 - ETA: 8:54 - loss: 0.3840 - accuracy: 0.8399 - auc: 0.88 - ETA: 8:52 - loss: 0.3844 - accuracy: 0.8397 - auc: 0.88 - ETA: 8:50 - loss: 0.3841 - accuracy: 0.8395 - auc: 0.88 - ETA: 8:48 - loss: 0.3840 - accuracy: 0.8394 - auc: 0.88 - ETA: 8:45 - loss: 0.3841 - accuracy: 0.8393 - auc: 0.88 - ETA: 8:43 - loss: 0.3841 - accuracy: 0.8395 - auc: 0.88 - ETA: 8:41 - loss: 0.3840 - accuracy: 0.8394 - auc: 0.88 - ETA: 8:38 - loss: 0.3836 - accuracy: 0.8396 - auc: 0.88 - ETA: 8:36 - loss: 0.3836 - accuracy: 0.8394 - auc: 0.88 - ETA: 8:33 - loss: 0.3836 - accuracy: 0.8393 - auc: 0.88 - ETA: 8:31 - loss: 0.3835 - accuracy: 0.8392 - auc: 0.88 - ETA: 8:29 - loss: 0.3836 - accuracy: 0.8391 - auc: 0.88 - ETA: 8:26 - loss: 0.3838 - accuracy: 0.8390 - auc: 0.88 - ETA: 8:24 - loss: 0.3833 - accuracy: 0.8394 - auc: 0.88 - ETA: 8:22 - loss: 0.3830 - accuracy: 0.8396 - auc: 0.88 - ETA: 8:19 - loss: 0.3829 - accuracy: 0.8396 - auc: 0.88 - ETA: 8:17 - loss: 0.3829 - accuracy: 0.8398 - auc: 0.88 - ETA: 8:14 - loss: 0.3833 - accuracy: 0.8398 - auc: 0.88 - ETA: 8:12 - loss: 0.3833 - accuracy: 0.8400 - auc: 0.88 - ETA: 8:10 - loss: 0.3837 - accuracy: 0.8398 - auc: 0.88 - ETA: 8:07 - loss: 0.3835 - accuracy: 0.8399 - auc: 0.88 - ETA: 8:05 - loss: 0.3832 - accuracy: 0.8400 - auc: 0.88 - ETA: 8:03 - loss: 0.3833 - accuracy: 0.8400 - auc: 0.88 - ETA: 8:00 - loss: 0.3833 - accuracy: 0.8400 - auc: 0.88 - ETA: 7:58 - loss: 0.3833 - accuracy: 0.8400 - auc: 0.88 - ETA: 7:56 - loss: 0.3831 - accuracy: 0.8400 - auc: 0.88 - ETA: 7:53 - loss: 0.3835 - accuracy: 0.8398 - auc: 0.88 - ETA: 7:51 - loss: 0.3830 - accuracy: 0.8400 - auc: 0.88 - ETA: 7:49 - loss: 0.3826 - accuracy: 0.8404 - auc: 0.88 - ETA: 7:46 - loss: 0.3828 - accuracy: 0.8403 - auc: 0.88 - ETA: 7:44 - loss: 0.3829 - accuracy: 0.8402 - auc: 0.88 - ETA: 7:42 - loss: 0.3824 - accuracy: 0.8406 - auc: 0.887813280/14929 [=========================>....] - ETA: 7:39 - loss: 0.3821 - accuracy: 0.8408 - auc: 0.88 - ETA: 7:37 - loss: 0.3820 - accuracy: 0.8409 - auc: 0.88 - ETA: 7:34 - loss: 0.3824 - accuracy: 0.8407 - auc: 0.88 - ETA: 7:32 - loss: 0.3823 - accuracy: 0.8407 - auc: 0.88 - ETA: 7:30 - loss: 0.3817 - accuracy: 0.8409 - auc: 0.88 - ETA: 7:27 - loss: 0.3818 - accuracy: 0.8408 - auc: 0.88 - ETA: 7:25 - loss: 0.3815 - accuracy: 0.8410 - auc: 0.88 - ETA: 7:22 - loss: 0.3822 - accuracy: 0.8408 - auc: 0.88 - ETA: 7:20 - loss: 0.3824 - accuracy: 0.8405 - auc: 0.88 - ETA: 7:18 - loss: 0.3825 - accuracy: 0.8406 - auc: 0.88 - ETA: 7:15 - loss: 0.3824 - accuracy: 0.8405 - auc: 0.88 - ETA: 7:13 - loss: 0.3828 - accuracy: 0.8401 - auc: 0.88 - ETA: 7:11 - loss: 0.3829 - accuracy: 0.8402 - auc: 0.88 - ETA: 7:08 - loss: 0.3834 - accuracy: 0.8401 - auc: 0.88 - ETA: 7:06 - loss: 0.3834 - accuracy: 0.8401 - auc: 0.88 - ETA: 7:03 - loss: 0.3835 - accuracy: 0.8399 - auc: 0.88 - ETA: 7:01 - loss: 0.3835 - accuracy: 0.8400 - auc: 0.88 - ETA: 6:59 - loss: 0.3829 - accuracy: 0.8404 - auc: 0.88 - ETA: 6:56 - loss: 0.3823 - accuracy: 0.8407 - auc: 0.88 - ETA: 6:54 - loss: 0.3820 - accuracy: 0.8408 - auc: 0.88 - ETA: 6:52 - loss: 0.3830 - accuracy: 0.8403 - auc: 0.88 - ETA: 6:49 - loss: 0.3829 - accuracy: 0.8403 - auc: 0.88 - ETA: 6:47 - loss: 0.3825 - accuracy: 0.8404 - auc: 0.88 - ETA: 6:44 - loss: 0.3822 - accuracy: 0.8406 - auc: 0.88 - ETA: 6:42 - loss: 0.3821 - accuracy: 0.8406 - auc: 0.88 - ETA: 6:39 - loss: 0.3820 - accuracy: 0.8407 - auc: 0.88 - ETA: 6:37 - loss: 0.3816 - accuracy: 0.8409 - auc: 0.88 - ETA: 6:34 - loss: 0.3812 - accuracy: 0.8412 - auc: 0.88 - ETA: 6:32 - loss: 0.3811 - accuracy: 0.8413 - auc: 0.88 - ETA: 6:29 - loss: 0.3810 - accuracy: 0.8413 - auc: 0.88 - ETA: 6:27 - loss: 0.3809 - accuracy: 0.8413 - auc: 0.88 - ETA: 6:25 - loss: 0.3815 - accuracy: 0.8409 - auc: 0.88 - ETA: 6:22 - loss: 0.3821 - accuracy: 0.8406 - auc: 0.88 - ETA: 6:20 - loss: 0.3816 - accuracy: 0.8408 - auc: 0.88 - ETA: 6:18 - loss: 0.3811 - accuracy: 0.8411 - auc: 0.88 - ETA: 6:15 - loss: 0.3808 - accuracy: 0.8413 - auc: 0.88 - ETA: 6:13 - loss: 0.3803 - accuracy: 0.8415 - auc: 0.88 - ETA: 6:11 - loss: 0.3803 - accuracy: 0.8413 - auc: 0.88 - ETA: 6:08 - loss: 0.3806 - accuracy: 0.8413 - auc: 0.88 - ETA: 6:06 - loss: 0.3809 - accuracy: 0.8413 - auc: 0.88 - ETA: 6:03 - loss: 0.3814 - accuracy: 0.8407 - auc: 0.88 - ETA: 6:01 - loss: 0.3820 - accuracy: 0.8403 - auc: 0.88 - ETA: 5:58 - loss: 0.3817 - accuracy: 0.8405 - auc: 0.88 - ETA: 5:56 - loss: 0.3817 - accuracy: 0.8407 - auc: 0.88 - ETA: 5:54 - loss: 0.3815 - accuracy: 0.8410 - auc: 0.88 - ETA: 5:51 - loss: 0.3813 - accuracy: 0.8411 - auc: 0.88 - ETA: 5:49 - loss: 0.3816 - accuracy: 0.8409 - auc: 0.88 - ETA: 5:47 - loss: 0.3817 - accuracy: 0.8408 - auc: 0.88 - ETA: 5:44 - loss: 0.3815 - accuracy: 0.8409 - auc: 0.88 - ETA: 5:42 - loss: 0.3813 - accuracy: 0.8411 - auc: 0.88 - ETA: 5:39 - loss: 0.3811 - accuracy: 0.8412 - auc: 0.88 - ETA: 5:37 - loss: 0.3809 - accuracy: 0.8413 - auc: 0.88 - ETA: 5:35 - loss: 0.3810 - accuracy: 0.8412 - auc: 0.88 - ETA: 5:32 - loss: 0.3807 - accuracy: 0.8415 - auc: 0.88 - ETA: 5:30 - loss: 0.3805 - accuracy: 0.8415 - auc: 0.88 - ETA: 5:27 - loss: 0.3804 - accuracy: 0.8415 - auc: 0.88 - ETA: 5:25 - loss: 0.3801 - accuracy: 0.8416 - auc: 0.88 - ETA: 5:23 - loss: 0.3804 - accuracy: 0.8413 - auc: 0.88 - ETA: 5:20 - loss: 0.3803 - accuracy: 0.8413 - auc: 0.88 - ETA: 5:18 - loss: 0.3808 - accuracy: 0.8410 - auc: 0.88 - ETA: 5:16 - loss: 0.3807 - accuracy: 0.8410 - auc: 0.88 - ETA: 5:13 - loss: 0.3801 - accuracy: 0.8413 - auc: 0.88 - ETA: 5:11 - loss: 0.3801 - accuracy: 0.8413 - auc: 0.88 - ETA: 5:08 - loss: 0.3800 - accuracy: 0.8417 - auc: 0.88 - ETA: 5:06 - loss: 0.3796 - accuracy: 0.8419 - auc: 0.88 - ETA: 5:04 - loss: 0.3791 - accuracy: 0.8422 - auc: 0.88 - ETA: 5:01 - loss: 0.3794 - accuracy: 0.8419 - auc: 0.88 - ETA: 4:59 - loss: 0.3804 - accuracy: 0.8416 - auc: 0.88 - ETA: 4:57 - loss: 0.3802 - accuracy: 0.8417 - auc: 0.88 - ETA: 4:54 - loss: 0.3800 - accuracy: 0.8418 - auc: 0.88 - ETA: 4:52 - loss: 0.3799 - accuracy: 0.8418 - auc: 0.88 - ETA: 4:49 - loss: 0.3804 - accuracy: 0.8414 - auc: 0.88 - ETA: 4:47 - loss: 0.3804 - accuracy: 0.8415 - auc: 0.88 - ETA: 4:45 - loss: 0.3809 - accuracy: 0.8410 - auc: 0.88 - ETA: 4:42 - loss: 0.3806 - accuracy: 0.8410 - auc: 0.88 - ETA: 4:40 - loss: 0.3807 - accuracy: 0.8407 - auc: 0.88 - ETA: 4:38 - loss: 0.3806 - accuracy: 0.8407 - auc: 0.88 - ETA: 4:35 - loss: 0.3806 - accuracy: 0.8406 - auc: 0.88 - ETA: 4:33 - loss: 0.3808 - accuracy: 0.8406 - auc: 0.88 - ETA: 4:30 - loss: 0.3808 - accuracy: 0.8405 - auc: 0.88 - ETA: 4:28 - loss: 0.3807 - accuracy: 0.8405 - auc: 0.88 - ETA: 4:26 - loss: 0.3805 - accuracy: 0.8405 - auc: 0.88 - ETA: 4:23 - loss: 0.3803 - accuracy: 0.8405 - auc: 0.88 - ETA: 4:21 - loss: 0.3813 - accuracy: 0.8400 - auc: 0.88 - ETA: 4:18 - loss: 0.3811 - accuracy: 0.8401 - auc: 0.88 - ETA: 4:16 - loss: 0.3810 - accuracy: 0.8403 - auc: 0.88 - ETA: 4:14 - loss: 0.3809 - accuracy: 0.8403 - auc: 0.88 - ETA: 4:11 - loss: 0.3811 - accuracy: 0.8402 - auc: 0.88 - ETA: 4:09 - loss: 0.3811 - accuracy: 0.8405 - auc: 0.88 - ETA: 4:06 - loss: 0.3809 - accuracy: 0.8406 - auc: 0.88 - ETA: 4:04 - loss: 0.3809 - accuracy: 0.8403 - auc: 0.88 - ETA: 4:02 - loss: 0.3810 - accuracy: 0.8402 - auc: 0.88 - ETA: 3:59 - loss: 0.3815 - accuracy: 0.8397 - auc: 0.88 - ETA: 3:57 - loss: 0.3817 - accuracy: 0.8398 - auc: 0.88 - ETA: 3:54 - loss: 0.3816 - accuracy: 0.8398 - auc: 0.88 - ETA: 3:52 - loss: 0.3817 - accuracy: 0.8397 - auc: 0.88 - ETA: 3:50 - loss: 0.3816 - accuracy: 0.8397 - auc: 0.88 - ETA: 3:47 - loss: 0.3821 - accuracy: 0.8394 - auc: 0.88 - ETA: 3:45 - loss: 0.3826 - accuracy: 0.8389 - auc: 0.88 - ETA: 3:42 - loss: 0.3830 - accuracy: 0.8388 - auc: 0.88 - ETA: 3:40 - loss: 0.3830 - accuracy: 0.8388 - auc: 0.88 - ETA: 3:38 - loss: 0.3830 - accuracy: 0.8388 - auc: 0.88 - ETA: 3:35 - loss: 0.3833 - accuracy: 0.8387 - auc: 0.88 - ETA: 3:33 - loss: 0.3831 - accuracy: 0.8388 - auc: 0.88 - ETA: 3:30 - loss: 0.3831 - accuracy: 0.8390 - auc: 0.88 - ETA: 3:28 - loss: 0.3832 - accuracy: 0.8387 - auc: 0.88 - ETA: 3:26 - loss: 0.3835 - accuracy: 0.8386 - auc: 0.88 - ETA: 3:23 - loss: 0.3836 - accuracy: 0.8385 - auc: 0.88 - ETA: 3:21 - loss: 0.3836 - accuracy: 0.8387 - auc: 0.88 - ETA: 3:18 - loss: 0.3838 - accuracy: 0.8385 - auc: 0.88 - ETA: 3:16 - loss: 0.3839 - accuracy: 0.8386 - auc: 0.88 - ETA: 3:14 - loss: 0.3839 - accuracy: 0.8386 - auc: 0.88 - ETA: 3:11 - loss: 0.3837 - accuracy: 0.8387 - auc: 0.88 - ETA: 3:09 - loss: 0.3838 - accuracy: 0.8385 - auc: 0.88 - ETA: 3:06 - loss: 0.3837 - accuracy: 0.8386 - auc: 0.88 - ETA: 3:04 - loss: 0.3839 - accuracy: 0.8385 - auc: 0.88 - ETA: 3:02 - loss: 0.3839 - accuracy: 0.8386 - auc: 0.88 - ETA: 2:59 - loss: 0.3841 - accuracy: 0.8385 - auc: 0.88 - ETA: 2:57 - loss: 0.3841 - accuracy: 0.8385 - auc: 0.88 - ETA: 2:54 - loss: 0.3841 - accuracy: 0.8384 - auc: 0.88 - ETA: 2:52 - loss: 0.3840 - accuracy: 0.8385 - auc: 0.88 - ETA: 2:50 - loss: 0.3838 - accuracy: 0.8386 - auc: 0.88 - ETA: 2:47 - loss: 0.3838 - accuracy: 0.8386 - auc: 0.88 - ETA: 2:45 - loss: 0.3839 - accuracy: 0.8384 - auc: 0.88 - ETA: 2:42 - loss: 0.3840 - accuracy: 0.8383 - auc: 0.88 - ETA: 2:40 - loss: 0.3837 - accuracy: 0.8384 - auc: 0.88 - ETA: 2:37 - loss: 0.3835 - accuracy: 0.8386 - auc: 0.88 - ETA: 2:35 - loss: 0.3835 - accuracy: 0.8387 - auc: 0.88 - ETA: 2:32 - loss: 0.3837 - accuracy: 0.8386 - auc: 0.88 - ETA: 2:30 - loss: 0.3834 - accuracy: 0.8386 - auc: 0.88 - ETA: 2:28 - loss: 0.3835 - accuracy: 0.8386 - auc: 0.88 - ETA: 2:25 - loss: 0.3835 - accuracy: 0.8386 - auc: 0.88 - ETA: 2:23 - loss: 0.3833 - accuracy: 0.8386 - auc: 0.88 - ETA: 2:20 - loss: 0.3834 - accuracy: 0.8385 - auc: 0.88 - ETA: 2:18 - loss: 0.3838 - accuracy: 0.8382 - auc: 0.88 - ETA: 2:15 - loss: 0.3838 - accuracy: 0.8382 - auc: 0.88 - ETA: 2:13 - loss: 0.3837 - accuracy: 0.8383 - auc: 0.88 - ETA: 2:11 - loss: 0.3839 - accuracy: 0.8381 - auc: 0.88 - ETA: 2:08 - loss: 0.3842 - accuracy: 0.8377 - auc: 0.88 - ETA: 2:06 - loss: 0.3844 - accuracy: 0.8376 - auc: 0.88 - ETA: 2:03 - loss: 0.3842 - accuracy: 0.8377 - auc: 0.8875"
     ]
    },
    {
     "name": "stdout",
     "output_type": "stream",
     "text": [
      "14929/14929 [==============================] - ETA: 2:01 - loss: 0.3842 - accuracy: 0.8376 - auc: 0.88 - ETA: 1:58 - loss: 0.3837 - accuracy: 0.8378 - auc: 0.88 - ETA: 1:56 - loss: 0.3840 - accuracy: 0.8376 - auc: 0.88 - ETA: 1:53 - loss: 0.3841 - accuracy: 0.8374 - auc: 0.88 - ETA: 1:51 - loss: 0.3845 - accuracy: 0.8372 - auc: 0.88 - ETA: 1:49 - loss: 0.3842 - accuracy: 0.8373 - auc: 0.88 - ETA: 1:46 - loss: 0.3843 - accuracy: 0.8373 - auc: 0.88 - ETA: 1:44 - loss: 0.3845 - accuracy: 0.8372 - auc: 0.88 - ETA: 1:41 - loss: 0.3846 - accuracy: 0.8370 - auc: 0.88 - ETA: 1:39 - loss: 0.3849 - accuracy: 0.8368 - auc: 0.88 - ETA: 1:36 - loss: 0.3852 - accuracy: 0.8366 - auc: 0.88 - ETA: 1:34 - loss: 0.3848 - accuracy: 0.8370 - auc: 0.88 - ETA: 1:32 - loss: 0.3850 - accuracy: 0.8368 - auc: 0.88 - ETA: 1:29 - loss: 0.3850 - accuracy: 0.8368 - auc: 0.88 - ETA: 1:27 - loss: 0.3851 - accuracy: 0.8366 - auc: 0.88 - ETA: 1:24 - loss: 0.3851 - accuracy: 0.8366 - auc: 0.88 - ETA: 1:22 - loss: 0.3854 - accuracy: 0.8364 - auc: 0.88 - ETA: 1:20 - loss: 0.3853 - accuracy: 0.8364 - auc: 0.88 - ETA: 1:17 - loss: 0.3851 - accuracy: 0.8366 - auc: 0.88 - ETA: 1:15 - loss: 0.3853 - accuracy: 0.8367 - auc: 0.88 - ETA: 1:12 - loss: 0.3853 - accuracy: 0.8367 - auc: 0.88 - ETA: 1:10 - loss: 0.3849 - accuracy: 0.8369 - auc: 0.88 - ETA: 1:07 - loss: 0.3846 - accuracy: 0.8371 - auc: 0.88 - ETA: 1:05 - loss: 0.3846 - accuracy: 0.8370 - auc: 0.88 - ETA: 1:03 - loss: 0.3843 - accuracy: 0.8373 - auc: 0.88 - ETA: 1:00 - loss: 0.3847 - accuracy: 0.8370 - auc: 0.88 - ETA: 58s - loss: 0.3849 - accuracy: 0.8369 - auc: 0.8873 - ETA: 55s - loss: 0.3849 - accuracy: 0.8368 - auc: 0.887 - ETA: 53s - loss: 0.3848 - accuracy: 0.8370 - auc: 0.887 - ETA: 51s - loss: 0.3846 - accuracy: 0.8371 - auc: 0.887 - ETA: 48s - loss: 0.3853 - accuracy: 0.8371 - auc: 0.887 - ETA: 46s - loss: 0.3852 - accuracy: 0.8372 - auc: 0.887 - ETA: 44s - loss: 0.3848 - accuracy: 0.8375 - auc: 0.887 - ETA: 41s - loss: 0.3846 - accuracy: 0.8376 - auc: 0.887 - ETA: 39s - loss: 0.3847 - accuracy: 0.8376 - auc: 0.887 - ETA: 36s - loss: 0.3846 - accuracy: 0.8377 - auc: 0.887 - ETA: 34s - loss: 0.3844 - accuracy: 0.8377 - auc: 0.887 - ETA: 32s - loss: 0.3849 - accuracy: 0.8374 - auc: 0.887 - ETA: 29s - loss: 0.3847 - accuracy: 0.8374 - auc: 0.887 - ETA: 27s - loss: 0.3851 - accuracy: 0.8372 - auc: 0.887 - ETA: 24s - loss: 0.3852 - accuracy: 0.8372 - auc: 0.887 - ETA: 22s - loss: 0.3850 - accuracy: 0.8373 - auc: 0.887 - ETA: 20s - loss: 0.3853 - accuracy: 0.8371 - auc: 0.887 - ETA: 17s - loss: 0.3851 - accuracy: 0.8373 - auc: 0.887 - ETA: 15s - loss: 0.3853 - accuracy: 0.8373 - auc: 0.886 - ETA: 13s - loss: 0.3853 - accuracy: 0.8374 - auc: 0.886 - ETA: 10s - loss: 0.3851 - accuracy: 0.8375 - auc: 0.887 - ETA: 8s - loss: 0.3852 - accuracy: 0.8375 - auc: 0.887 - ETA: 5s - loss: 0.3851 - accuracy: 0.8375 - auc: 0.88 - ETA: 3s - loss: 0.3849 - accuracy: 0.8376 - auc: 0.88 - ETA: 1s - loss: 0.3846 - accuracy: 0.8378 - auc: 0.88 - 1195s 80ms/sample - loss: 0.3848 - accuracy: 0.8378 - auc: 0.8870 - val_loss: 0.3712 - val_accuracy: 0.8363 - val_auc: 0.9011\n",
      "Epoch 3/100\n"
     ]
    },
    {
     "name": "stdout",
     "output_type": "stream",
     "text": [
      " 4352/14929 [=======>......................] - ETA: 15:51 - loss: 0.3467 - accuracy: 0.8750 - auc: 0.866 - ETA: 15:37 - loss: 0.3346 - accuracy: 0.8906 - auc: 0.881 - ETA: 15:31 - loss: 0.3776 - accuracy: 0.8646 - auc: 0.897 - ETA: 15:30 - loss: 0.3989 - accuracy: 0.8438 - auc: 0.875 - ETA: 15:26 - loss: 0.3819 - accuracy: 0.8562 - auc: 0.881 - ETA: 15:22 - loss: 0.3768 - accuracy: 0.8594 - auc: 0.881 - ETA: 15:29 - loss: 0.3783 - accuracy: 0.8571 - auc: 0.878 - ETA: 15:28 - loss: 0.3708 - accuracy: 0.8594 - auc: 0.881 - ETA: 15:24 - loss: 0.3470 - accuracy: 0.8715 - auc: 0.896 - ETA: 15:20 - loss: 0.3480 - accuracy: 0.8687 - auc: 0.896 - ETA: 15:18 - loss: 0.3446 - accuracy: 0.8722 - auc: 0.899 - ETA: 15:17 - loss: 0.3326 - accuracy: 0.8776 - auc: 0.905 - ETA: 15:13 - loss: 0.3411 - accuracy: 0.8678 - auc: 0.901 - ETA: 15:11 - loss: 0.3457 - accuracy: 0.8661 - auc: 0.899 - ETA: 15:12 - loss: 0.3396 - accuracy: 0.8687 - auc: 0.902 - ETA: 15:11 - loss: 0.3529 - accuracy: 0.8594 - auc: 0.892 - ETA: 15:09 - loss: 0.3488 - accuracy: 0.8603 - auc: 0.898 - ETA: 15:07 - loss: 0.3416 - accuracy: 0.8628 - auc: 0.902 - ETA: 15:05 - loss: 0.3433 - accuracy: 0.8618 - auc: 0.900 - ETA: 15:04 - loss: 0.3371 - accuracy: 0.8641 - auc: 0.905 - ETA: 15:03 - loss: 0.3334 - accuracy: 0.8676 - auc: 0.904 - ETA: 15:08 - loss: 0.3322 - accuracy: 0.8679 - auc: 0.907 - ETA: 15:12 - loss: 0.3329 - accuracy: 0.8668 - auc: 0.907 - ETA: 15:12 - loss: 0.3354 - accuracy: 0.8646 - auc: 0.906 - ETA: 15:09 - loss: 0.3324 - accuracy: 0.8675 - auc: 0.908 - ETA: 15:09 - loss: 0.3343 - accuracy: 0.8666 - auc: 0.906 - ETA: 15:06 - loss: 0.3347 - accuracy: 0.8669 - auc: 0.906 - ETA: 15:05 - loss: 0.3335 - accuracy: 0.8672 - auc: 0.907 - ETA: 15:02 - loss: 0.3315 - accuracy: 0.8685 - auc: 0.909 - ETA: 15:00 - loss: 0.3355 - accuracy: 0.8656 - auc: 0.907 - ETA: 15:00 - loss: 0.3355 - accuracy: 0.8659 - auc: 0.907 - ETA: 14:58 - loss: 0.3347 - accuracy: 0.8662 - auc: 0.907 - ETA: 14:56 - loss: 0.3365 - accuracy: 0.8646 - auc: 0.906 - ETA: 14:54 - loss: 0.3343 - accuracy: 0.8658 - auc: 0.908 - ETA: 14:52 - loss: 0.3380 - accuracy: 0.8625 - auc: 0.907 - ETA: 14:49 - loss: 0.3387 - accuracy: 0.8611 - auc: 0.906 - ETA: 14:47 - loss: 0.3399 - accuracy: 0.8598 - auc: 0.905 - ETA: 14:44 - loss: 0.3385 - accuracy: 0.8610 - auc: 0.905 - ETA: 14:43 - loss: 0.3419 - accuracy: 0.8598 - auc: 0.904 - ETA: 14:42 - loss: 0.3419 - accuracy: 0.8586 - auc: 0.905 - ETA: 14:40 - loss: 0.3410 - accuracy: 0.8598 - auc: 0.906 - ETA: 14:38 - loss: 0.3400 - accuracy: 0.8601 - auc: 0.906 - ETA: 14:37 - loss: 0.3409 - accuracy: 0.8597 - auc: 0.905 - ETA: 14:37 - loss: 0.3368 - accuracy: 0.8622 - auc: 0.907 - ETA: 14:40 - loss: 0.3374 - accuracy: 0.8625 - auc: 0.907 - ETA: 14:41 - loss: 0.3403 - accuracy: 0.8628 - auc: 0.906 - ETA: 14:43 - loss: 0.3387 - accuracy: 0.8650 - auc: 0.907 - ETA: 14:44 - loss: 0.3409 - accuracy: 0.8639 - auc: 0.906 - ETA: 14:45 - loss: 0.3434 - accuracy: 0.8622 - auc: 0.904 - ETA: 14:45 - loss: 0.3441 - accuracy: 0.8625 - auc: 0.903 - ETA: 14:46 - loss: 0.3418 - accuracy: 0.8634 - auc: 0.905 - ETA: 14:48 - loss: 0.3415 - accuracy: 0.8642 - auc: 0.905 - ETA: 14:50 - loss: 0.3419 - accuracy: 0.8638 - auc: 0.904 - ETA: 14:50 - loss: 0.3403 - accuracy: 0.8646 - auc: 0.905 - ETA: 14:50 - loss: 0.3389 - accuracy: 0.8653 - auc: 0.906 - ETA: 14:50 - loss: 0.3431 - accuracy: 0.8627 - auc: 0.903 - ETA: 14:50 - loss: 0.3449 - accuracy: 0.8613 - auc: 0.903 - ETA: 14:49 - loss: 0.3428 - accuracy: 0.8626 - auc: 0.904 - ETA: 14:49 - loss: 0.3418 - accuracy: 0.8628 - auc: 0.904 - ETA: 14:49 - loss: 0.3462 - accuracy: 0.8604 - auc: 0.901 - ETA: 14:49 - loss: 0.3460 - accuracy: 0.8601 - auc: 0.902 - ETA: 14:49 - loss: 0.3506 - accuracy: 0.8579 - auc: 0.900 - ETA: 14:48 - loss: 0.3528 - accuracy: 0.8566 - auc: 0.899 - ETA: 14:46 - loss: 0.3538 - accuracy: 0.8560 - auc: 0.898 - ETA: 14:43 - loss: 0.3524 - accuracy: 0.8567 - auc: 0.899 - ETA: 14:40 - loss: 0.3528 - accuracy: 0.8561 - auc: 0.900 - ETA: 14:38 - loss: 0.3520 - accuracy: 0.8559 - auc: 0.901 - ETA: 14:36 - loss: 0.3519 - accuracy: 0.8562 - auc: 0.901 - ETA: 14:34 - loss: 0.3511 - accuracy: 0.8564 - auc: 0.902 - ETA: 14:31 - loss: 0.3503 - accuracy: 0.8571 - auc: 0.902 - ETA: 14:28 - loss: 0.3500 - accuracy: 0.8574 - auc: 0.902 - ETA: 14:25 - loss: 0.3522 - accuracy: 0.8555 - auc: 0.901 - ETA: 14:22 - loss: 0.3513 - accuracy: 0.8566 - auc: 0.902 - ETA: 14:19 - loss: 0.3530 - accuracy: 0.8547 - auc: 0.901 - ETA: 14:16 - loss: 0.3531 - accuracy: 0.8546 - auc: 0.901 - ETA: 14:12 - loss: 0.3521 - accuracy: 0.8553 - auc: 0.901 - ETA: 14:09 - loss: 0.3530 - accuracy: 0.8543 - auc: 0.901 - ETA: 14:07 - loss: 0.3529 - accuracy: 0.8546 - auc: 0.901 - ETA: 14:04 - loss: 0.3523 - accuracy: 0.8548 - auc: 0.901 - ETA: 14:01 - loss: 0.3570 - accuracy: 0.8535 - auc: 0.901 - ETA: 13:58 - loss: 0.3558 - accuracy: 0.8542 - auc: 0.901 - ETA: 13:57 - loss: 0.3539 - accuracy: 0.8548 - auc: 0.903 - ETA: 13:54 - loss: 0.3528 - accuracy: 0.8550 - auc: 0.904 - ETA: 13:51 - loss: 0.3534 - accuracy: 0.8549 - auc: 0.903 - ETA: 13:48 - loss: 0.3548 - accuracy: 0.8544 - auc: 0.902 - ETA: 13:45 - loss: 0.3549 - accuracy: 0.8539 - auc: 0.902 - ETA: 13:43 - loss: 0.3547 - accuracy: 0.8542 - auc: 0.903 - ETA: 13:40 - loss: 0.3534 - accuracy: 0.8551 - auc: 0.903 - ETA: 13:37 - loss: 0.3536 - accuracy: 0.8543 - auc: 0.903 - ETA: 13:35 - loss: 0.3551 - accuracy: 0.8531 - auc: 0.902 - ETA: 13:32 - loss: 0.3543 - accuracy: 0.8534 - auc: 0.902 - ETA: 13:29 - loss: 0.3559 - accuracy: 0.8522 - auc: 0.901 - ETA: 13:27 - loss: 0.3570 - accuracy: 0.8515 - auc: 0.901 - ETA: 13:24 - loss: 0.3575 - accuracy: 0.8511 - auc: 0.900 - ETA: 13:21 - loss: 0.3572 - accuracy: 0.8513 - auc: 0.900 - ETA: 13:19 - loss: 0.3578 - accuracy: 0.8509 - auc: 0.900 - ETA: 13:16 - loss: 0.3572 - accuracy: 0.8508 - auc: 0.900 - ETA: 13:14 - loss: 0.3590 - accuracy: 0.8492 - auc: 0.899 - ETA: 13:11 - loss: 0.3595 - accuracy: 0.8485 - auc: 0.899 - ETA: 13:09 - loss: 0.3595 - accuracy: 0.8487 - auc: 0.899 - ETA: 13:06 - loss: 0.3584 - accuracy: 0.8499 - auc: 0.899 - ETA: 13:04 - loss: 0.3580 - accuracy: 0.8499 - auc: 0.899 - ETA: 13:01 - loss: 0.3582 - accuracy: 0.8498 - auc: 0.899 - ETA: 12:59 - loss: 0.3594 - accuracy: 0.8489 - auc: 0.898 - ETA: 12:58 - loss: 0.3596 - accuracy: 0.8488 - auc: 0.898 - ETA: 12:57 - loss: 0.3601 - accuracy: 0.8488 - auc: 0.898 - ETA: 12:55 - loss: 0.3622 - accuracy: 0.8481 - auc: 0.896 - ETA: 12:54 - loss: 0.3620 - accuracy: 0.8484 - auc: 0.897 - ETA: 12:53 - loss: 0.3618 - accuracy: 0.8489 - auc: 0.897 - ETA: 12:52 - loss: 0.3613 - accuracy: 0.8497 - auc: 0.897 - ETA: 12:50 - loss: 0.3613 - accuracy: 0.8497 - auc: 0.897 - ETA: 12:50 - loss: 0.3610 - accuracy: 0.8496 - auc: 0.898 - ETA: 12:48 - loss: 0.3603 - accuracy: 0.8501 - auc: 0.898 - ETA: 12:47 - loss: 0.3593 - accuracy: 0.8509 - auc: 0.898 - ETA: 12:46 - loss: 0.3604 - accuracy: 0.8503 - auc: 0.898 - ETA: 12:44 - loss: 0.3624 - accuracy: 0.8491 - auc: 0.897 - ETA: 12:43 - loss: 0.3616 - accuracy: 0.8496 - auc: 0.897 - ETA: 12:41 - loss: 0.3613 - accuracy: 0.8501 - auc: 0.898 - ETA: 12:40 - loss: 0.3600 - accuracy: 0.8508 - auc: 0.898 - ETA: 12:38 - loss: 0.3590 - accuracy: 0.8516 - auc: 0.899 - ETA: 12:37 - loss: 0.3595 - accuracy: 0.8512 - auc: 0.899 - ETA: 12:36 - loss: 0.3587 - accuracy: 0.8519 - auc: 0.899 - ETA: 12:34 - loss: 0.3575 - accuracy: 0.8526 - auc: 0.900 - ETA: 12:32 - loss: 0.3579 - accuracy: 0.8523 - auc: 0.899 - ETA: 12:31 - loss: 0.3583 - accuracy: 0.8518 - auc: 0.899 - ETA: 12:29 - loss: 0.3579 - accuracy: 0.8519 - auc: 0.900 - ETA: 12:28 - loss: 0.3585 - accuracy: 0.8516 - auc: 0.899 - ETA: 12:26 - loss: 0.3572 - accuracy: 0.8523 - auc: 0.900 - ETA: 12:25 - loss: 0.3573 - accuracy: 0.8517 - auc: 0.900 - ETA: 12:24 - loss: 0.3590 - accuracy: 0.8512 - auc: 0.899 - ETA: 12:23 - loss: 0.3592 - accuracy: 0.8509 - auc: 0.899 - ETA: 12:21 - loss: 0.3600 - accuracy: 0.8501 - auc: 0.898 - ETA: 12:20 - loss: 0.3595 - accuracy: 0.8503 - auc: 0.898 - ETA: 12:18 - loss: 0.3597 - accuracy: 0.8507 - auc: 0.898 - ETA: 12:16 - loss: 0.3598 - accuracy: 0.8507 - auc: 0.899 - ETA: 12:15 - loss: 0.3597 - accuracy: 0.8506 - auc: 0.8991 8800/14929 [================>.............] - ETA: 12:13 - loss: 0.3603 - accuracy: 0.8504 - auc: 0.898 - ETA: 12:11 - loss: 0.3608 - accuracy: 0.8505 - auc: 0.898 - ETA: 12:10 - loss: 0.3605 - accuracy: 0.8507 - auc: 0.899 - ETA: 12:08 - loss: 0.3602 - accuracy: 0.8511 - auc: 0.899 - ETA: 12:07 - loss: 0.3600 - accuracy: 0.8515 - auc: 0.899 - ETA: 12:05 - loss: 0.3591 - accuracy: 0.8521 - auc: 0.900 - ETA: 12:03 - loss: 0.3616 - accuracy: 0.8505 - auc: 0.898 - ETA: 12:01 - loss: 0.3620 - accuracy: 0.8505 - auc: 0.897 - ETA: 12:00 - loss: 0.3613 - accuracy: 0.8509 - auc: 0.898 - ETA: 11:58 - loss: 0.3621 - accuracy: 0.8500 - auc: 0.897 - ETA: 11:56 - loss: 0.3617 - accuracy: 0.8499 - auc: 0.898 - ETA: 11:55 - loss: 0.3609 - accuracy: 0.8505 - auc: 0.898 - ETA: 11:53 - loss: 0.3620 - accuracy: 0.8503 - auc: 0.898 - ETA: 11:51 - loss: 0.3614 - accuracy: 0.8506 - auc: 0.898 - ETA: 11:49 - loss: 0.3622 - accuracy: 0.8502 - auc: 0.897 - ETA: 11:48 - loss: 0.3627 - accuracy: 0.8499 - auc: 0.897 - ETA: 11:46 - loss: 0.3622 - accuracy: 0.8503 - auc: 0.897 - ETA: 11:44 - loss: 0.3617 - accuracy: 0.8504 - auc: 0.898 - ETA: 11:42 - loss: 0.3616 - accuracy: 0.8506 - auc: 0.898 - ETA: 11:41 - loss: 0.3602 - accuracy: 0.8514 - auc: 0.899 - ETA: 11:39 - loss: 0.3596 - accuracy: 0.8515 - auc: 0.899 - ETA: 11:36 - loss: 0.3599 - accuracy: 0.8511 - auc: 0.899 - ETA: 11:34 - loss: 0.3602 - accuracy: 0.8508 - auc: 0.898 - ETA: 11:31 - loss: 0.3607 - accuracy: 0.8504 - auc: 0.898 - ETA: 11:28 - loss: 0.3611 - accuracy: 0.8500 - auc: 0.898 - ETA: 11:26 - loss: 0.3615 - accuracy: 0.8503 - auc: 0.898 - ETA: 11:23 - loss: 0.3611 - accuracy: 0.8503 - auc: 0.898 - ETA: 11:21 - loss: 0.3611 - accuracy: 0.8504 - auc: 0.898 - ETA: 11:18 - loss: 0.3607 - accuracy: 0.8508 - auc: 0.898 - ETA: 11:16 - loss: 0.3612 - accuracy: 0.8505 - auc: 0.898 - ETA: 11:14 - loss: 0.3623 - accuracy: 0.8503 - auc: 0.898 - ETA: 11:11 - loss: 0.3612 - accuracy: 0.8510 - auc: 0.898 - ETA: 11:09 - loss: 0.3614 - accuracy: 0.8506 - auc: 0.898 - ETA: 11:06 - loss: 0.3612 - accuracy: 0.8507 - auc: 0.898 - ETA: 11:04 - loss: 0.3613 - accuracy: 0.8507 - auc: 0.898 - ETA: 11:01 - loss: 0.3613 - accuracy: 0.8508 - auc: 0.898 - ETA: 10:59 - loss: 0.3605 - accuracy: 0.8513 - auc: 0.898 - ETA: 10:57 - loss: 0.3606 - accuracy: 0.8515 - auc: 0.898 - ETA: 10:55 - loss: 0.3599 - accuracy: 0.8520 - auc: 0.898 - ETA: 10:53 - loss: 0.3599 - accuracy: 0.8517 - auc: 0.898 - ETA: 10:51 - loss: 0.3597 - accuracy: 0.8520 - auc: 0.898 - ETA: 10:49 - loss: 0.3599 - accuracy: 0.8520 - auc: 0.898 - ETA: 10:47 - loss: 0.3597 - accuracy: 0.8521 - auc: 0.899 - ETA: 10:45 - loss: 0.3601 - accuracy: 0.8516 - auc: 0.899 - ETA: 10:43 - loss: 0.3599 - accuracy: 0.8517 - auc: 0.899 - ETA: 10:41 - loss: 0.3598 - accuracy: 0.8513 - auc: 0.899 - ETA: 10:39 - loss: 0.3586 - accuracy: 0.8519 - auc: 0.899 - ETA: 10:37 - loss: 0.3582 - accuracy: 0.8522 - auc: 0.900 - ETA: 10:35 - loss: 0.3576 - accuracy: 0.8527 - auc: 0.900 - ETA: 10:34 - loss: 0.3574 - accuracy: 0.8530 - auc: 0.900 - ETA: 10:32 - loss: 0.3586 - accuracy: 0.8526 - auc: 0.900 - ETA: 10:30 - loss: 0.3581 - accuracy: 0.8529 - auc: 0.900 - ETA: 10:28 - loss: 0.3576 - accuracy: 0.8530 - auc: 0.900 - ETA: 10:26 - loss: 0.3569 - accuracy: 0.8533 - auc: 0.901 - ETA: 10:24 - loss: 0.3560 - accuracy: 0.8539 - auc: 0.901 - ETA: 10:21 - loss: 0.3558 - accuracy: 0.8540 - auc: 0.901 - ETA: 10:19 - loss: 0.3555 - accuracy: 0.8541 - auc: 0.902 - ETA: 10:16 - loss: 0.3567 - accuracy: 0.8534 - auc: 0.901 - ETA: 10:14 - loss: 0.3575 - accuracy: 0.8530 - auc: 0.901 - ETA: 10:12 - loss: 0.3571 - accuracy: 0.8533 - auc: 0.901 - ETA: 10:09 - loss: 0.3566 - accuracy: 0.8536 - auc: 0.901 - ETA: 10:07 - loss: 0.3568 - accuracy: 0.8534 - auc: 0.901 - ETA: 10:04 - loss: 0.3570 - accuracy: 0.8532 - auc: 0.901 - ETA: 10:01 - loss: 0.3568 - accuracy: 0.8531 - auc: 0.901 - ETA: 9:59 - loss: 0.3567 - accuracy: 0.8532 - auc: 0.901 - ETA: 9:57 - loss: 0.3571 - accuracy: 0.8530 - auc: 0.90 - ETA: 9:55 - loss: 0.3572 - accuracy: 0.8531 - auc: 0.90 - ETA: 9:52 - loss: 0.3569 - accuracy: 0.8532 - auc: 0.90 - ETA: 9:49 - loss: 0.3582 - accuracy: 0.8526 - auc: 0.90 - ETA: 9:47 - loss: 0.3577 - accuracy: 0.8529 - auc: 0.90 - ETA: 9:44 - loss: 0.3573 - accuracy: 0.8531 - auc: 0.90 - ETA: 9:42 - loss: 0.3571 - accuracy: 0.8534 - auc: 0.90 - ETA: 9:39 - loss: 0.3567 - accuracy: 0.8536 - auc: 0.90 - ETA: 9:37 - loss: 0.3565 - accuracy: 0.8537 - auc: 0.90 - ETA: 9:34 - loss: 0.3563 - accuracy: 0.8540 - auc: 0.90 - ETA: 9:32 - loss: 0.3562 - accuracy: 0.8539 - auc: 0.90 - ETA: 9:29 - loss: 0.3567 - accuracy: 0.8537 - auc: 0.90 - ETA: 9:27 - loss: 0.3567 - accuracy: 0.8538 - auc: 0.90 - ETA: 9:24 - loss: 0.3565 - accuracy: 0.8541 - auc: 0.90 - ETA: 9:21 - loss: 0.3575 - accuracy: 0.8537 - auc: 0.90 - ETA: 9:19 - loss: 0.3569 - accuracy: 0.8541 - auc: 0.90 - ETA: 9:16 - loss: 0.3570 - accuracy: 0.8541 - auc: 0.90 - ETA: 9:14 - loss: 0.3568 - accuracy: 0.8540 - auc: 0.90 - ETA: 9:11 - loss: 0.3563 - accuracy: 0.8544 - auc: 0.90 - ETA: 9:09 - loss: 0.3569 - accuracy: 0.8541 - auc: 0.90 - ETA: 9:06 - loss: 0.3564 - accuracy: 0.8546 - auc: 0.90 - ETA: 9:04 - loss: 0.3558 - accuracy: 0.8550 - auc: 0.90 - ETA: 9:01 - loss: 0.3559 - accuracy: 0.8548 - auc: 0.90 - ETA: 8:59 - loss: 0.3559 - accuracy: 0.8547 - auc: 0.90 - ETA: 8:56 - loss: 0.3564 - accuracy: 0.8547 - auc: 0.90 - ETA: 8:54 - loss: 0.3564 - accuracy: 0.8548 - auc: 0.90 - ETA: 8:52 - loss: 0.3563 - accuracy: 0.8547 - auc: 0.90 - ETA: 8:49 - loss: 0.3558 - accuracy: 0.8547 - auc: 0.90 - ETA: 8:47 - loss: 0.3560 - accuracy: 0.8543 - auc: 0.90 - ETA: 8:45 - loss: 0.3558 - accuracy: 0.8544 - auc: 0.90 - ETA: 8:42 - loss: 0.3557 - accuracy: 0.8545 - auc: 0.90 - ETA: 8:40 - loss: 0.3559 - accuracy: 0.8545 - auc: 0.90 - ETA: 8:37 - loss: 0.3562 - accuracy: 0.8543 - auc: 0.90 - ETA: 8:35 - loss: 0.3560 - accuracy: 0.8545 - auc: 0.90 - ETA: 8:32 - loss: 0.3559 - accuracy: 0.8542 - auc: 0.90 - ETA: 8:30 - loss: 0.3558 - accuracy: 0.8543 - auc: 0.90 - ETA: 8:28 - loss: 0.3558 - accuracy: 0.8539 - auc: 0.90 - ETA: 8:25 - loss: 0.3565 - accuracy: 0.8533 - auc: 0.90 - ETA: 8:23 - loss: 0.3579 - accuracy: 0.8522 - auc: 0.90 - ETA: 8:20 - loss: 0.3581 - accuracy: 0.8523 - auc: 0.90 - ETA: 8:18 - loss: 0.3585 - accuracy: 0.8523 - auc: 0.90 - ETA: 8:15 - loss: 0.3584 - accuracy: 0.8522 - auc: 0.90 - ETA: 8:13 - loss: 0.3585 - accuracy: 0.8522 - auc: 0.90 - ETA: 8:10 - loss: 0.3589 - accuracy: 0.8519 - auc: 0.90 - ETA: 8:08 - loss: 0.3591 - accuracy: 0.8518 - auc: 0.90 - ETA: 8:06 - loss: 0.3588 - accuracy: 0.8521 - auc: 0.90 - ETA: 8:03 - loss: 0.3591 - accuracy: 0.8519 - auc: 0.90 - ETA: 8:01 - loss: 0.3591 - accuracy: 0.8520 - auc: 0.90 - ETA: 7:58 - loss: 0.3592 - accuracy: 0.8521 - auc: 0.89 - ETA: 7:56 - loss: 0.3589 - accuracy: 0.8523 - auc: 0.90 - ETA: 7:54 - loss: 0.3585 - accuracy: 0.8524 - auc: 0.90 - ETA: 7:51 - loss: 0.3586 - accuracy: 0.8524 - auc: 0.90 - ETA: 7:49 - loss: 0.3588 - accuracy: 0.8525 - auc: 0.90 - ETA: 7:46 - loss: 0.3590 - accuracy: 0.8522 - auc: 0.90 - ETA: 7:44 - loss: 0.3590 - accuracy: 0.8521 - auc: 0.90 - ETA: 7:42 - loss: 0.3600 - accuracy: 0.8517 - auc: 0.89 - ETA: 7:39 - loss: 0.3600 - accuracy: 0.8516 - auc: 0.89 - ETA: 7:37 - loss: 0.3598 - accuracy: 0.8520 - auc: 0.89 - ETA: 7:35 - loss: 0.3599 - accuracy: 0.8518 - auc: 0.89 - ETA: 7:32 - loss: 0.3603 - accuracy: 0.8519 - auc: 0.89 - ETA: 7:30 - loss: 0.3602 - accuracy: 0.8519 - auc: 0.89 - ETA: 7:28 - loss: 0.3603 - accuracy: 0.8516 - auc: 0.89 - ETA: 7:25 - loss: 0.3605 - accuracy: 0.8516 - auc: 0.89 - ETA: 7:23 - loss: 0.3603 - accuracy: 0.8514 - auc: 0.89 - ETA: 7:21 - loss: 0.3602 - accuracy: 0.8514 - auc: 0.89 - ETA: 7:19 - loss: 0.3604 - accuracy: 0.8512 - auc: 0.89 - ETA: 7:16 - loss: 0.3606 - accuracy: 0.8512 - auc: 0.89 - ETA: 7:14 - loss: 0.3605 - accuracy: 0.8512 - auc: 0.89 - ETA: 7:12 - loss: 0.3606 - accuracy: 0.8508 - auc: 0.89 - ETA: 7:10 - loss: 0.3607 - accuracy: 0.8508 - auc: 0.89 - ETA: 7:07 - loss: 0.3610 - accuracy: 0.8504 - auc: 0.89 - ETA: 7:05 - loss: 0.3611 - accuracy: 0.8505 - auc: 0.89 - ETA: 7:03 - loss: 0.3613 - accuracy: 0.8506 - auc: 0.89 - ETA: 7:01 - loss: 0.3611 - accuracy: 0.8507 - auc: 0.898513312/14929 [=========================>....] - ETA: 6:59 - loss: 0.3606 - accuracy: 0.8511 - auc: 0.89 - ETA: 6:57 - loss: 0.3605 - accuracy: 0.8511 - auc: 0.89 - ETA: 6:55 - loss: 0.3602 - accuracy: 0.8512 - auc: 0.89 - ETA: 6:52 - loss: 0.3597 - accuracy: 0.8515 - auc: 0.89 - ETA: 6:50 - loss: 0.3598 - accuracy: 0.8515 - auc: 0.89 - ETA: 6:48 - loss: 0.3600 - accuracy: 0.8516 - auc: 0.89 - ETA: 6:46 - loss: 0.3598 - accuracy: 0.8518 - auc: 0.89 - ETA: 6:43 - loss: 0.3602 - accuracy: 0.8518 - auc: 0.89 - ETA: 6:41 - loss: 0.3599 - accuracy: 0.8520 - auc: 0.89 - ETA: 6:39 - loss: 0.3597 - accuracy: 0.8522 - auc: 0.89 - ETA: 6:37 - loss: 0.3598 - accuracy: 0.8522 - auc: 0.89 - ETA: 6:34 - loss: 0.3600 - accuracy: 0.8521 - auc: 0.89 - ETA: 6:32 - loss: 0.3599 - accuracy: 0.8523 - auc: 0.89 - ETA: 6:30 - loss: 0.3612 - accuracy: 0.8518 - auc: 0.89 - ETA: 6:27 - loss: 0.3606 - accuracy: 0.8523 - auc: 0.89 - ETA: 6:25 - loss: 0.3606 - accuracy: 0.8521 - auc: 0.89 - ETA: 6:23 - loss: 0.3604 - accuracy: 0.8522 - auc: 0.89 - ETA: 6:21 - loss: 0.3600 - accuracy: 0.8524 - auc: 0.89 - ETA: 6:19 - loss: 0.3598 - accuracy: 0.8525 - auc: 0.89 - ETA: 6:17 - loss: 0.3598 - accuracy: 0.8523 - auc: 0.89 - ETA: 6:14 - loss: 0.3601 - accuracy: 0.8520 - auc: 0.89 - ETA: 6:12 - loss: 0.3600 - accuracy: 0.8523 - auc: 0.89 - ETA: 6:10 - loss: 0.3601 - accuracy: 0.8520 - auc: 0.89 - ETA: 6:08 - loss: 0.3603 - accuracy: 0.8517 - auc: 0.89 - ETA: 6:06 - loss: 0.3601 - accuracy: 0.8519 - auc: 0.89 - ETA: 6:04 - loss: 0.3599 - accuracy: 0.8520 - auc: 0.89 - ETA: 6:02 - loss: 0.3595 - accuracy: 0.8521 - auc: 0.89 - ETA: 6:00 - loss: 0.3597 - accuracy: 0.8519 - auc: 0.89 - ETA: 5:58 - loss: 0.3594 - accuracy: 0.8522 - auc: 0.89 - ETA: 5:56 - loss: 0.3592 - accuracy: 0.8525 - auc: 0.89 - ETA: 5:54 - loss: 0.3589 - accuracy: 0.8526 - auc: 0.90 - ETA: 5:52 - loss: 0.3595 - accuracy: 0.8524 - auc: 0.89 - ETA: 5:50 - loss: 0.3596 - accuracy: 0.8525 - auc: 0.89 - ETA: 5:48 - loss: 0.3598 - accuracy: 0.8522 - auc: 0.89 - ETA: 5:45 - loss: 0.3598 - accuracy: 0.8523 - auc: 0.89 - ETA: 5:43 - loss: 0.3599 - accuracy: 0.8522 - auc: 0.89 - ETA: 5:41 - loss: 0.3599 - accuracy: 0.8520 - auc: 0.89 - ETA: 5:39 - loss: 0.3599 - accuracy: 0.8521 - auc: 0.89 - ETA: 5:37 - loss: 0.3598 - accuracy: 0.8521 - auc: 0.89 - ETA: 5:35 - loss: 0.3598 - accuracy: 0.8522 - auc: 0.89 - ETA: 5:33 - loss: 0.3601 - accuracy: 0.8519 - auc: 0.89 - ETA: 5:31 - loss: 0.3604 - accuracy: 0.8516 - auc: 0.89 - ETA: 5:29 - loss: 0.3603 - accuracy: 0.8516 - auc: 0.89 - ETA: 5:27 - loss: 0.3603 - accuracy: 0.8515 - auc: 0.89 - ETA: 5:25 - loss: 0.3601 - accuracy: 0.8519 - auc: 0.89 - ETA: 5:23 - loss: 0.3601 - accuracy: 0.8519 - auc: 0.89 - ETA: 5:20 - loss: 0.3601 - accuracy: 0.8519 - auc: 0.89 - ETA: 5:18 - loss: 0.3597 - accuracy: 0.8521 - auc: 0.89 - ETA: 5:16 - loss: 0.3595 - accuracy: 0.8521 - auc: 0.89 - ETA: 5:14 - loss: 0.3589 - accuracy: 0.8524 - auc: 0.89 - ETA: 5:12 - loss: 0.3587 - accuracy: 0.8525 - auc: 0.90 - ETA: 5:10 - loss: 0.3587 - accuracy: 0.8524 - auc: 0.90 - ETA: 5:08 - loss: 0.3589 - accuracy: 0.8525 - auc: 0.90 - ETA: 5:05 - loss: 0.3584 - accuracy: 0.8528 - auc: 0.90 - ETA: 5:03 - loss: 0.3588 - accuracy: 0.8525 - auc: 0.90 - ETA: 5:01 - loss: 0.3586 - accuracy: 0.8526 - auc: 0.90 - ETA: 4:59 - loss: 0.3589 - accuracy: 0.8526 - auc: 0.90 - ETA: 4:57 - loss: 0.3590 - accuracy: 0.8525 - auc: 0.89 - ETA: 4:55 - loss: 0.3587 - accuracy: 0.8525 - auc: 0.90 - ETA: 4:53 - loss: 0.3586 - accuracy: 0.8526 - auc: 0.90 - ETA: 4:50 - loss: 0.3588 - accuracy: 0.8525 - auc: 0.90 - ETA: 4:48 - loss: 0.3588 - accuracy: 0.8526 - auc: 0.90 - ETA: 4:46 - loss: 0.3591 - accuracy: 0.8523 - auc: 0.89 - ETA: 4:44 - loss: 0.3596 - accuracy: 0.8521 - auc: 0.89 - ETA: 4:42 - loss: 0.3598 - accuracy: 0.8520 - auc: 0.89 - ETA: 4:40 - loss: 0.3599 - accuracy: 0.8519 - auc: 0.89 - ETA: 4:38 - loss: 0.3600 - accuracy: 0.8517 - auc: 0.89 - ETA: 4:36 - loss: 0.3598 - accuracy: 0.8519 - auc: 0.89 - ETA: 4:34 - loss: 0.3599 - accuracy: 0.8517 - auc: 0.89 - ETA: 4:32 - loss: 0.3597 - accuracy: 0.8519 - auc: 0.89 - ETA: 4:29 - loss: 0.3601 - accuracy: 0.8517 - auc: 0.89 - ETA: 4:27 - loss: 0.3598 - accuracy: 0.8520 - auc: 0.89 - ETA: 4:25 - loss: 0.3596 - accuracy: 0.8521 - auc: 0.89 - ETA: 4:23 - loss: 0.3595 - accuracy: 0.8522 - auc: 0.89 - ETA: 4:21 - loss: 0.3596 - accuracy: 0.8522 - auc: 0.89 - ETA: 4:19 - loss: 0.3594 - accuracy: 0.8524 - auc: 0.89 - ETA: 4:16 - loss: 0.3595 - accuracy: 0.8521 - auc: 0.89 - ETA: 4:14 - loss: 0.3594 - accuracy: 0.8522 - auc: 0.89 - ETA: 4:12 - loss: 0.3597 - accuracy: 0.8520 - auc: 0.89 - ETA: 4:10 - loss: 0.3596 - accuracy: 0.8520 - auc: 0.89 - ETA: 4:08 - loss: 0.3596 - accuracy: 0.8519 - auc: 0.89 - ETA: 4:06 - loss: 0.3602 - accuracy: 0.8515 - auc: 0.89 - ETA: 4:03 - loss: 0.3604 - accuracy: 0.8514 - auc: 0.89 - ETA: 4:01 - loss: 0.3608 - accuracy: 0.8511 - auc: 0.89 - ETA: 3:59 - loss: 0.3614 - accuracy: 0.8508 - auc: 0.89 - ETA: 3:57 - loss: 0.3610 - accuracy: 0.8510 - auc: 0.89 - ETA: 3:55 - loss: 0.3608 - accuracy: 0.8511 - auc: 0.89 - ETA: 3:52 - loss: 0.3609 - accuracy: 0.8510 - auc: 0.89 - ETA: 3:50 - loss: 0.3611 - accuracy: 0.8510 - auc: 0.89 - ETA: 3:48 - loss: 0.3611 - accuracy: 0.8511 - auc: 0.89 - ETA: 3:46 - loss: 0.3610 - accuracy: 0.8512 - auc: 0.89 - ETA: 3:44 - loss: 0.3608 - accuracy: 0.8512 - auc: 0.89 - ETA: 3:41 - loss: 0.3610 - accuracy: 0.8513 - auc: 0.89 - ETA: 3:39 - loss: 0.3611 - accuracy: 0.8513 - auc: 0.89 - ETA: 3:37 - loss: 0.3612 - accuracy: 0.8511 - auc: 0.89 - ETA: 3:35 - loss: 0.3620 - accuracy: 0.8508 - auc: 0.89 - ETA: 3:33 - loss: 0.3621 - accuracy: 0.8506 - auc: 0.89 - ETA: 3:30 - loss: 0.3620 - accuracy: 0.8506 - auc: 0.89 - ETA: 3:28 - loss: 0.3620 - accuracy: 0.8505 - auc: 0.89 - ETA: 3:26 - loss: 0.3622 - accuracy: 0.8503 - auc: 0.89 - ETA: 3:24 - loss: 0.3619 - accuracy: 0.8504 - auc: 0.89 - ETA: 3:22 - loss: 0.3619 - accuracy: 0.8504 - auc: 0.89 - ETA: 3:19 - loss: 0.3619 - accuracy: 0.8504 - auc: 0.89 - ETA: 3:17 - loss: 0.3617 - accuracy: 0.8506 - auc: 0.89 - ETA: 3:15 - loss: 0.3619 - accuracy: 0.8504 - auc: 0.89 - ETA: 3:13 - loss: 0.3620 - accuracy: 0.8501 - auc: 0.89 - ETA: 3:11 - loss: 0.3617 - accuracy: 0.8501 - auc: 0.89 - ETA: 3:08 - loss: 0.3616 - accuracy: 0.8503 - auc: 0.89 - ETA: 3:06 - loss: 0.3615 - accuracy: 0.8504 - auc: 0.89 - ETA: 3:04 - loss: 0.3612 - accuracy: 0.8507 - auc: 0.89 - ETA: 3:02 - loss: 0.3616 - accuracy: 0.8503 - auc: 0.89 - ETA: 2:59 - loss: 0.3614 - accuracy: 0.8505 - auc: 0.89 - ETA: 2:57 - loss: 0.3618 - accuracy: 0.8502 - auc: 0.89 - ETA: 2:55 - loss: 0.3622 - accuracy: 0.8499 - auc: 0.89 - ETA: 2:53 - loss: 0.3623 - accuracy: 0.8498 - auc: 0.89 - ETA: 2:51 - loss: 0.3623 - accuracy: 0.8497 - auc: 0.89 - ETA: 2:48 - loss: 0.3624 - accuracy: 0.8496 - auc: 0.89 - ETA: 2:46 - loss: 0.3626 - accuracy: 0.8495 - auc: 0.89 - ETA: 2:44 - loss: 0.3623 - accuracy: 0.8496 - auc: 0.89 - ETA: 2:42 - loss: 0.3620 - accuracy: 0.8498 - auc: 0.89 - ETA: 2:40 - loss: 0.3619 - accuracy: 0.8500 - auc: 0.89 - ETA: 2:37 - loss: 0.3621 - accuracy: 0.8499 - auc: 0.89 - ETA: 2:35 - loss: 0.3620 - accuracy: 0.8500 - auc: 0.89 - ETA: 2:33 - loss: 0.3622 - accuracy: 0.8500 - auc: 0.89 - ETA: 2:31 - loss: 0.3620 - accuracy: 0.8501 - auc: 0.89 - ETA: 2:28 - loss: 0.3624 - accuracy: 0.8501 - auc: 0.89 - ETA: 2:26 - loss: 0.3627 - accuracy: 0.8500 - auc: 0.89 - ETA: 2:24 - loss: 0.3628 - accuracy: 0.8500 - auc: 0.89 - ETA: 2:22 - loss: 0.3629 - accuracy: 0.8499 - auc: 0.89 - ETA: 2:19 - loss: 0.3627 - accuracy: 0.8501 - auc: 0.89 - ETA: 2:17 - loss: 0.3630 - accuracy: 0.8501 - auc: 0.89 - ETA: 2:15 - loss: 0.3632 - accuracy: 0.8498 - auc: 0.89 - ETA: 2:13 - loss: 0.3632 - accuracy: 0.8497 - auc: 0.89 - ETA: 2:10 - loss: 0.3631 - accuracy: 0.8498 - auc: 0.89 - ETA: 2:08 - loss: 0.3633 - accuracy: 0.8497 - auc: 0.89 - ETA: 2:06 - loss: 0.3633 - accuracy: 0.8498 - auc: 0.89 - ETA: 2:04 - loss: 0.3637 - accuracy: 0.8495 - auc: 0.89 - ETA: 2:01 - loss: 0.3633 - accuracy: 0.8497 - auc: 0.89 - ETA: 1:59 - loss: 0.3637 - accuracy: 0.8496 - auc: 0.89 - ETA: 1:57 - loss: 0.3637 - accuracy: 0.8496 - auc: 0.89 - ETA: 1:55 - loss: 0.3635 - accuracy: 0.8498 - auc: 0.8979"
     ]
    },
    {
     "name": "stdout",
     "output_type": "stream",
     "text": [
      "14929/14929 [==============================] - ETA: 1:52 - loss: 0.3636 - accuracy: 0.8496 - auc: 0.89 - ETA: 1:50 - loss: 0.3634 - accuracy: 0.8497 - auc: 0.89 - ETA: 1:48 - loss: 0.3632 - accuracy: 0.8498 - auc: 0.89 - ETA: 1:46 - loss: 0.3633 - accuracy: 0.8496 - auc: 0.89 - ETA: 1:43 - loss: 0.3637 - accuracy: 0.8493 - auc: 0.89 - ETA: 1:41 - loss: 0.3634 - accuracy: 0.8495 - auc: 0.89 - ETA: 1:39 - loss: 0.3631 - accuracy: 0.8498 - auc: 0.89 - ETA: 1:37 - loss: 0.3628 - accuracy: 0.8500 - auc: 0.89 - ETA: 1:34 - loss: 0.3630 - accuracy: 0.8499 - auc: 0.89 - ETA: 1:32 - loss: 0.3631 - accuracy: 0.8498 - auc: 0.89 - ETA: 1:30 - loss: 0.3630 - accuracy: 0.8498 - auc: 0.89 - ETA: 1:28 - loss: 0.3630 - accuracy: 0.8497 - auc: 0.89 - ETA: 1:25 - loss: 0.3627 - accuracy: 0.8499 - auc: 0.89 - ETA: 1:23 - loss: 0.3627 - accuracy: 0.8500 - auc: 0.89 - ETA: 1:21 - loss: 0.3626 - accuracy: 0.8501 - auc: 0.89 - ETA: 1:18 - loss: 0.3628 - accuracy: 0.8498 - auc: 0.89 - ETA: 1:16 - loss: 0.3629 - accuracy: 0.8497 - auc: 0.89 - ETA: 1:14 - loss: 0.3632 - accuracy: 0.8496 - auc: 0.89 - ETA: 1:12 - loss: 0.3633 - accuracy: 0.8495 - auc: 0.89 - ETA: 1:09 - loss: 0.3633 - accuracy: 0.8496 - auc: 0.89 - ETA: 1:07 - loss: 0.3633 - accuracy: 0.8495 - auc: 0.89 - ETA: 1:05 - loss: 0.3634 - accuracy: 0.8495 - auc: 0.89 - ETA: 1:03 - loss: 0.3634 - accuracy: 0.8494 - auc: 0.89 - ETA: 1:00 - loss: 0.3638 - accuracy: 0.8491 - auc: 0.89 - ETA: 58s - loss: 0.3637 - accuracy: 0.8492 - auc: 0.8980 - ETA: 56s - loss: 0.3636 - accuracy: 0.8493 - auc: 0.898 - ETA: 54s - loss: 0.3635 - accuracy: 0.8494 - auc: 0.898 - ETA: 51s - loss: 0.3635 - accuracy: 0.8493 - auc: 0.898 - ETA: 49s - loss: 0.3633 - accuracy: 0.8494 - auc: 0.898 - ETA: 47s - loss: 0.3631 - accuracy: 0.8495 - auc: 0.898 - ETA: 44s - loss: 0.3631 - accuracy: 0.8495 - auc: 0.898 - ETA: 42s - loss: 0.3632 - accuracy: 0.8494 - auc: 0.898 - ETA: 40s - loss: 0.3635 - accuracy: 0.8491 - auc: 0.898 - ETA: 38s - loss: 0.3635 - accuracy: 0.8490 - auc: 0.898 - ETA: 35s - loss: 0.3633 - accuracy: 0.8492 - auc: 0.898 - ETA: 33s - loss: 0.3634 - accuracy: 0.8492 - auc: 0.898 - ETA: 31s - loss: 0.3636 - accuracy: 0.8491 - auc: 0.898 - ETA: 28s - loss: 0.3634 - accuracy: 0.8493 - auc: 0.898 - ETA: 26s - loss: 0.3638 - accuracy: 0.8491 - auc: 0.898 - ETA: 24s - loss: 0.3638 - accuracy: 0.8491 - auc: 0.898 - ETA: 21s - loss: 0.3635 - accuracy: 0.8494 - auc: 0.898 - ETA: 19s - loss: 0.3637 - accuracy: 0.8492 - auc: 0.898 - ETA: 17s - loss: 0.3637 - accuracy: 0.8492 - auc: 0.898 - ETA: 15s - loss: 0.3635 - accuracy: 0.8493 - auc: 0.898 - ETA: 12s - loss: 0.3633 - accuracy: 0.8494 - auc: 0.898 - ETA: 10s - loss: 0.3638 - accuracy: 0.8493 - auc: 0.897 - ETA: 8s - loss: 0.3641 - accuracy: 0.8489 - auc: 0.897 - ETA: 5s - loss: 0.3640 - accuracy: 0.8490 - auc: 0.89 - ETA: 3s - loss: 0.3638 - accuracy: 0.8491 - auc: 0.89 - ETA: 1s - loss: 0.3637 - accuracy: 0.8492 - auc: 0.89 - 1185s 79ms/sample - loss: 0.3635 - accuracy: 0.8493 - auc: 0.8981 - val_loss: 0.3618 - val_accuracy: 0.8478 - val_auc: 0.9019\n",
      "Epoch 4/100\n"
     ]
    },
    {
     "name": "stdout",
     "output_type": "stream",
     "text": [
      " 4352/14929 [=======>......................] - ETA: 18:48 - loss: 0.3350 - accuracy: 0.8438 - auc: 0.970 - ETA: 18:25 - loss: 0.4005 - accuracy: 0.8125 - auc: 0.919 - ETA: 17:49 - loss: 0.3678 - accuracy: 0.8229 - auc: 0.924 - ETA: 18:34 - loss: 0.3443 - accuracy: 0.8359 - auc: 0.921 - ETA: 18:47 - loss: 0.3337 - accuracy: 0.8500 - auc: 0.923 - ETA: 18:46 - loss: 0.3167 - accuracy: 0.8594 - auc: 0.929 - ETA: 18:52 - loss: 0.3176 - accuracy: 0.8616 - auc: 0.922 - ETA: 18:48 - loss: 0.3494 - accuracy: 0.8477 - auc: 0.907 - ETA: 18:49 - loss: 0.3437 - accuracy: 0.8472 - auc: 0.912 - ETA: 18:43 - loss: 0.3518 - accuracy: 0.8406 - auc: 0.907 - ETA: 18:42 - loss: 0.3535 - accuracy: 0.8409 - auc: 0.907 - ETA: 18:39 - loss: 0.3567 - accuracy: 0.8411 - auc: 0.905 - ETA: 18:36 - loss: 0.3495 - accuracy: 0.8462 - auc: 0.906 - ETA: 18:36 - loss: 0.3487 - accuracy: 0.8504 - auc: 0.905 - ETA: 18:33 - loss: 0.3555 - accuracy: 0.8500 - auc: 0.901 - ETA: 18:32 - loss: 0.3577 - accuracy: 0.8496 - auc: 0.900 - ETA: 18:27 - loss: 0.3602 - accuracy: 0.8474 - auc: 0.900 - ETA: 18:30 - loss: 0.3633 - accuracy: 0.8472 - auc: 0.900 - ETA: 18:33 - loss: 0.3668 - accuracy: 0.8438 - auc: 0.900 - ETA: 18:30 - loss: 0.3604 - accuracy: 0.8469 - auc: 0.903 - ETA: 18:21 - loss: 0.3551 - accuracy: 0.8497 - auc: 0.906 - ETA: 18:19 - loss: 0.3528 - accuracy: 0.8480 - auc: 0.907 - ETA: 18:18 - loss: 0.3448 - accuracy: 0.8546 - auc: 0.910 - ETA: 18:15 - loss: 0.3427 - accuracy: 0.8568 - auc: 0.912 - ETA: 18:13 - loss: 0.3389 - accuracy: 0.8575 - auc: 0.915 - ETA: 18:10 - loss: 0.3412 - accuracy: 0.8558 - auc: 0.913 - ETA: 18:08 - loss: 0.3378 - accuracy: 0.8576 - auc: 0.915 - ETA: 18:04 - loss: 0.3352 - accuracy: 0.8571 - auc: 0.916 - ETA: 18:01 - loss: 0.3338 - accuracy: 0.8578 - auc: 0.917 - ETA: 17:59 - loss: 0.3341 - accuracy: 0.8583 - auc: 0.916 - ETA: 17:57 - loss: 0.3422 - accuracy: 0.8528 - auc: 0.913 - ETA: 17:54 - loss: 0.3450 - accuracy: 0.8525 - auc: 0.911 - ETA: 17:51 - loss: 0.3485 - accuracy: 0.8504 - auc: 0.908 - ETA: 17:48 - loss: 0.3461 - accuracy: 0.8529 - auc: 0.910 - ETA: 17:45 - loss: 0.3432 - accuracy: 0.8545 - auc: 0.911 - ETA: 17:42 - loss: 0.3435 - accuracy: 0.8542 - auc: 0.911 - ETA: 17:39 - loss: 0.3427 - accuracy: 0.8547 - auc: 0.912 - ETA: 17:37 - loss: 0.3417 - accuracy: 0.8553 - auc: 0.913 - ETA: 17:33 - loss: 0.3440 - accuracy: 0.8542 - auc: 0.911 - ETA: 17:31 - loss: 0.3445 - accuracy: 0.8547 - auc: 0.912 - ETA: 17:28 - loss: 0.3420 - accuracy: 0.8552 - auc: 0.913 - ETA: 17:26 - loss: 0.3410 - accuracy: 0.8564 - auc: 0.913 - ETA: 17:23 - loss: 0.3404 - accuracy: 0.8576 - auc: 0.914 - ETA: 17:23 - loss: 0.3410 - accuracy: 0.8572 - auc: 0.913 - ETA: 17:23 - loss: 0.3393 - accuracy: 0.8583 - auc: 0.914 - ETA: 17:21 - loss: 0.3417 - accuracy: 0.8573 - auc: 0.913 - ETA: 17:18 - loss: 0.3431 - accuracy: 0.8564 - auc: 0.912 - ETA: 17:15 - loss: 0.3444 - accuracy: 0.8561 - auc: 0.910 - ETA: 17:13 - loss: 0.3450 - accuracy: 0.8565 - auc: 0.910 - ETA: 17:10 - loss: 0.3463 - accuracy: 0.8544 - auc: 0.910 - ETA: 17:07 - loss: 0.3442 - accuracy: 0.8560 - auc: 0.910 - ETA: 17:04 - loss: 0.3412 - accuracy: 0.8576 - auc: 0.912 - ETA: 17:01 - loss: 0.3417 - accuracy: 0.8573 - auc: 0.911 - ETA: 17:00 - loss: 0.3410 - accuracy: 0.8576 - auc: 0.911 - ETA: 16:58 - loss: 0.3428 - accuracy: 0.8568 - auc: 0.911 - ETA: 16:56 - loss: 0.3420 - accuracy: 0.8577 - auc: 0.911 - ETA: 16:53 - loss: 0.3409 - accuracy: 0.8591 - auc: 0.911 - ETA: 16:51 - loss: 0.3380 - accuracy: 0.8610 - auc: 0.912 - ETA: 16:47 - loss: 0.3368 - accuracy: 0.8618 - auc: 0.912 - ETA: 16:43 - loss: 0.3365 - accuracy: 0.8609 - auc: 0.913 - ETA: 16:39 - loss: 0.3346 - accuracy: 0.8627 - auc: 0.914 - ETA: 16:34 - loss: 0.3353 - accuracy: 0.8624 - auc: 0.914 - ETA: 16:29 - loss: 0.3362 - accuracy: 0.8616 - auc: 0.914 - ETA: 16:25 - loss: 0.3374 - accuracy: 0.8608 - auc: 0.913 - ETA: 16:19 - loss: 0.3374 - accuracy: 0.8606 - auc: 0.913 - ETA: 16:15 - loss: 0.3363 - accuracy: 0.8613 - auc: 0.914 - ETA: 16:10 - loss: 0.3383 - accuracy: 0.8601 - auc: 0.913 - ETA: 16:05 - loss: 0.3366 - accuracy: 0.8612 - auc: 0.914 - ETA: 16:01 - loss: 0.3370 - accuracy: 0.8610 - auc: 0.914 - ETA: 15:56 - loss: 0.3369 - accuracy: 0.8612 - auc: 0.914 - ETA: 15:52 - loss: 0.3353 - accuracy: 0.8627 - auc: 0.914 - ETA: 15:48 - loss: 0.3362 - accuracy: 0.8615 - auc: 0.913 - ETA: 15:44 - loss: 0.3351 - accuracy: 0.8622 - auc: 0.914 - ETA: 15:40 - loss: 0.3359 - accuracy: 0.8623 - auc: 0.914 - ETA: 15:37 - loss: 0.3390 - accuracy: 0.8604 - auc: 0.913 - ETA: 15:33 - loss: 0.3407 - accuracy: 0.8594 - auc: 0.912 - ETA: 15:29 - loss: 0.3397 - accuracy: 0.8604 - auc: 0.912 - ETA: 15:26 - loss: 0.3420 - accuracy: 0.8586 - auc: 0.911 - ETA: 15:22 - loss: 0.3441 - accuracy: 0.8568 - auc: 0.910 - ETA: 15:18 - loss: 0.3447 - accuracy: 0.8562 - auc: 0.909 - ETA: 15:15 - loss: 0.3456 - accuracy: 0.8557 - auc: 0.909 - ETA: 15:11 - loss: 0.3455 - accuracy: 0.8556 - auc: 0.909 - ETA: 15:07 - loss: 0.3459 - accuracy: 0.8554 - auc: 0.908 - ETA: 15:03 - loss: 0.3464 - accuracy: 0.8549 - auc: 0.908 - ETA: 14:59 - loss: 0.3456 - accuracy: 0.8559 - auc: 0.908 - ETA: 14:55 - loss: 0.3464 - accuracy: 0.8554 - auc: 0.907 - ETA: 14:52 - loss: 0.3454 - accuracy: 0.8556 - auc: 0.908 - ETA: 14:48 - loss: 0.3452 - accuracy: 0.8562 - auc: 0.908 - ETA: 14:45 - loss: 0.3450 - accuracy: 0.8564 - auc: 0.908 - ETA: 14:42 - loss: 0.3441 - accuracy: 0.8566 - auc: 0.909 - ETA: 14:38 - loss: 0.3441 - accuracy: 0.8565 - auc: 0.909 - ETA: 14:36 - loss: 0.3435 - accuracy: 0.8570 - auc: 0.909 - ETA: 14:34 - loss: 0.3435 - accuracy: 0.8579 - auc: 0.909 - ETA: 14:32 - loss: 0.3421 - accuracy: 0.8587 - auc: 0.910 - ETA: 14:30 - loss: 0.3424 - accuracy: 0.8582 - auc: 0.910 - ETA: 14:28 - loss: 0.3447 - accuracy: 0.8571 - auc: 0.909 - ETA: 14:26 - loss: 0.3443 - accuracy: 0.8573 - auc: 0.909 - ETA: 14:24 - loss: 0.3439 - accuracy: 0.8575 - auc: 0.909 - ETA: 14:23 - loss: 0.3436 - accuracy: 0.8576 - auc: 0.909 - ETA: 14:21 - loss: 0.3462 - accuracy: 0.8578 - auc: 0.910 - ETA: 14:20 - loss: 0.3460 - accuracy: 0.8586 - auc: 0.910 - ETA: 14:18 - loss: 0.3443 - accuracy: 0.8591 - auc: 0.911 - ETA: 14:17 - loss: 0.3428 - accuracy: 0.8595 - auc: 0.911 - ETA: 14:15 - loss: 0.3417 - accuracy: 0.8603 - auc: 0.912 - ETA: 14:13 - loss: 0.3419 - accuracy: 0.8598 - auc: 0.912 - ETA: 14:11 - loss: 0.3409 - accuracy: 0.8603 - auc: 0.912 - ETA: 14:09 - loss: 0.3405 - accuracy: 0.8601 - auc: 0.912 - ETA: 14:07 - loss: 0.3419 - accuracy: 0.8591 - auc: 0.912 - ETA: 14:05 - loss: 0.3413 - accuracy: 0.8592 - auc: 0.912 - ETA: 14:03 - loss: 0.3422 - accuracy: 0.8585 - auc: 0.911 - ETA: 14:01 - loss: 0.3421 - accuracy: 0.8587 - auc: 0.911 - ETA: 13:59 - loss: 0.3433 - accuracy: 0.8580 - auc: 0.911 - ETA: 13:57 - loss: 0.3443 - accuracy: 0.8570 - auc: 0.910 - ETA: 13:54 - loss: 0.3440 - accuracy: 0.8569 - auc: 0.910 - ETA: 13:52 - loss: 0.3437 - accuracy: 0.8571 - auc: 0.911 - ETA: 13:50 - loss: 0.3434 - accuracy: 0.8572 - auc: 0.911 - ETA: 13:48 - loss: 0.3434 - accuracy: 0.8571 - auc: 0.911 - ETA: 13:46 - loss: 0.3436 - accuracy: 0.8565 - auc: 0.911 - ETA: 13:44 - loss: 0.3434 - accuracy: 0.8566 - auc: 0.911 - ETA: 13:42 - loss: 0.3425 - accuracy: 0.8573 - auc: 0.911 - ETA: 13:39 - loss: 0.3415 - accuracy: 0.8577 - auc: 0.912 - ETA: 13:37 - loss: 0.3405 - accuracy: 0.8584 - auc: 0.912 - ETA: 13:35 - loss: 0.3393 - accuracy: 0.8592 - auc: 0.913 - ETA: 13:33 - loss: 0.3381 - accuracy: 0.8599 - auc: 0.913 - ETA: 13:30 - loss: 0.3379 - accuracy: 0.8597 - auc: 0.913 - ETA: 13:28 - loss: 0.3384 - accuracy: 0.8594 - auc: 0.913 - ETA: 13:27 - loss: 0.3389 - accuracy: 0.8595 - auc: 0.913 - ETA: 13:25 - loss: 0.3397 - accuracy: 0.8586 - auc: 0.913 - ETA: 13:23 - loss: 0.3391 - accuracy: 0.8590 - auc: 0.913 - ETA: 13:22 - loss: 0.3393 - accuracy: 0.8589 - auc: 0.913 - ETA: 13:20 - loss: 0.3411 - accuracy: 0.8581 - auc: 0.912 - ETA: 13:17 - loss: 0.3430 - accuracy: 0.8572 - auc: 0.911 - ETA: 13:15 - loss: 0.3425 - accuracy: 0.8571 - auc: 0.911 - ETA: 13:13 - loss: 0.3427 - accuracy: 0.8570 - auc: 0.911 - ETA: 13:11 - loss: 0.3432 - accuracy: 0.8565 - auc: 0.911 - ETA: 13:08 - loss: 0.3437 - accuracy: 0.8564 - auc: 0.9108 8800/14929 [================>.............] - ETA: 13:06 - loss: 0.3448 - accuracy: 0.8554 - auc: 0.910 - ETA: 13:04 - loss: 0.3437 - accuracy: 0.8562 - auc: 0.910 - ETA: 13:01 - loss: 0.3441 - accuracy: 0.8557 - auc: 0.910 - ETA: 12:59 - loss: 0.3443 - accuracy: 0.8551 - auc: 0.910 - ETA: 12:57 - loss: 0.3458 - accuracy: 0.8542 - auc: 0.909 - ETA: 12:55 - loss: 0.3459 - accuracy: 0.8541 - auc: 0.909 - ETA: 12:52 - loss: 0.3452 - accuracy: 0.8542 - auc: 0.910 - ETA: 12:50 - loss: 0.3457 - accuracy: 0.8542 - auc: 0.909 - ETA: 12:47 - loss: 0.3448 - accuracy: 0.8547 - auc: 0.910 - ETA: 12:44 - loss: 0.3445 - accuracy: 0.8553 - auc: 0.910 - ETA: 12:41 - loss: 0.3450 - accuracy: 0.8550 - auc: 0.910 - ETA: 12:38 - loss: 0.3441 - accuracy: 0.8556 - auc: 0.910 - ETA: 12:35 - loss: 0.3438 - accuracy: 0.8559 - auc: 0.910 - ETA: 12:32 - loss: 0.3446 - accuracy: 0.8556 - auc: 0.910 - ETA: 12:29 - loss: 0.3450 - accuracy: 0.8560 - auc: 0.909 - ETA: 12:25 - loss: 0.3447 - accuracy: 0.8563 - auc: 0.909 - ETA: 12:22 - loss: 0.3447 - accuracy: 0.8562 - auc: 0.909 - ETA: 12:19 - loss: 0.3453 - accuracy: 0.8563 - auc: 0.909 - ETA: 12:16 - loss: 0.3456 - accuracy: 0.8565 - auc: 0.909 - ETA: 12:13 - loss: 0.3460 - accuracy: 0.8564 - auc: 0.909 - ETA: 12:10 - loss: 0.3466 - accuracy: 0.8561 - auc: 0.908 - ETA: 12:08 - loss: 0.3470 - accuracy: 0.8560 - auc: 0.908 - ETA: 12:05 - loss: 0.3471 - accuracy: 0.8559 - auc: 0.908 - ETA: 12:02 - loss: 0.3480 - accuracy: 0.8553 - auc: 0.907 - ETA: 11:59 - loss: 0.3469 - accuracy: 0.8560 - auc: 0.908 - ETA: 11:56 - loss: 0.3463 - accuracy: 0.8561 - auc: 0.908 - ETA: 11:53 - loss: 0.3467 - accuracy: 0.8562 - auc: 0.908 - ETA: 11:50 - loss: 0.3473 - accuracy: 0.8556 - auc: 0.907 - ETA: 11:47 - loss: 0.3470 - accuracy: 0.8557 - auc: 0.907 - ETA: 11:45 - loss: 0.3467 - accuracy: 0.8560 - auc: 0.908 - ETA: 11:42 - loss: 0.3466 - accuracy: 0.8559 - auc: 0.908 - ETA: 11:39 - loss: 0.3467 - accuracy: 0.8558 - auc: 0.907 - ETA: 11:36 - loss: 0.3462 - accuracy: 0.8563 - auc: 0.908 - ETA: 11:33 - loss: 0.3453 - accuracy: 0.8572 - auc: 0.908 - ETA: 11:30 - loss: 0.3458 - accuracy: 0.8571 - auc: 0.908 - ETA: 11:27 - loss: 0.3461 - accuracy: 0.8568 - auc: 0.908 - ETA: 11:24 - loss: 0.3458 - accuracy: 0.8573 - auc: 0.908 - ETA: 11:22 - loss: 0.3453 - accuracy: 0.8576 - auc: 0.908 - ETA: 11:19 - loss: 0.3453 - accuracy: 0.8577 - auc: 0.908 - ETA: 11:16 - loss: 0.3452 - accuracy: 0.8574 - auc: 0.908 - ETA: 11:13 - loss: 0.3453 - accuracy: 0.8572 - auc: 0.908 - ETA: 11:10 - loss: 0.3471 - accuracy: 0.8564 - auc: 0.906 - ETA: 11:08 - loss: 0.3475 - accuracy: 0.8561 - auc: 0.906 - ETA: 11:05 - loss: 0.3475 - accuracy: 0.8561 - auc: 0.906 - ETA: 11:02 - loss: 0.3486 - accuracy: 0.8558 - auc: 0.906 - ETA: 10:59 - loss: 0.3485 - accuracy: 0.8558 - auc: 0.906 - ETA: 10:57 - loss: 0.3478 - accuracy: 0.8564 - auc: 0.906 - ETA: 10:54 - loss: 0.3477 - accuracy: 0.8565 - auc: 0.906 - ETA: 10:51 - loss: 0.3474 - accuracy: 0.8566 - auc: 0.906 - ETA: 10:48 - loss: 0.3479 - accuracy: 0.8562 - auc: 0.906 - ETA: 10:46 - loss: 0.3480 - accuracy: 0.8558 - auc: 0.906 - ETA: 10:43 - loss: 0.3479 - accuracy: 0.8557 - auc: 0.906 - ETA: 10:40 - loss: 0.3476 - accuracy: 0.8558 - auc: 0.906 - ETA: 10:38 - loss: 0.3477 - accuracy: 0.8556 - auc: 0.906 - ETA: 10:35 - loss: 0.3490 - accuracy: 0.8547 - auc: 0.905 - ETA: 10:33 - loss: 0.3494 - accuracy: 0.8543 - auc: 0.905 - ETA: 10:30 - loss: 0.3489 - accuracy: 0.8546 - auc: 0.905 - ETA: 10:27 - loss: 0.3494 - accuracy: 0.8542 - auc: 0.905 - ETA: 10:25 - loss: 0.3500 - accuracy: 0.8542 - auc: 0.905 - ETA: 10:22 - loss: 0.3500 - accuracy: 0.8543 - auc: 0.905 - ETA: 10:19 - loss: 0.3499 - accuracy: 0.8541 - auc: 0.905 - ETA: 10:17 - loss: 0.3497 - accuracy: 0.8545 - auc: 0.905 - ETA: 10:14 - loss: 0.3501 - accuracy: 0.8544 - auc: 0.905 - ETA: 10:11 - loss: 0.3499 - accuracy: 0.8545 - auc: 0.905 - ETA: 10:09 - loss: 0.3495 - accuracy: 0.8548 - auc: 0.905 - ETA: 10:06 - loss: 0.3494 - accuracy: 0.8547 - auc: 0.905 - ETA: 10:04 - loss: 0.3492 - accuracy: 0.8547 - auc: 0.905 - ETA: 10:01 - loss: 0.3495 - accuracy: 0.8543 - auc: 0.905 - ETA: 9:59 - loss: 0.3488 - accuracy: 0.8547 - auc: 0.905 - ETA: 9:56 - loss: 0.3486 - accuracy: 0.8548 - auc: 0.90 - ETA: 9:53 - loss: 0.3486 - accuracy: 0.8551 - auc: 0.90 - ETA: 9:51 - loss: 0.3485 - accuracy: 0.8552 - auc: 0.90 - ETA: 9:48 - loss: 0.3496 - accuracy: 0.8551 - auc: 0.90 - ETA: 9:46 - loss: 0.3496 - accuracy: 0.8551 - auc: 0.90 - ETA: 9:43 - loss: 0.3493 - accuracy: 0.8555 - auc: 0.90 - ETA: 9:41 - loss: 0.3495 - accuracy: 0.8554 - auc: 0.90 - ETA: 9:38 - loss: 0.3494 - accuracy: 0.8555 - auc: 0.90 - ETA: 9:35 - loss: 0.3493 - accuracy: 0.8556 - auc: 0.90 - ETA: 9:33 - loss: 0.3502 - accuracy: 0.8548 - auc: 0.90 - ETA: 9:31 - loss: 0.3504 - accuracy: 0.8547 - auc: 0.90 - ETA: 9:28 - loss: 0.3497 - accuracy: 0.8551 - auc: 0.90 - ETA: 9:26 - loss: 0.3501 - accuracy: 0.8549 - auc: 0.90 - ETA: 9:23 - loss: 0.3495 - accuracy: 0.8555 - auc: 0.90 - ETA: 9:21 - loss: 0.3497 - accuracy: 0.8551 - auc: 0.90 - ETA: 9:18 - loss: 0.3500 - accuracy: 0.8548 - auc: 0.90 - ETA: 9:16 - loss: 0.3496 - accuracy: 0.8550 - auc: 0.90 - ETA: 9:13 - loss: 0.3495 - accuracy: 0.8551 - auc: 0.90 - ETA: 9:11 - loss: 0.3495 - accuracy: 0.8553 - auc: 0.90 - ETA: 9:09 - loss: 0.3498 - accuracy: 0.8550 - auc: 0.90 - ETA: 9:06 - loss: 0.3492 - accuracy: 0.8554 - auc: 0.90 - ETA: 9:04 - loss: 0.3493 - accuracy: 0.8552 - auc: 0.90 - ETA: 9:01 - loss: 0.3489 - accuracy: 0.8554 - auc: 0.90 - ETA: 8:59 - loss: 0.3497 - accuracy: 0.8551 - auc: 0.90 - ETA: 8:56 - loss: 0.3494 - accuracy: 0.8554 - auc: 0.90 - ETA: 8:54 - loss: 0.3506 - accuracy: 0.8552 - auc: 0.90 - ETA: 8:51 - loss: 0.3509 - accuracy: 0.8549 - auc: 0.90 - ETA: 8:49 - loss: 0.3508 - accuracy: 0.8553 - auc: 0.90 - ETA: 8:46 - loss: 0.3508 - accuracy: 0.8551 - auc: 0.90 - ETA: 8:44 - loss: 0.3510 - accuracy: 0.8551 - auc: 0.90 - ETA: 8:41 - loss: 0.3503 - accuracy: 0.8557 - auc: 0.90 - ETA: 8:39 - loss: 0.3502 - accuracy: 0.8559 - auc: 0.90 - ETA: 8:36 - loss: 0.3509 - accuracy: 0.8554 - auc: 0.90 - ETA: 8:34 - loss: 0.3515 - accuracy: 0.8553 - auc: 0.90 - ETA: 8:32 - loss: 0.3506 - accuracy: 0.8557 - auc: 0.90 - ETA: 8:29 - loss: 0.3506 - accuracy: 0.8557 - auc: 0.90 - ETA: 8:27 - loss: 0.3517 - accuracy: 0.8550 - auc: 0.90 - ETA: 8:24 - loss: 0.3519 - accuracy: 0.8549 - auc: 0.90 - ETA: 8:22 - loss: 0.3517 - accuracy: 0.8551 - auc: 0.90 - ETA: 8:19 - loss: 0.3523 - accuracy: 0.8547 - auc: 0.90 - ETA: 8:17 - loss: 0.3518 - accuracy: 0.8551 - auc: 0.90 - ETA: 8:14 - loss: 0.3516 - accuracy: 0.8554 - auc: 0.90 - ETA: 8:12 - loss: 0.3510 - accuracy: 0.8557 - auc: 0.90 - ETA: 8:10 - loss: 0.3509 - accuracy: 0.8558 - auc: 0.90 - ETA: 8:07 - loss: 0.3519 - accuracy: 0.8551 - auc: 0.90 - ETA: 8:05 - loss: 0.3524 - accuracy: 0.8548 - auc: 0.90 - ETA: 8:02 - loss: 0.3520 - accuracy: 0.8552 - auc: 0.90 - ETA: 8:00 - loss: 0.3516 - accuracy: 0.8552 - auc: 0.90 - ETA: 7:58 - loss: 0.3516 - accuracy: 0.8553 - auc: 0.90 - ETA: 7:55 - loss: 0.3513 - accuracy: 0.8554 - auc: 0.90 - ETA: 7:53 - loss: 0.3514 - accuracy: 0.8553 - auc: 0.90 - ETA: 7:50 - loss: 0.3523 - accuracy: 0.8549 - auc: 0.90 - ETA: 7:48 - loss: 0.3526 - accuracy: 0.8545 - auc: 0.90 - ETA: 7:46 - loss: 0.3525 - accuracy: 0.8546 - auc: 0.90 - ETA: 7:43 - loss: 0.3521 - accuracy: 0.8548 - auc: 0.90 - ETA: 7:41 - loss: 0.3526 - accuracy: 0.8544 - auc: 0.90 - ETA: 7:38 - loss: 0.3524 - accuracy: 0.8547 - auc: 0.90 - ETA: 7:36 - loss: 0.3520 - accuracy: 0.8550 - auc: 0.90 - ETA: 7:34 - loss: 0.3520 - accuracy: 0.8550 - auc: 0.90 - ETA: 7:31 - loss: 0.3523 - accuracy: 0.8548 - auc: 0.90 - ETA: 7:29 - loss: 0.3520 - accuracy: 0.8549 - auc: 0.90 - ETA: 7:26 - loss: 0.3518 - accuracy: 0.8549 - auc: 0.90 - ETA: 7:24 - loss: 0.3523 - accuracy: 0.8546 - auc: 0.90 - ETA: 7:22 - loss: 0.3521 - accuracy: 0.8547 - auc: 0.90 - ETA: 7:20 - loss: 0.3519 - accuracy: 0.8549 - auc: 0.90 - ETA: 7:17 - loss: 0.3520 - accuracy: 0.8547 - auc: 0.90 - ETA: 7:15 - loss: 0.3519 - accuracy: 0.8548 - auc: 0.90 - ETA: 7:12 - loss: 0.3518 - accuracy: 0.8547 - auc: 0.90 - ETA: 7:10 - loss: 0.3517 - accuracy: 0.8550 - auc: 0.90 - ETA: 7:08 - loss: 0.3520 - accuracy: 0.8550 - auc: 0.904313312/14929 [=========================>....] - ETA: 7:05 - loss: 0.3519 - accuracy: 0.8551 - auc: 0.90 - ETA: 7:03 - loss: 0.3528 - accuracy: 0.8546 - auc: 0.90 - ETA: 7:01 - loss: 0.3532 - accuracy: 0.8545 - auc: 0.90 - ETA: 6:58 - loss: 0.3530 - accuracy: 0.8546 - auc: 0.90 - ETA: 6:56 - loss: 0.3539 - accuracy: 0.8540 - auc: 0.90 - ETA: 6:54 - loss: 0.3538 - accuracy: 0.8541 - auc: 0.90 - ETA: 6:51 - loss: 0.3538 - accuracy: 0.8542 - auc: 0.90 - ETA: 6:49 - loss: 0.3536 - accuracy: 0.8544 - auc: 0.90 - ETA: 6:47 - loss: 0.3538 - accuracy: 0.8541 - auc: 0.90 - ETA: 6:44 - loss: 0.3545 - accuracy: 0.8537 - auc: 0.90 - ETA: 6:42 - loss: 0.3545 - accuracy: 0.8538 - auc: 0.90 - ETA: 6:40 - loss: 0.3543 - accuracy: 0.8539 - auc: 0.90 - ETA: 6:38 - loss: 0.3550 - accuracy: 0.8535 - auc: 0.90 - ETA: 6:35 - loss: 0.3552 - accuracy: 0.8534 - auc: 0.90 - ETA: 6:33 - loss: 0.3553 - accuracy: 0.8532 - auc: 0.90 - ETA: 6:31 - loss: 0.3554 - accuracy: 0.8532 - auc: 0.90 - ETA: 6:28 - loss: 0.3547 - accuracy: 0.8537 - auc: 0.90 - ETA: 6:26 - loss: 0.3542 - accuracy: 0.8541 - auc: 0.90 - ETA: 6:24 - loss: 0.3543 - accuracy: 0.8542 - auc: 0.90 - ETA: 6:21 - loss: 0.3540 - accuracy: 0.8543 - auc: 0.90 - ETA: 6:19 - loss: 0.3543 - accuracy: 0.8543 - auc: 0.90 - ETA: 6:17 - loss: 0.3546 - accuracy: 0.8542 - auc: 0.90 - ETA: 6:14 - loss: 0.3552 - accuracy: 0.8538 - auc: 0.90 - ETA: 6:12 - loss: 0.3560 - accuracy: 0.8533 - auc: 0.90 - ETA: 6:10 - loss: 0.3562 - accuracy: 0.8530 - auc: 0.90 - ETA: 6:07 - loss: 0.3559 - accuracy: 0.8532 - auc: 0.90 - ETA: 6:05 - loss: 0.3555 - accuracy: 0.8535 - auc: 0.90 - ETA: 6:03 - loss: 0.3556 - accuracy: 0.8533 - auc: 0.90 - ETA: 6:00 - loss: 0.3553 - accuracy: 0.8535 - auc: 0.90 - ETA: 5:58 - loss: 0.3551 - accuracy: 0.8537 - auc: 0.90 - ETA: 5:56 - loss: 0.3561 - accuracy: 0.8532 - auc: 0.90 - ETA: 5:53 - loss: 0.3563 - accuracy: 0.8530 - auc: 0.90 - ETA: 5:51 - loss: 0.3562 - accuracy: 0.8531 - auc: 0.90 - ETA: 5:49 - loss: 0.3560 - accuracy: 0.8533 - auc: 0.90 - ETA: 5:46 - loss: 0.3560 - accuracy: 0.8533 - auc: 0.90 - ETA: 5:44 - loss: 0.3560 - accuracy: 0.8532 - auc: 0.90 - ETA: 5:42 - loss: 0.3557 - accuracy: 0.8535 - auc: 0.90 - ETA: 5:40 - loss: 0.3557 - accuracy: 0.8533 - auc: 0.90 - ETA: 5:37 - loss: 0.3554 - accuracy: 0.8536 - auc: 0.90 - ETA: 5:35 - loss: 0.3556 - accuracy: 0.8535 - auc: 0.90 - ETA: 5:33 - loss: 0.3554 - accuracy: 0.8538 - auc: 0.90 - ETA: 5:30 - loss: 0.3553 - accuracy: 0.8540 - auc: 0.90 - ETA: 5:28 - loss: 0.3556 - accuracy: 0.8538 - auc: 0.90 - ETA: 5:26 - loss: 0.3554 - accuracy: 0.8538 - auc: 0.90 - ETA: 5:24 - loss: 0.3551 - accuracy: 0.8539 - auc: 0.90 - ETA: 5:21 - loss: 0.3550 - accuracy: 0.8537 - auc: 0.90 - ETA: 5:19 - loss: 0.3550 - accuracy: 0.8537 - auc: 0.90 - ETA: 5:17 - loss: 0.3546 - accuracy: 0.8539 - auc: 0.90 - ETA: 5:15 - loss: 0.3550 - accuracy: 0.8536 - auc: 0.90 - ETA: 5:12 - loss: 0.3548 - accuracy: 0.8537 - auc: 0.90 - ETA: 5:10 - loss: 0.3547 - accuracy: 0.8537 - auc: 0.90 - ETA: 5:08 - loss: 0.3547 - accuracy: 0.8537 - auc: 0.90 - ETA: 5:05 - loss: 0.3548 - accuracy: 0.8536 - auc: 0.90 - ETA: 5:03 - loss: 0.3545 - accuracy: 0.8537 - auc: 0.90 - ETA: 5:01 - loss: 0.3546 - accuracy: 0.8535 - auc: 0.90 - ETA: 4:59 - loss: 0.3542 - accuracy: 0.8537 - auc: 0.90 - ETA: 4:56 - loss: 0.3541 - accuracy: 0.8537 - auc: 0.90 - ETA: 4:54 - loss: 0.3542 - accuracy: 0.8537 - auc: 0.90 - ETA: 4:52 - loss: 0.3539 - accuracy: 0.8538 - auc: 0.90 - ETA: 4:49 - loss: 0.3533 - accuracy: 0.8541 - auc: 0.90 - ETA: 4:47 - loss: 0.3530 - accuracy: 0.8544 - auc: 0.90 - ETA: 4:45 - loss: 0.3531 - accuracy: 0.8544 - auc: 0.90 - ETA: 4:43 - loss: 0.3538 - accuracy: 0.8541 - auc: 0.90 - ETA: 4:40 - loss: 0.3543 - accuracy: 0.8536 - auc: 0.90 - ETA: 4:38 - loss: 0.3546 - accuracy: 0.8534 - auc: 0.90 - ETA: 4:36 - loss: 0.3544 - accuracy: 0.8536 - auc: 0.90 - ETA: 4:34 - loss: 0.3542 - accuracy: 0.8537 - auc: 0.90 - ETA: 4:31 - loss: 0.3537 - accuracy: 0.8540 - auc: 0.90 - ETA: 4:29 - loss: 0.3535 - accuracy: 0.8542 - auc: 0.90 - ETA: 4:27 - loss: 0.3532 - accuracy: 0.8543 - auc: 0.90 - ETA: 4:25 - loss: 0.3532 - accuracy: 0.8543 - auc: 0.90 - ETA: 4:22 - loss: 0.3527 - accuracy: 0.8546 - auc: 0.90 - ETA: 4:20 - loss: 0.3526 - accuracy: 0.8548 - auc: 0.90 - ETA: 4:18 - loss: 0.3528 - accuracy: 0.8546 - auc: 0.90 - ETA: 4:16 - loss: 0.3530 - accuracy: 0.8544 - auc: 0.90 - ETA: 4:13 - loss: 0.3528 - accuracy: 0.8545 - auc: 0.90 - ETA: 4:11 - loss: 0.3527 - accuracy: 0.8546 - auc: 0.90 - ETA: 4:09 - loss: 0.3529 - accuracy: 0.8545 - auc: 0.90 - ETA: 4:07 - loss: 0.3530 - accuracy: 0.8545 - auc: 0.90 - ETA: 4:04 - loss: 0.3532 - accuracy: 0.8544 - auc: 0.90 - ETA: 4:02 - loss: 0.3529 - accuracy: 0.8545 - auc: 0.90 - ETA: 4:00 - loss: 0.3531 - accuracy: 0.8543 - auc: 0.90 - ETA: 3:58 - loss: 0.3531 - accuracy: 0.8543 - auc: 0.90 - ETA: 3:55 - loss: 0.3530 - accuracy: 0.8544 - auc: 0.90 - ETA: 3:53 - loss: 0.3531 - accuracy: 0.8543 - auc: 0.90 - ETA: 3:51 - loss: 0.3527 - accuracy: 0.8545 - auc: 0.90 - ETA: 3:49 - loss: 0.3524 - accuracy: 0.8547 - auc: 0.90 - ETA: 3:47 - loss: 0.3519 - accuracy: 0.8550 - auc: 0.90 - ETA: 3:44 - loss: 0.3521 - accuracy: 0.8550 - auc: 0.90 - ETA: 3:42 - loss: 0.3515 - accuracy: 0.8554 - auc: 0.90 - ETA: 3:40 - loss: 0.3516 - accuracy: 0.8554 - auc: 0.90 - ETA: 3:38 - loss: 0.3513 - accuracy: 0.8557 - auc: 0.90 - ETA: 3:35 - loss: 0.3513 - accuracy: 0.8557 - auc: 0.90 - ETA: 3:33 - loss: 0.3512 - accuracy: 0.8559 - auc: 0.90 - ETA: 3:31 - loss: 0.3514 - accuracy: 0.8557 - auc: 0.90 - ETA: 3:29 - loss: 0.3511 - accuracy: 0.8559 - auc: 0.90 - ETA: 3:26 - loss: 0.3509 - accuracy: 0.8559 - auc: 0.90 - ETA: 3:24 - loss: 0.3510 - accuracy: 0.8561 - auc: 0.90 - ETA: 3:22 - loss: 0.3512 - accuracy: 0.8559 - auc: 0.90 - ETA: 3:20 - loss: 0.3511 - accuracy: 0.8559 - auc: 0.90 - ETA: 3:18 - loss: 0.3510 - accuracy: 0.8560 - auc: 0.90 - ETA: 3:15 - loss: 0.3510 - accuracy: 0.8560 - auc: 0.90 - ETA: 3:13 - loss: 0.3514 - accuracy: 0.8557 - auc: 0.90 - ETA: 3:11 - loss: 0.3515 - accuracy: 0.8556 - auc: 0.90 - ETA: 3:09 - loss: 0.3513 - accuracy: 0.8557 - auc: 0.90 - ETA: 3:07 - loss: 0.3514 - accuracy: 0.8556 - auc: 0.90 - ETA: 3:04 - loss: 0.3514 - accuracy: 0.8555 - auc: 0.90 - ETA: 3:02 - loss: 0.3519 - accuracy: 0.8555 - auc: 0.90 - ETA: 3:00 - loss: 0.3519 - accuracy: 0.8555 - auc: 0.90 - ETA: 2:58 - loss: 0.3520 - accuracy: 0.8554 - auc: 0.90 - ETA: 2:56 - loss: 0.3520 - accuracy: 0.8555 - auc: 0.90 - ETA: 2:53 - loss: 0.3521 - accuracy: 0.8552 - auc: 0.90 - ETA: 2:51 - loss: 0.3520 - accuracy: 0.8553 - auc: 0.90 - ETA: 2:49 - loss: 0.3518 - accuracy: 0.8554 - auc: 0.90 - ETA: 2:47 - loss: 0.3521 - accuracy: 0.8552 - auc: 0.90 - ETA: 2:44 - loss: 0.3525 - accuracy: 0.8549 - auc: 0.90 - ETA: 2:42 - loss: 0.3525 - accuracy: 0.8549 - auc: 0.90 - ETA: 2:40 - loss: 0.3521 - accuracy: 0.8552 - auc: 0.90 - ETA: 2:38 - loss: 0.3523 - accuracy: 0.8550 - auc: 0.90 - ETA: 2:36 - loss: 0.3525 - accuracy: 0.8548 - auc: 0.90 - ETA: 2:33 - loss: 0.3528 - accuracy: 0.8547 - auc: 0.90 - ETA: 2:31 - loss: 0.3528 - accuracy: 0.8548 - auc: 0.90 - ETA: 2:29 - loss: 0.3530 - accuracy: 0.8547 - auc: 0.90 - ETA: 2:27 - loss: 0.3529 - accuracy: 0.8548 - auc: 0.90 - ETA: 2:25 - loss: 0.3531 - accuracy: 0.8548 - auc: 0.90 - ETA: 2:22 - loss: 0.3529 - accuracy: 0.8550 - auc: 0.90 - ETA: 2:20 - loss: 0.3533 - accuracy: 0.8547 - auc: 0.90 - ETA: 2:18 - loss: 0.3535 - accuracy: 0.8545 - auc: 0.90 - ETA: 2:16 - loss: 0.3536 - accuracy: 0.8544 - auc: 0.90 - ETA: 2:14 - loss: 0.3537 - accuracy: 0.8543 - auc: 0.90 - ETA: 2:11 - loss: 0.3534 - accuracy: 0.8544 - auc: 0.90 - ETA: 2:09 - loss: 0.3536 - accuracy: 0.8543 - auc: 0.90 - ETA: 2:07 - loss: 0.3538 - accuracy: 0.8543 - auc: 0.90 - ETA: 2:05 - loss: 0.3535 - accuracy: 0.8545 - auc: 0.90 - ETA: 2:03 - loss: 0.3535 - accuracy: 0.8544 - auc: 0.90 - ETA: 2:00 - loss: 0.3536 - accuracy: 0.8544 - auc: 0.90 - ETA: 1:58 - loss: 0.3537 - accuracy: 0.8544 - auc: 0.90 - ETA: 1:56 - loss: 0.3535 - accuracy: 0.8545 - auc: 0.90 - ETA: 1:54 - loss: 0.3537 - accuracy: 0.8542 - auc: 0.90 - ETA: 1:52 - loss: 0.3535 - accuracy: 0.8543 - auc: 0.90 - ETA: 1:50 - loss: 0.3534 - accuracy: 0.8543 - auc: 0.9041"
     ]
    },
    {
     "name": "stdout",
     "output_type": "stream",
     "text": [
      "14929/14929 [==============================] - ETA: 1:47 - loss: 0.3538 - accuracy: 0.8540 - auc: 0.90 - ETA: 1:45 - loss: 0.3535 - accuracy: 0.8541 - auc: 0.90 - ETA: 1:43 - loss: 0.3538 - accuracy: 0.8538 - auc: 0.90 - ETA: 1:41 - loss: 0.3537 - accuracy: 0.8538 - auc: 0.90 - ETA: 1:39 - loss: 0.3538 - accuracy: 0.8538 - auc: 0.90 - ETA: 1:36 - loss: 0.3537 - accuracy: 0.8538 - auc: 0.90 - ETA: 1:34 - loss: 0.3536 - accuracy: 0.8539 - auc: 0.90 - ETA: 1:32 - loss: 0.3535 - accuracy: 0.8539 - auc: 0.90 - ETA: 1:30 - loss: 0.3538 - accuracy: 0.8537 - auc: 0.90 - ETA: 1:28 - loss: 0.3536 - accuracy: 0.8538 - auc: 0.90 - ETA: 1:25 - loss: 0.3539 - accuracy: 0.8536 - auc: 0.90 - ETA: 1:23 - loss: 0.3540 - accuracy: 0.8536 - auc: 0.90 - ETA: 1:21 - loss: 0.3540 - accuracy: 0.8536 - auc: 0.90 - ETA: 1:19 - loss: 0.3545 - accuracy: 0.8533 - auc: 0.90 - ETA: 1:17 - loss: 0.3543 - accuracy: 0.8533 - auc: 0.90 - ETA: 1:15 - loss: 0.3542 - accuracy: 0.8534 - auc: 0.90 - ETA: 1:12 - loss: 0.3540 - accuracy: 0.8534 - auc: 0.90 - ETA: 1:10 - loss: 0.3542 - accuracy: 0.8533 - auc: 0.90 - ETA: 1:08 - loss: 0.3539 - accuracy: 0.8535 - auc: 0.90 - ETA: 1:06 - loss: 0.3537 - accuracy: 0.8536 - auc: 0.90 - ETA: 1:04 - loss: 0.3534 - accuracy: 0.8538 - auc: 0.90 - ETA: 1:01 - loss: 0.3533 - accuracy: 0.8540 - auc: 0.90 - ETA: 59s - loss: 0.3535 - accuracy: 0.8537 - auc: 0.9038 - ETA: 57s - loss: 0.3536 - accuracy: 0.8536 - auc: 0.903 - ETA: 55s - loss: 0.3535 - accuracy: 0.8535 - auc: 0.903 - ETA: 53s - loss: 0.3536 - accuracy: 0.8536 - auc: 0.903 - ETA: 51s - loss: 0.3534 - accuracy: 0.8537 - auc: 0.903 - ETA: 48s - loss: 0.3533 - accuracy: 0.8537 - auc: 0.903 - ETA: 46s - loss: 0.3530 - accuracy: 0.8539 - auc: 0.903 - ETA: 44s - loss: 0.3531 - accuracy: 0.8538 - auc: 0.903 - ETA: 42s - loss: 0.3530 - accuracy: 0.8538 - auc: 0.904 - ETA: 40s - loss: 0.3528 - accuracy: 0.8539 - auc: 0.904 - ETA: 38s - loss: 0.3530 - accuracy: 0.8538 - auc: 0.903 - ETA: 35s - loss: 0.3529 - accuracy: 0.8539 - auc: 0.904 - ETA: 33s - loss: 0.3529 - accuracy: 0.8538 - auc: 0.903 - ETA: 31s - loss: 0.3529 - accuracy: 0.8538 - auc: 0.904 - ETA: 29s - loss: 0.3531 - accuracy: 0.8535 - auc: 0.903 - ETA: 27s - loss: 0.3532 - accuracy: 0.8535 - auc: 0.903 - ETA: 24s - loss: 0.3529 - accuracy: 0.8536 - auc: 0.904 - ETA: 22s - loss: 0.3531 - accuracy: 0.8534 - auc: 0.903 - ETA: 20s - loss: 0.3530 - accuracy: 0.8535 - auc: 0.903 - ETA: 18s - loss: 0.3526 - accuracy: 0.8538 - auc: 0.904 - ETA: 16s - loss: 0.3528 - accuracy: 0.8537 - auc: 0.904 - ETA: 14s - loss: 0.3524 - accuracy: 0.8539 - auc: 0.904 - ETA: 11s - loss: 0.3522 - accuracy: 0.8540 - auc: 0.904 - ETA: 9s - loss: 0.3523 - accuracy: 0.8539 - auc: 0.904 - ETA: 7s - loss: 0.3520 - accuracy: 0.8541 - auc: 0.90 - ETA: 5s - loss: 0.3523 - accuracy: 0.8538 - auc: 0.90 - ETA: 3s - loss: 0.3521 - accuracy: 0.8540 - auc: 0.90 - ETA: 1s - loss: 0.3519 - accuracy: 0.8541 - auc: 0.90 - 1103s 74ms/sample - loss: 0.3518 - accuracy: 0.8542 - auc: 0.9045 - val_loss: 0.3672 - val_accuracy: 0.8532 - val_auc: 0.9034\n",
      "Epoch 5/100\n"
     ]
    },
    {
     "name": "stdout",
     "output_type": "stream",
     "text": [
      " 4352/14929 [=======>......................] - ETA: 16:34 - loss: 0.2225 - accuracy: 0.9688 - auc: 0.995 - ETA: 16:06 - loss: 0.3143 - accuracy: 0.8906 - auc: 0.926 - ETA: 15:55 - loss: 0.3292 - accuracy: 0.8958 - auc: 0.920 - ETA: 15:53 - loss: 0.3545 - accuracy: 0.8828 - auc: 0.901 - ETA: 15:50 - loss: 0.3696 - accuracy: 0.8687 - auc: 0.900 - ETA: 15:45 - loss: 0.4030 - accuracy: 0.8438 - auc: 0.881 - ETA: 15:44 - loss: 0.3839 - accuracy: 0.8571 - auc: 0.890 - ETA: 15:43 - loss: 0.4077 - accuracy: 0.8438 - auc: 0.877 - ETA: 15:40 - loss: 0.3922 - accuracy: 0.8507 - auc: 0.884 - ETA: 15:37 - loss: 0.4077 - accuracy: 0.8375 - auc: 0.881 - ETA: 15:34 - loss: 0.3917 - accuracy: 0.8438 - auc: 0.888 - ETA: 15:33 - loss: 0.3938 - accuracy: 0.8464 - auc: 0.887 - ETA: 15:31 - loss: 0.3903 - accuracy: 0.8486 - auc: 0.886 - ETA: 15:30 - loss: 0.3876 - accuracy: 0.8504 - auc: 0.885 - ETA: 15:29 - loss: 0.3837 - accuracy: 0.8521 - auc: 0.886 - ETA: 15:26 - loss: 0.3786 - accuracy: 0.8555 - auc: 0.887 - ETA: 15:25 - loss: 0.3781 - accuracy: 0.8585 - auc: 0.891 - ETA: 15:23 - loss: 0.3789 - accuracy: 0.8559 - auc: 0.890 - ETA: 15:20 - loss: 0.3809 - accuracy: 0.8536 - auc: 0.887 - ETA: 15:18 - loss: 0.3913 - accuracy: 0.8438 - auc: 0.882 - ETA: 15:16 - loss: 0.3906 - accuracy: 0.8423 - auc: 0.882 - ETA: 15:14 - loss: 0.3817 - accuracy: 0.8480 - auc: 0.888 - ETA: 15:12 - loss: 0.3847 - accuracy: 0.8438 - auc: 0.887 - ETA: 15:10 - loss: 0.3805 - accuracy: 0.8451 - auc: 0.890 - ETA: 15:07 - loss: 0.3841 - accuracy: 0.8413 - auc: 0.886 - ETA: 15:06 - loss: 0.3789 - accuracy: 0.8450 - auc: 0.888 - ETA: 15:03 - loss: 0.3786 - accuracy: 0.8449 - auc: 0.887 - ETA: 15:04 - loss: 0.3744 - accuracy: 0.8471 - auc: 0.890 - ETA: 15:05 - loss: 0.3762 - accuracy: 0.8459 - auc: 0.888 - ETA: 15:04 - loss: 0.3715 - accuracy: 0.8479 - auc: 0.891 - ETA: 15:03 - loss: 0.3730 - accuracy: 0.8458 - auc: 0.890 - ETA: 15:01 - loss: 0.3706 - accuracy: 0.8457 - auc: 0.893 - ETA: 14:59 - loss: 0.3699 - accuracy: 0.8456 - auc: 0.893 - ETA: 14:57 - loss: 0.3674 - accuracy: 0.8474 - auc: 0.894 - ETA: 14:54 - loss: 0.3639 - accuracy: 0.8500 - auc: 0.897 - ETA: 14:52 - loss: 0.3624 - accuracy: 0.8507 - auc: 0.897 - ETA: 14:50 - loss: 0.3619 - accuracy: 0.8514 - auc: 0.896 - ETA: 14:48 - loss: 0.3597 - accuracy: 0.8528 - auc: 0.898 - ETA: 14:46 - loss: 0.3585 - accuracy: 0.8542 - auc: 0.899 - ETA: 14:44 - loss: 0.3560 - accuracy: 0.8555 - auc: 0.900 - ETA: 14:41 - loss: 0.3540 - accuracy: 0.8559 - auc: 0.901 - ETA: 14:39 - loss: 0.3515 - accuracy: 0.8564 - auc: 0.904 - ETA: 14:37 - loss: 0.3511 - accuracy: 0.8568 - auc: 0.904 - ETA: 14:34 - loss: 0.3504 - accuracy: 0.8558 - auc: 0.905 - ETA: 14:32 - loss: 0.3493 - accuracy: 0.8569 - auc: 0.905 - ETA: 14:29 - loss: 0.3478 - accuracy: 0.8573 - auc: 0.907 - ETA: 14:28 - loss: 0.3456 - accuracy: 0.8590 - auc: 0.907 - ETA: 14:27 - loss: 0.3445 - accuracy: 0.8594 - auc: 0.907 - ETA: 14:24 - loss: 0.3427 - accuracy: 0.8597 - auc: 0.908 - ETA: 14:22 - loss: 0.3446 - accuracy: 0.8587 - auc: 0.908 - ETA: 14:20 - loss: 0.3451 - accuracy: 0.8585 - auc: 0.908 - ETA: 14:18 - loss: 0.3466 - accuracy: 0.8564 - auc: 0.907 - ETA: 14:15 - loss: 0.3460 - accuracy: 0.8579 - auc: 0.909 - ETA: 14:13 - loss: 0.3471 - accuracy: 0.8571 - auc: 0.908 - ETA: 14:11 - loss: 0.3455 - accuracy: 0.8580 - auc: 0.909 - ETA: 14:09 - loss: 0.3466 - accuracy: 0.8583 - auc: 0.908 - ETA: 14:07 - loss: 0.3473 - accuracy: 0.8591 - auc: 0.908 - ETA: 14:05 - loss: 0.3467 - accuracy: 0.8594 - auc: 0.909 - ETA: 14:02 - loss: 0.3461 - accuracy: 0.8596 - auc: 0.910 - ETA: 14:01 - loss: 0.3466 - accuracy: 0.8583 - auc: 0.909 - ETA: 14:00 - loss: 0.3456 - accuracy: 0.8591 - auc: 0.909 - ETA: 13:58 - loss: 0.3444 - accuracy: 0.8594 - auc: 0.910 - ETA: 13:56 - loss: 0.3455 - accuracy: 0.8586 - auc: 0.910 - ETA: 13:54 - loss: 0.3443 - accuracy: 0.8589 - auc: 0.910 - ETA: 13:51 - loss: 0.3439 - accuracy: 0.8587 - auc: 0.910 - ETA: 13:49 - loss: 0.3419 - accuracy: 0.8598 - auc: 0.911 - ETA: 13:47 - loss: 0.3427 - accuracy: 0.8601 - auc: 0.910 - ETA: 13:44 - loss: 0.3436 - accuracy: 0.8603 - auc: 0.910 - ETA: 13:42 - loss: 0.3452 - accuracy: 0.8591 - auc: 0.909 - ETA: 13:41 - loss: 0.3458 - accuracy: 0.8589 - auc: 0.910 - ETA: 13:38 - loss: 0.3482 - accuracy: 0.8578 - auc: 0.908 - ETA: 13:36 - loss: 0.3494 - accuracy: 0.8581 - auc: 0.907 - ETA: 13:33 - loss: 0.3489 - accuracy: 0.8587 - auc: 0.907 - ETA: 13:31 - loss: 0.3504 - accuracy: 0.8573 - auc: 0.906 - ETA: 13:28 - loss: 0.3506 - accuracy: 0.8575 - auc: 0.906 - ETA: 13:26 - loss: 0.3491 - accuracy: 0.8590 - auc: 0.907 - ETA: 13:23 - loss: 0.3481 - accuracy: 0.8592 - auc: 0.907 - ETA: 13:21 - loss: 0.3481 - accuracy: 0.8590 - auc: 0.907 - ETA: 13:19 - loss: 0.3462 - accuracy: 0.8596 - auc: 0.908 - ETA: 13:17 - loss: 0.3449 - accuracy: 0.8598 - auc: 0.909 - ETA: 13:14 - loss: 0.3462 - accuracy: 0.8592 - auc: 0.909 - ETA: 13:12 - loss: 0.3471 - accuracy: 0.8586 - auc: 0.908 - ETA: 13:09 - loss: 0.3461 - accuracy: 0.8588 - auc: 0.908 - ETA: 13:07 - loss: 0.3454 - accuracy: 0.8594 - auc: 0.909 - ETA: 13:05 - loss: 0.3452 - accuracy: 0.8599 - auc: 0.909 - ETA: 13:02 - loss: 0.3472 - accuracy: 0.8583 - auc: 0.908 - ETA: 13:00 - loss: 0.3470 - accuracy: 0.8585 - auc: 0.908 - ETA: 12:58 - loss: 0.3462 - accuracy: 0.8590 - auc: 0.908 - ETA: 12:55 - loss: 0.3464 - accuracy: 0.8588 - auc: 0.908 - ETA: 12:53 - loss: 0.3462 - accuracy: 0.8590 - auc: 0.908 - ETA: 12:50 - loss: 0.3444 - accuracy: 0.8599 - auc: 0.909 - ETA: 12:49 - loss: 0.3439 - accuracy: 0.8604 - auc: 0.909 - ETA: 12:47 - loss: 0.3446 - accuracy: 0.8595 - auc: 0.909 - ETA: 12:45 - loss: 0.3455 - accuracy: 0.8587 - auc: 0.909 - ETA: 12:43 - loss: 0.3456 - accuracy: 0.8589 - auc: 0.909 - ETA: 12:41 - loss: 0.3441 - accuracy: 0.8594 - auc: 0.910 - ETA: 12:38 - loss: 0.3455 - accuracy: 0.8589 - auc: 0.909 - ETA: 12:36 - loss: 0.3441 - accuracy: 0.8597 - auc: 0.910 - ETA: 12:34 - loss: 0.3445 - accuracy: 0.8595 - auc: 0.909 - ETA: 12:32 - loss: 0.3439 - accuracy: 0.8597 - auc: 0.910 - ETA: 12:30 - loss: 0.3442 - accuracy: 0.8595 - auc: 0.909 - ETA: 12:28 - loss: 0.3439 - accuracy: 0.8597 - auc: 0.909 - ETA: 12:26 - loss: 0.3448 - accuracy: 0.8592 - auc: 0.909 - ETA: 12:24 - loss: 0.3442 - accuracy: 0.8594 - auc: 0.909 - ETA: 12:22 - loss: 0.3443 - accuracy: 0.8589 - auc: 0.909 - ETA: 12:19 - loss: 0.3453 - accuracy: 0.8582 - auc: 0.909 - ETA: 12:17 - loss: 0.3442 - accuracy: 0.8592 - auc: 0.909 - ETA: 12:15 - loss: 0.3437 - accuracy: 0.8600 - auc: 0.910 - ETA: 12:13 - loss: 0.3437 - accuracy: 0.8598 - auc: 0.910 - ETA: 12:11 - loss: 0.3436 - accuracy: 0.8599 - auc: 0.909 - ETA: 12:08 - loss: 0.3441 - accuracy: 0.8595 - auc: 0.909 - ETA: 12:06 - loss: 0.3452 - accuracy: 0.8588 - auc: 0.908 - ETA: 12:04 - loss: 0.3459 - accuracy: 0.8581 - auc: 0.908 - ETA: 12:02 - loss: 0.3455 - accuracy: 0.8588 - auc: 0.908 - ETA: 12:00 - loss: 0.3451 - accuracy: 0.8592 - auc: 0.908 - ETA: 11:57 - loss: 0.3448 - accuracy: 0.8591 - auc: 0.908 - ETA: 11:55 - loss: 0.3438 - accuracy: 0.8592 - auc: 0.908 - ETA: 11:53 - loss: 0.3470 - accuracy: 0.8581 - auc: 0.907 - ETA: 11:51 - loss: 0.3458 - accuracy: 0.8585 - auc: 0.908 - ETA: 11:49 - loss: 0.3449 - accuracy: 0.8591 - auc: 0.908 - ETA: 11:47 - loss: 0.3440 - accuracy: 0.8595 - auc: 0.909 - ETA: 11:44 - loss: 0.3441 - accuracy: 0.8594 - auc: 0.909 - ETA: 11:42 - loss: 0.3444 - accuracy: 0.8592 - auc: 0.909 - ETA: 11:40 - loss: 0.3443 - accuracy: 0.8591 - auc: 0.909 - ETA: 11:38 - loss: 0.3449 - accuracy: 0.8585 - auc: 0.908 - ETA: 11:36 - loss: 0.3450 - accuracy: 0.8584 - auc: 0.908 - ETA: 11:34 - loss: 0.3439 - accuracy: 0.8590 - auc: 0.909 - ETA: 11:32 - loss: 0.3428 - accuracy: 0.8596 - auc: 0.909 - ETA: 11:30 - loss: 0.3420 - accuracy: 0.8600 - auc: 0.909 - ETA: 11:28 - loss: 0.3422 - accuracy: 0.8599 - auc: 0.909 - ETA: 11:26 - loss: 0.3426 - accuracy: 0.8595 - auc: 0.909 - ETA: 11:24 - loss: 0.3437 - accuracy: 0.8582 - auc: 0.909 - ETA: 11:22 - loss: 0.3452 - accuracy: 0.8574 - auc: 0.908 - ETA: 11:20 - loss: 0.3460 - accuracy: 0.8563 - auc: 0.908 - ETA: 11:18 - loss: 0.3461 - accuracy: 0.8565 - auc: 0.908 - ETA: 11:15 - loss: 0.3456 - accuracy: 0.8564 - auc: 0.9087 8832/14929 [================>.............] - ETA: 11:13 - loss: 0.3462 - accuracy: 0.8561 - auc: 0.908 - ETA: 11:11 - loss: 0.3460 - accuracy: 0.8560 - auc: 0.908 - ETA: 11:09 - loss: 0.3482 - accuracy: 0.8566 - auc: 0.908 - ETA: 11:07 - loss: 0.3475 - accuracy: 0.8571 - auc: 0.908 - ETA: 11:05 - loss: 0.3466 - accuracy: 0.8575 - auc: 0.908 - ETA: 11:03 - loss: 0.3470 - accuracy: 0.8572 - auc: 0.908 - ETA: 11:01 - loss: 0.3460 - accuracy: 0.8580 - auc: 0.908 - ETA: 10:58 - loss: 0.3473 - accuracy: 0.8568 - auc: 0.908 - ETA: 10:56 - loss: 0.3489 - accuracy: 0.8560 - auc: 0.907 - ETA: 10:54 - loss: 0.3489 - accuracy: 0.8562 - auc: 0.906 - ETA: 10:52 - loss: 0.3517 - accuracy: 0.8542 - auc: 0.905 - ETA: 10:50 - loss: 0.3520 - accuracy: 0.8537 - auc: 0.905 - ETA: 10:48 - loss: 0.3511 - accuracy: 0.8542 - auc: 0.905 - ETA: 10:46 - loss: 0.3504 - accuracy: 0.8546 - auc: 0.906 - ETA: 10:43 - loss: 0.3504 - accuracy: 0.8543 - auc: 0.906 - ETA: 10:41 - loss: 0.3503 - accuracy: 0.8546 - auc: 0.906 - ETA: 10:39 - loss: 0.3496 - accuracy: 0.8550 - auc: 0.906 - ETA: 10:37 - loss: 0.3502 - accuracy: 0.8549 - auc: 0.905 - ETA: 10:35 - loss: 0.3503 - accuracy: 0.8548 - auc: 0.905 - ETA: 10:33 - loss: 0.3510 - accuracy: 0.8548 - auc: 0.905 - ETA: 10:31 - loss: 0.3505 - accuracy: 0.8551 - auc: 0.905 - ETA: 10:29 - loss: 0.3504 - accuracy: 0.8552 - auc: 0.905 - ETA: 10:28 - loss: 0.3498 - accuracy: 0.8555 - auc: 0.906 - ETA: 10:26 - loss: 0.3496 - accuracy: 0.8559 - auc: 0.906 - ETA: 10:24 - loss: 0.3492 - accuracy: 0.8558 - auc: 0.906 - ETA: 10:22 - loss: 0.3492 - accuracy: 0.8559 - auc: 0.906 - ETA: 10:19 - loss: 0.3489 - accuracy: 0.8560 - auc: 0.906 - ETA: 10:17 - loss: 0.3488 - accuracy: 0.8558 - auc: 0.906 - ETA: 10:15 - loss: 0.3499 - accuracy: 0.8553 - auc: 0.906 - ETA: 10:13 - loss: 0.3502 - accuracy: 0.8552 - auc: 0.906 - ETA: 10:11 - loss: 0.3499 - accuracy: 0.8554 - auc: 0.906 - ETA: 10:09 - loss: 0.3494 - accuracy: 0.8557 - auc: 0.906 - ETA: 10:07 - loss: 0.3488 - accuracy: 0.8560 - auc: 0.907 - ETA: 10:05 - loss: 0.3497 - accuracy: 0.8551 - auc: 0.906 - ETA: 10:03 - loss: 0.3502 - accuracy: 0.8549 - auc: 0.906 - ETA: 10:01 - loss: 0.3500 - accuracy: 0.8548 - auc: 0.906 - ETA: 9:59 - loss: 0.3492 - accuracy: 0.8551 - auc: 0.906 - ETA: 9:57 - loss: 0.3486 - accuracy: 0.8554 - auc: 0.90 - ETA: 9:55 - loss: 0.3484 - accuracy: 0.8557 - auc: 0.90 - ETA: 9:53 - loss: 0.3482 - accuracy: 0.8560 - auc: 0.90 - ETA: 9:51 - loss: 0.3477 - accuracy: 0.8563 - auc: 0.90 - ETA: 9:49 - loss: 0.3485 - accuracy: 0.8555 - auc: 0.90 - ETA: 9:47 - loss: 0.3489 - accuracy: 0.8554 - auc: 0.90 - ETA: 9:45 - loss: 0.3483 - accuracy: 0.8556 - auc: 0.90 - ETA: 9:43 - loss: 0.3492 - accuracy: 0.8550 - auc: 0.90 - ETA: 9:41 - loss: 0.3498 - accuracy: 0.8549 - auc: 0.90 - ETA: 9:39 - loss: 0.3500 - accuracy: 0.8548 - auc: 0.90 - ETA: 9:36 - loss: 0.3502 - accuracy: 0.8546 - auc: 0.90 - ETA: 9:34 - loss: 0.3500 - accuracy: 0.8549 - auc: 0.90 - ETA: 9:32 - loss: 0.3503 - accuracy: 0.8548 - auc: 0.90 - ETA: 9:30 - loss: 0.3497 - accuracy: 0.8551 - auc: 0.90 - ETA: 9:28 - loss: 0.3500 - accuracy: 0.8547 - auc: 0.90 - ETA: 9:26 - loss: 0.3503 - accuracy: 0.8547 - auc: 0.90 - ETA: 9:24 - loss: 0.3513 - accuracy: 0.8548 - auc: 0.90 - ETA: 9:23 - loss: 0.3504 - accuracy: 0.8554 - auc: 0.90 - ETA: 9:20 - loss: 0.3502 - accuracy: 0.8556 - auc: 0.90 - ETA: 9:18 - loss: 0.3503 - accuracy: 0.8556 - auc: 0.90 - ETA: 9:16 - loss: 0.3511 - accuracy: 0.8552 - auc: 0.90 - ETA: 9:15 - loss: 0.3515 - accuracy: 0.8550 - auc: 0.90 - ETA: 9:13 - loss: 0.3516 - accuracy: 0.8549 - auc: 0.90 - ETA: 9:11 - loss: 0.3517 - accuracy: 0.8550 - auc: 0.90 - ETA: 9:09 - loss: 0.3512 - accuracy: 0.8553 - auc: 0.90 - ETA: 9:07 - loss: 0.3516 - accuracy: 0.8552 - auc: 0.90 - ETA: 9:05 - loss: 0.3517 - accuracy: 0.8552 - auc: 0.90 - ETA: 9:02 - loss: 0.3519 - accuracy: 0.8553 - auc: 0.90 - ETA: 9:00 - loss: 0.3516 - accuracy: 0.8554 - auc: 0.90 - ETA: 8:58 - loss: 0.3523 - accuracy: 0.8548 - auc: 0.90 - ETA: 8:56 - loss: 0.3517 - accuracy: 0.8552 - auc: 0.90 - ETA: 8:54 - loss: 0.3520 - accuracy: 0.8550 - auc: 0.90 - ETA: 8:52 - loss: 0.3522 - accuracy: 0.8551 - auc: 0.90 - ETA: 8:50 - loss: 0.3524 - accuracy: 0.8551 - auc: 0.90 - ETA: 8:48 - loss: 0.3522 - accuracy: 0.8553 - auc: 0.90 - ETA: 8:46 - loss: 0.3517 - accuracy: 0.8557 - auc: 0.90 - ETA: 8:44 - loss: 0.3520 - accuracy: 0.8555 - auc: 0.90 - ETA: 8:42 - loss: 0.3511 - accuracy: 0.8560 - auc: 0.90 - ETA: 8:40 - loss: 0.3513 - accuracy: 0.8558 - auc: 0.90 - ETA: 8:38 - loss: 0.3509 - accuracy: 0.8561 - auc: 0.90 - ETA: 8:36 - loss: 0.3522 - accuracy: 0.8551 - auc: 0.90 - ETA: 8:34 - loss: 0.3521 - accuracy: 0.8549 - auc: 0.90 - ETA: 8:31 - loss: 0.3519 - accuracy: 0.8552 - auc: 0.90 - ETA: 8:29 - loss: 0.3523 - accuracy: 0.8550 - auc: 0.90 - ETA: 8:28 - loss: 0.3520 - accuracy: 0.8552 - auc: 0.90 - ETA: 8:26 - loss: 0.3518 - accuracy: 0.8555 - auc: 0.90 - ETA: 8:23 - loss: 0.3516 - accuracy: 0.8558 - auc: 0.90 - ETA: 8:22 - loss: 0.3512 - accuracy: 0.8562 - auc: 0.90 - ETA: 8:20 - loss: 0.3508 - accuracy: 0.8564 - auc: 0.90 - ETA: 8:18 - loss: 0.3503 - accuracy: 0.8566 - auc: 0.90 - ETA: 8:16 - loss: 0.3502 - accuracy: 0.8567 - auc: 0.90 - ETA: 8:14 - loss: 0.3501 - accuracy: 0.8568 - auc: 0.90 - ETA: 8:12 - loss: 0.3499 - accuracy: 0.8570 - auc: 0.90 - ETA: 8:10 - loss: 0.3508 - accuracy: 0.8568 - auc: 0.90 - ETA: 8:07 - loss: 0.3515 - accuracy: 0.8564 - auc: 0.90 - ETA: 8:05 - loss: 0.3513 - accuracy: 0.8566 - auc: 0.90 - ETA: 8:03 - loss: 0.3518 - accuracy: 0.8564 - auc: 0.90 - ETA: 8:01 - loss: 0.3526 - accuracy: 0.8559 - auc: 0.90 - ETA: 7:59 - loss: 0.3523 - accuracy: 0.8560 - auc: 0.90 - ETA: 7:57 - loss: 0.3522 - accuracy: 0.8561 - auc: 0.90 - ETA: 7:55 - loss: 0.3526 - accuracy: 0.8556 - auc: 0.90 - ETA: 7:53 - loss: 0.3523 - accuracy: 0.8557 - auc: 0.90 - ETA: 7:51 - loss: 0.3531 - accuracy: 0.8554 - auc: 0.90 - ETA: 7:49 - loss: 0.3528 - accuracy: 0.8557 - auc: 0.90 - ETA: 7:47 - loss: 0.3526 - accuracy: 0.8558 - auc: 0.90 - ETA: 7:45 - loss: 0.3523 - accuracy: 0.8558 - auc: 0.90 - ETA: 7:43 - loss: 0.3526 - accuracy: 0.8556 - auc: 0.90 - ETA: 7:41 - loss: 0.3522 - accuracy: 0.8559 - auc: 0.90 - ETA: 7:38 - loss: 0.3520 - accuracy: 0.8559 - auc: 0.90 - ETA: 7:36 - loss: 0.3527 - accuracy: 0.8555 - auc: 0.90 - ETA: 7:34 - loss: 0.3523 - accuracy: 0.8558 - auc: 0.90 - ETA: 7:32 - loss: 0.3518 - accuracy: 0.8560 - auc: 0.90 - ETA: 7:30 - loss: 0.3519 - accuracy: 0.8561 - auc: 0.90 - ETA: 7:28 - loss: 0.3518 - accuracy: 0.8560 - auc: 0.90 - ETA: 7:26 - loss: 0.3526 - accuracy: 0.8556 - auc: 0.90 - ETA: 7:24 - loss: 0.3524 - accuracy: 0.8557 - auc: 0.90 - ETA: 7:22 - loss: 0.3523 - accuracy: 0.8556 - auc: 0.90 - ETA: 7:20 - loss: 0.3518 - accuracy: 0.8561 - auc: 0.90 - ETA: 7:18 - loss: 0.3522 - accuracy: 0.8559 - auc: 0.90 - ETA: 7:16 - loss: 0.3523 - accuracy: 0.8561 - auc: 0.90 - ETA: 7:14 - loss: 0.3518 - accuracy: 0.8564 - auc: 0.90 - ETA: 7:12 - loss: 0.3520 - accuracy: 0.8564 - auc: 0.90 - ETA: 7:10 - loss: 0.3520 - accuracy: 0.8564 - auc: 0.90 - ETA: 7:08 - loss: 0.3526 - accuracy: 0.8560 - auc: 0.90 - ETA: 7:06 - loss: 0.3529 - accuracy: 0.8557 - auc: 0.90 - ETA: 7:04 - loss: 0.3528 - accuracy: 0.8558 - auc: 0.90 - ETA: 7:01 - loss: 0.3525 - accuracy: 0.8560 - auc: 0.90 - ETA: 6:59 - loss: 0.3521 - accuracy: 0.8562 - auc: 0.90 - ETA: 6:57 - loss: 0.3516 - accuracy: 0.8568 - auc: 0.90 - ETA: 6:55 - loss: 0.3523 - accuracy: 0.8566 - auc: 0.90 - ETA: 6:53 - loss: 0.3524 - accuracy: 0.8565 - auc: 0.90 - ETA: 6:51 - loss: 0.3524 - accuracy: 0.8565 - auc: 0.90 - ETA: 6:49 - loss: 0.3524 - accuracy: 0.8564 - auc: 0.90 - ETA: 6:47 - loss: 0.3526 - accuracy: 0.8565 - auc: 0.90 - ETA: 6:45 - loss: 0.3527 - accuracy: 0.8565 - auc: 0.90 - ETA: 6:43 - loss: 0.3528 - accuracy: 0.8563 - auc: 0.90 - ETA: 6:41 - loss: 0.3522 - accuracy: 0.8565 - auc: 0.90 - ETA: 6:39 - loss: 0.3522 - accuracy: 0.8564 - auc: 0.90 - ETA: 6:37 - loss: 0.3519 - accuracy: 0.8567 - auc: 0.90 - ETA: 6:35 - loss: 0.3524 - accuracy: 0.8563 - auc: 0.90 - ETA: 6:32 - loss: 0.3527 - accuracy: 0.8563 - auc: 0.90 - ETA: 6:30 - loss: 0.3527 - accuracy: 0.8562 - auc: 0.90 - ETA: 6:28 - loss: 0.3527 - accuracy: 0.8560 - auc: 0.904013344/14929 [=========================>....] - ETA: 6:26 - loss: 0.3529 - accuracy: 0.8560 - auc: 0.90 - ETA: 6:24 - loss: 0.3530 - accuracy: 0.8560 - auc: 0.90 - ETA: 6:22 - loss: 0.3531 - accuracy: 0.8558 - auc: 0.90 - ETA: 6:20 - loss: 0.3527 - accuracy: 0.8562 - auc: 0.90 - ETA: 6:18 - loss: 0.3525 - accuracy: 0.8564 - auc: 0.90 - ETA: 6:16 - loss: 0.3521 - accuracy: 0.8566 - auc: 0.90 - ETA: 6:14 - loss: 0.3520 - accuracy: 0.8566 - auc: 0.90 - ETA: 6:12 - loss: 0.3519 - accuracy: 0.8565 - auc: 0.90 - ETA: 6:10 - loss: 0.3517 - accuracy: 0.8567 - auc: 0.90 - ETA: 6:08 - loss: 0.3515 - accuracy: 0.8568 - auc: 0.90 - ETA: 6:06 - loss: 0.3513 - accuracy: 0.8568 - auc: 0.90 - ETA: 6:04 - loss: 0.3517 - accuracy: 0.8568 - auc: 0.90 - ETA: 6:02 - loss: 0.3518 - accuracy: 0.8566 - auc: 0.90 - ETA: 6:00 - loss: 0.3513 - accuracy: 0.8568 - auc: 0.90 - ETA: 5:58 - loss: 0.3509 - accuracy: 0.8570 - auc: 0.90 - ETA: 5:56 - loss: 0.3511 - accuracy: 0.8571 - auc: 0.90 - ETA: 5:54 - loss: 0.3508 - accuracy: 0.8572 - auc: 0.90 - ETA: 5:52 - loss: 0.3507 - accuracy: 0.8572 - auc: 0.90 - ETA: 5:50 - loss: 0.3508 - accuracy: 0.8573 - auc: 0.90 - ETA: 5:47 - loss: 0.3515 - accuracy: 0.8569 - auc: 0.90 - ETA: 5:45 - loss: 0.3518 - accuracy: 0.8566 - auc: 0.90 - ETA: 5:43 - loss: 0.3518 - accuracy: 0.8565 - auc: 0.90 - ETA: 5:41 - loss: 0.3515 - accuracy: 0.8567 - auc: 0.90 - ETA: 5:39 - loss: 0.3516 - accuracy: 0.8567 - auc: 0.90 - ETA: 5:37 - loss: 0.3515 - accuracy: 0.8567 - auc: 0.90 - ETA: 5:35 - loss: 0.3512 - accuracy: 0.8569 - auc: 0.90 - ETA: 5:33 - loss: 0.3511 - accuracy: 0.8571 - auc: 0.90 - ETA: 5:31 - loss: 0.3514 - accuracy: 0.8571 - auc: 0.90 - ETA: 5:29 - loss: 0.3516 - accuracy: 0.8569 - auc: 0.90 - ETA: 5:27 - loss: 0.3515 - accuracy: 0.8568 - auc: 0.90 - ETA: 5:25 - loss: 0.3513 - accuracy: 0.8571 - auc: 0.90 - ETA: 5:23 - loss: 0.3511 - accuracy: 0.8571 - auc: 0.90 - ETA: 5:21 - loss: 0.3509 - accuracy: 0.8572 - auc: 0.90 - ETA: 5:19 - loss: 0.3508 - accuracy: 0.8574 - auc: 0.90 - ETA: 5:17 - loss: 0.3511 - accuracy: 0.8574 - auc: 0.90 - ETA: 5:15 - loss: 0.3516 - accuracy: 0.8570 - auc: 0.90 - ETA: 5:12 - loss: 0.3521 - accuracy: 0.8567 - auc: 0.90 - ETA: 5:10 - loss: 0.3518 - accuracy: 0.8570 - auc: 0.90 - ETA: 5:08 - loss: 0.3521 - accuracy: 0.8569 - auc: 0.90 - ETA: 5:06 - loss: 0.3520 - accuracy: 0.8570 - auc: 0.90 - ETA: 5:04 - loss: 0.3518 - accuracy: 0.8571 - auc: 0.90 - ETA: 5:02 - loss: 0.3520 - accuracy: 0.8569 - auc: 0.90 - ETA: 5:00 - loss: 0.3518 - accuracy: 0.8570 - auc: 0.90 - ETA: 4:58 - loss: 0.3518 - accuracy: 0.8569 - auc: 0.90 - ETA: 4:56 - loss: 0.3515 - accuracy: 0.8571 - auc: 0.90 - ETA: 4:54 - loss: 0.3517 - accuracy: 0.8569 - auc: 0.90 - ETA: 4:52 - loss: 0.3518 - accuracy: 0.8568 - auc: 0.90 - ETA: 4:50 - loss: 0.3519 - accuracy: 0.8566 - auc: 0.90 - ETA: 4:48 - loss: 0.3514 - accuracy: 0.8569 - auc: 0.90 - ETA: 4:46 - loss: 0.3515 - accuracy: 0.8569 - auc: 0.90 - ETA: 4:44 - loss: 0.3513 - accuracy: 0.8570 - auc: 0.90 - ETA: 4:42 - loss: 0.3519 - accuracy: 0.8569 - auc: 0.90 - ETA: 4:40 - loss: 0.3514 - accuracy: 0.8571 - auc: 0.90 - ETA: 4:38 - loss: 0.3525 - accuracy: 0.8570 - auc: 0.90 - ETA: 4:36 - loss: 0.3528 - accuracy: 0.8570 - auc: 0.90 - ETA: 4:34 - loss: 0.3526 - accuracy: 0.8571 - auc: 0.90 - ETA: 4:32 - loss: 0.3523 - accuracy: 0.8574 - auc: 0.90 - ETA: 4:30 - loss: 0.3520 - accuracy: 0.8576 - auc: 0.90 - ETA: 4:28 - loss: 0.3521 - accuracy: 0.8573 - auc: 0.90 - ETA: 4:26 - loss: 0.3519 - accuracy: 0.8574 - auc: 0.90 - ETA: 4:24 - loss: 0.3515 - accuracy: 0.8578 - auc: 0.90 - ETA: 4:22 - loss: 0.3514 - accuracy: 0.8578 - auc: 0.90 - ETA: 4:19 - loss: 0.3511 - accuracy: 0.8579 - auc: 0.90 - ETA: 4:17 - loss: 0.3510 - accuracy: 0.8580 - auc: 0.90 - ETA: 4:15 - loss: 0.3511 - accuracy: 0.8580 - auc: 0.90 - ETA: 4:13 - loss: 0.3508 - accuracy: 0.8582 - auc: 0.90 - ETA: 4:11 - loss: 0.3509 - accuracy: 0.8581 - auc: 0.90 - ETA: 4:09 - loss: 0.3509 - accuracy: 0.8580 - auc: 0.90 - ETA: 4:07 - loss: 0.3515 - accuracy: 0.8579 - auc: 0.90 - ETA: 4:05 - loss: 0.3512 - accuracy: 0.8578 - auc: 0.90 - ETA: 4:03 - loss: 0.3515 - accuracy: 0.8577 - auc: 0.90 - ETA: 4:01 - loss: 0.3517 - accuracy: 0.8575 - auc: 0.90 - ETA: 3:59 - loss: 0.3517 - accuracy: 0.8575 - auc: 0.90 - ETA: 3:57 - loss: 0.3519 - accuracy: 0.8574 - auc: 0.90 - ETA: 3:55 - loss: 0.3515 - accuracy: 0.8577 - auc: 0.90 - ETA: 3:53 - loss: 0.3515 - accuracy: 0.8576 - auc: 0.90 - ETA: 3:51 - loss: 0.3515 - accuracy: 0.8576 - auc: 0.90 - ETA: 3:49 - loss: 0.3514 - accuracy: 0.8578 - auc: 0.90 - ETA: 3:47 - loss: 0.3513 - accuracy: 0.8577 - auc: 0.90 - ETA: 3:45 - loss: 0.3514 - accuracy: 0.8576 - auc: 0.90 - ETA: 3:43 - loss: 0.3513 - accuracy: 0.8576 - auc: 0.90 - ETA: 3:41 - loss: 0.3514 - accuracy: 0.8575 - auc: 0.90 - ETA: 3:39 - loss: 0.3514 - accuracy: 0.8574 - auc: 0.90 - ETA: 3:37 - loss: 0.3515 - accuracy: 0.8573 - auc: 0.90 - ETA: 3:35 - loss: 0.3515 - accuracy: 0.8573 - auc: 0.90 - ETA: 3:33 - loss: 0.3512 - accuracy: 0.8573 - auc: 0.90 - ETA: 3:30 - loss: 0.3518 - accuracy: 0.8570 - auc: 0.90 - ETA: 3:28 - loss: 0.3519 - accuracy: 0.8570 - auc: 0.90 - ETA: 3:26 - loss: 0.3524 - accuracy: 0.8568 - auc: 0.90 - ETA: 3:24 - loss: 0.3526 - accuracy: 0.8567 - auc: 0.90 - ETA: 3:22 - loss: 0.3526 - accuracy: 0.8568 - auc: 0.90 - ETA: 3:20 - loss: 0.3524 - accuracy: 0.8568 - auc: 0.90 - ETA: 3:18 - loss: 0.3525 - accuracy: 0.8568 - auc: 0.90 - ETA: 3:16 - loss: 0.3522 - accuracy: 0.8569 - auc: 0.90 - ETA: 3:14 - loss: 0.3521 - accuracy: 0.8569 - auc: 0.90 - ETA: 3:12 - loss: 0.3523 - accuracy: 0.8568 - auc: 0.90 - ETA: 3:10 - loss: 0.3523 - accuracy: 0.8569 - auc: 0.90 - ETA: 3:08 - loss: 0.3525 - accuracy: 0.8566 - auc: 0.90 - ETA: 3:06 - loss: 0.3523 - accuracy: 0.8567 - auc: 0.90 - ETA: 3:04 - loss: 0.3523 - accuracy: 0.8565 - auc: 0.90 - ETA: 3:02 - loss: 0.3525 - accuracy: 0.8565 - auc: 0.90 - ETA: 3:00 - loss: 0.3526 - accuracy: 0.8563 - auc: 0.90 - ETA: 2:58 - loss: 0.3527 - accuracy: 0.8563 - auc: 0.90 - ETA: 2:56 - loss: 0.3523 - accuracy: 0.8566 - auc: 0.90 - ETA: 2:54 - loss: 0.3525 - accuracy: 0.8565 - auc: 0.90 - ETA: 2:52 - loss: 0.3524 - accuracy: 0.8566 - auc: 0.90 - ETA: 2:50 - loss: 0.3522 - accuracy: 0.8566 - auc: 0.90 - ETA: 2:48 - loss: 0.3519 - accuracy: 0.8568 - auc: 0.90 - ETA: 2:46 - loss: 0.3520 - accuracy: 0.8567 - auc: 0.90 - ETA: 2:44 - loss: 0.3517 - accuracy: 0.8569 - auc: 0.90 - ETA: 2:41 - loss: 0.3518 - accuracy: 0.8568 - auc: 0.90 - ETA: 2:39 - loss: 0.3518 - accuracy: 0.8568 - auc: 0.90 - ETA: 2:37 - loss: 0.3518 - accuracy: 0.8567 - auc: 0.90 - ETA: 2:35 - loss: 0.3516 - accuracy: 0.8567 - auc: 0.90 - ETA: 2:33 - loss: 0.3519 - accuracy: 0.8566 - auc: 0.90 - ETA: 2:31 - loss: 0.3520 - accuracy: 0.8565 - auc: 0.90 - ETA: 2:29 - loss: 0.3517 - accuracy: 0.8568 - auc: 0.90 - ETA: 2:27 - loss: 0.3517 - accuracy: 0.8568 - auc: 0.90 - ETA: 2:25 - loss: 0.3523 - accuracy: 0.8563 - auc: 0.90 - ETA: 2:23 - loss: 0.3524 - accuracy: 0.8562 - auc: 0.90 - ETA: 2:21 - loss: 0.3525 - accuracy: 0.8562 - auc: 0.90 - ETA: 2:19 - loss: 0.3524 - accuracy: 0.8563 - auc: 0.90 - ETA: 2:17 - loss: 0.3519 - accuracy: 0.8566 - auc: 0.90 - ETA: 2:15 - loss: 0.3519 - accuracy: 0.8565 - auc: 0.90 - ETA: 2:13 - loss: 0.3517 - accuracy: 0.8566 - auc: 0.90 - ETA: 2:11 - loss: 0.3515 - accuracy: 0.8566 - auc: 0.90 - ETA: 2:09 - loss: 0.3516 - accuracy: 0.8563 - auc: 0.90 - ETA: 2:07 - loss: 0.3518 - accuracy: 0.8562 - auc: 0.90 - ETA: 2:05 - loss: 0.3518 - accuracy: 0.8561 - auc: 0.90 - ETA: 2:03 - loss: 0.3521 - accuracy: 0.8559 - auc: 0.90 - ETA: 2:01 - loss: 0.3517 - accuracy: 0.8560 - auc: 0.90 - ETA: 1:59 - loss: 0.3521 - accuracy: 0.8557 - auc: 0.90 - ETA: 1:57 - loss: 0.3523 - accuracy: 0.8555 - auc: 0.90 - ETA: 1:55 - loss: 0.3525 - accuracy: 0.8553 - auc: 0.90 - ETA: 1:53 - loss: 0.3525 - accuracy: 0.8552 - auc: 0.90 - ETA: 1:51 - loss: 0.3528 - accuracy: 0.8549 - auc: 0.90 - ETA: 1:49 - loss: 0.3534 - accuracy: 0.8549 - auc: 0.90 - ETA: 1:46 - loss: 0.3533 - accuracy: 0.8548 - auc: 0.90 - ETA: 1:44 - loss: 0.3533 - accuracy: 0.8547 - auc: 0.90 - ETA: 1:42 - loss: 0.3532 - accuracy: 0.8546 - auc: 0.90 - ETA: 1:40 - loss: 0.3531 - accuracy: 0.8547 - auc: 0.9049"
     ]
    },
    {
     "name": "stdout",
     "output_type": "stream",
     "text": [
      "14929/14929 [==============================] - ETA: 1:38 - loss: 0.3530 - accuracy: 0.8547 - auc: 0.90 - ETA: 1:36 - loss: 0.3531 - accuracy: 0.8546 - auc: 0.90 - ETA: 1:34 - loss: 0.3531 - accuracy: 0.8547 - auc: 0.90 - ETA: 1:32 - loss: 0.3531 - accuracy: 0.8547 - auc: 0.90 - ETA: 1:30 - loss: 0.3528 - accuracy: 0.8548 - auc: 0.90 - ETA: 1:28 - loss: 0.3527 - accuracy: 0.8548 - auc: 0.90 - ETA: 1:26 - loss: 0.3526 - accuracy: 0.8548 - auc: 0.90 - ETA: 1:24 - loss: 0.3523 - accuracy: 0.8550 - auc: 0.90 - ETA: 1:22 - loss: 0.3521 - accuracy: 0.8550 - auc: 0.90 - ETA: 1:20 - loss: 0.3521 - accuracy: 0.8549 - auc: 0.90 - ETA: 1:18 - loss: 0.3522 - accuracy: 0.8549 - auc: 0.90 - ETA: 1:16 - loss: 0.3522 - accuracy: 0.8549 - auc: 0.90 - ETA: 1:14 - loss: 0.3524 - accuracy: 0.8547 - auc: 0.90 - ETA: 1:12 - loss: 0.3522 - accuracy: 0.8548 - auc: 0.90 - ETA: 1:10 - loss: 0.3519 - accuracy: 0.8550 - auc: 0.90 - ETA: 1:08 - loss: 0.3516 - accuracy: 0.8552 - auc: 0.90 - ETA: 1:06 - loss: 0.3515 - accuracy: 0.8551 - auc: 0.90 - ETA: 1:04 - loss: 0.3513 - accuracy: 0.8552 - auc: 0.90 - ETA: 1:02 - loss: 0.3515 - accuracy: 0.8551 - auc: 0.90 - ETA: 1:00 - loss: 0.3515 - accuracy: 0.8551 - auc: 0.90 - ETA: 58s - loss: 0.3511 - accuracy: 0.8554 - auc: 0.9059 - ETA: 56s - loss: 0.3511 - accuracy: 0.8554 - auc: 0.905 - ETA: 54s - loss: 0.3509 - accuracy: 0.8554 - auc: 0.905 - ETA: 51s - loss: 0.3511 - accuracy: 0.8551 - auc: 0.905 - ETA: 49s - loss: 0.3511 - accuracy: 0.8551 - auc: 0.906 - ETA: 47s - loss: 0.3507 - accuracy: 0.8554 - auc: 0.906 - ETA: 45s - loss: 0.3503 - accuracy: 0.8556 - auc: 0.906 - ETA: 43s - loss: 0.3500 - accuracy: 0.8558 - auc: 0.906 - ETA: 41s - loss: 0.3500 - accuracy: 0.8558 - auc: 0.906 - ETA: 39s - loss: 0.3498 - accuracy: 0.8558 - auc: 0.906 - ETA: 37s - loss: 0.3500 - accuracy: 0.8556 - auc: 0.906 - ETA: 35s - loss: 0.3497 - accuracy: 0.8557 - auc: 0.906 - ETA: 33s - loss: 0.3493 - accuracy: 0.8560 - auc: 0.907 - ETA: 31s - loss: 0.3492 - accuracy: 0.8560 - auc: 0.907 - ETA: 29s - loss: 0.3491 - accuracy: 0.8559 - auc: 0.907 - ETA: 27s - loss: 0.3487 - accuracy: 0.8562 - auc: 0.907 - ETA: 25s - loss: 0.3486 - accuracy: 0.8562 - auc: 0.907 - ETA: 23s - loss: 0.3481 - accuracy: 0.8565 - auc: 0.907 - ETA: 21s - loss: 0.3479 - accuracy: 0.8566 - auc: 0.907 - ETA: 19s - loss: 0.3484 - accuracy: 0.8563 - auc: 0.907 - ETA: 17s - loss: 0.3483 - accuracy: 0.8564 - auc: 0.907 - ETA: 15s - loss: 0.3480 - accuracy: 0.8565 - auc: 0.907 - ETA: 13s - loss: 0.3477 - accuracy: 0.8566 - auc: 0.907 - ETA: 11s - loss: 0.3479 - accuracy: 0.8566 - auc: 0.907 - ETA: 9s - loss: 0.3479 - accuracy: 0.8565 - auc: 0.907 - ETA: 7s - loss: 0.3475 - accuracy: 0.8568 - auc: 0.90 - ETA: 5s - loss: 0.3478 - accuracy: 0.8565 - auc: 0.90 - ETA: 3s - loss: 0.3480 - accuracy: 0.8565 - auc: 0.90 - ETA: 1s - loss: 0.3486 - accuracy: 0.8563 - auc: 0.90 - 1041s 70ms/sample - loss: 0.3487 - accuracy: 0.8562 - auc: 0.9075 - val_loss: 0.3685 - val_accuracy: 0.8473 - val_auc: 0.9059\n",
      "Epoch 6/100\n",
      " 4352/14929 [=======>......................] - ETA: 15:59 - loss: 0.3926 - accuracy: 0.8125 - auc: 0.847 - ETA: 17:12 - loss: 0.3140 - accuracy: 0.8594 - auc: 0.911 - ETA: 16:55 - loss: 0.3163 - accuracy: 0.8542 - auc: 0.919 - ETA: 16:41 - loss: 0.3125 - accuracy: 0.8516 - auc: 0.926 - ETA: 16:23 - loss: 0.3124 - accuracy: 0.8562 - auc: 0.923 - ETA: 16:09 - loss: 0.3309 - accuracy: 0.8438 - auc: 0.919 - ETA: 16:02 - loss: 0.3275 - accuracy: 0.8482 - auc: 0.927 - ETA: 15:57 - loss: 0.3386 - accuracy: 0.8438 - auc: 0.919 - ETA: 15:50 - loss: 0.3281 - accuracy: 0.8542 - auc: 0.920 - ETA: 15:45 - loss: 0.3253 - accuracy: 0.8531 - auc: 0.923 - ETA: 15:40 - loss: 0.3421 - accuracy: 0.8438 - auc: 0.909 - ETA: 15:35 - loss: 0.3500 - accuracy: 0.8385 - auc: 0.901 - ETA: 15:31 - loss: 0.3564 - accuracy: 0.8341 - auc: 0.898 - ETA: 15:27 - loss: 0.3475 - accuracy: 0.8415 - auc: 0.903 - ETA: 15:24 - loss: 0.3409 - accuracy: 0.8458 - auc: 0.906 - ETA: 15:21 - loss: 0.3453 - accuracy: 0.8418 - auc: 0.907 - ETA: 15:17 - loss: 0.3383 - accuracy: 0.8493 - auc: 0.911 - ETA: 15:15 - loss: 0.3320 - accuracy: 0.8524 - auc: 0.912 - ETA: 15:13 - loss: 0.3344 - accuracy: 0.8520 - auc: 0.912 - ETA: 15:10 - loss: 0.3383 - accuracy: 0.8500 - auc: 0.912 - ETA: 15:07 - loss: 0.3405 - accuracy: 0.8467 - auc: 0.912 - ETA: 15:05 - loss: 0.3382 - accuracy: 0.8494 - auc: 0.912 - ETA: 15:02 - loss: 0.3342 - accuracy: 0.8533 - auc: 0.914 - ETA: 14:59 - loss: 0.3268 - accuracy: 0.8581 - auc: 0.918 - ETA: 14:57 - loss: 0.3249 - accuracy: 0.8600 - auc: 0.918 - ETA: 14:54 - loss: 0.3248 - accuracy: 0.8594 - auc: 0.919 - ETA: 14:52 - loss: 0.3258 - accuracy: 0.8588 - auc: 0.918 - ETA: 14:49 - loss: 0.3257 - accuracy: 0.8594 - auc: 0.920 - ETA: 14:47 - loss: 0.3251 - accuracy: 0.8610 - auc: 0.920 - ETA: 14:44 - loss: 0.3272 - accuracy: 0.8594 - auc: 0.917 - ETA: 14:42 - loss: 0.3284 - accuracy: 0.8589 - auc: 0.917 - ETA: 14:41 - loss: 0.3347 - accuracy: 0.8555 - auc: 0.912 - ETA: 14:39 - loss: 0.3421 - accuracy: 0.8513 - auc: 0.906 - ETA: 14:38 - loss: 0.3413 - accuracy: 0.8520 - auc: 0.907 - ETA: 14:36 - loss: 0.3442 - accuracy: 0.8518 - auc: 0.906 - ETA: 14:34 - loss: 0.3454 - accuracy: 0.8524 - auc: 0.905 - ETA: 14:32 - loss: 0.3461 - accuracy: 0.8522 - auc: 0.905 - ETA: 14:30 - loss: 0.3497 - accuracy: 0.8495 - auc: 0.903 - ETA: 14:28 - loss: 0.3520 - accuracy: 0.8502 - auc: 0.901 - ETA: 14:26 - loss: 0.3521 - accuracy: 0.8500 - auc: 0.902 - ETA: 14:23 - loss: 0.3535 - accuracy: 0.8483 - auc: 0.901 - ETA: 14:21 - loss: 0.3528 - accuracy: 0.8482 - auc: 0.902 - ETA: 14:18 - loss: 0.3510 - accuracy: 0.8488 - auc: 0.903 - ETA: 14:16 - loss: 0.3481 - accuracy: 0.8501 - auc: 0.905 - ETA: 14:14 - loss: 0.3467 - accuracy: 0.8514 - auc: 0.905 - ETA: 14:11 - loss: 0.3453 - accuracy: 0.8519 - auc: 0.906 - ETA: 14:09 - loss: 0.3455 - accuracy: 0.8524 - auc: 0.906 - ETA: 14:07 - loss: 0.3464 - accuracy: 0.8509 - auc: 0.905 - ETA: 14:05 - loss: 0.3467 - accuracy: 0.8508 - auc: 0.906 - ETA: 14:02 - loss: 0.3486 - accuracy: 0.8494 - auc: 0.905 - ETA: 14:00 - loss: 0.3483 - accuracy: 0.8505 - auc: 0.905 - ETA: 13:58 - loss: 0.3474 - accuracy: 0.8510 - auc: 0.905 - ETA: 13:55 - loss: 0.3477 - accuracy: 0.8508 - auc: 0.905 - ETA: 13:53 - loss: 0.3469 - accuracy: 0.8507 - auc: 0.905 - ETA: 13:51 - loss: 0.3450 - accuracy: 0.8523 - auc: 0.906 - ETA: 13:49 - loss: 0.3444 - accuracy: 0.8521 - auc: 0.907 - ETA: 13:46 - loss: 0.3488 - accuracy: 0.8503 - auc: 0.904 - ETA: 13:44 - loss: 0.3486 - accuracy: 0.8502 - auc: 0.904 - ETA: 13:42 - loss: 0.3471 - accuracy: 0.8517 - auc: 0.905 - ETA: 13:40 - loss: 0.3504 - accuracy: 0.8510 - auc: 0.903 - ETA: 13:38 - loss: 0.3508 - accuracy: 0.8514 - auc: 0.902 - ETA: 13:37 - loss: 0.3479 - accuracy: 0.8533 - auc: 0.904 - ETA: 13:35 - loss: 0.3482 - accuracy: 0.8532 - auc: 0.904 - ETA: 13:32 - loss: 0.3480 - accuracy: 0.8525 - auc: 0.904 - ETA: 13:30 - loss: 0.3472 - accuracy: 0.8524 - auc: 0.905 - ETA: 13:28 - loss: 0.3488 - accuracy: 0.8513 - auc: 0.904 - ETA: 13:27 - loss: 0.3466 - accuracy: 0.8535 - auc: 0.905 - ETA: 13:27 - loss: 0.3456 - accuracy: 0.8543 - auc: 0.906 - ETA: 13:26 - loss: 0.3460 - accuracy: 0.8542 - auc: 0.905 - ETA: 13:25 - loss: 0.3444 - accuracy: 0.8554 - auc: 0.906 - ETA: 13:23 - loss: 0.3452 - accuracy: 0.8552 - auc: 0.906 - ETA: 13:21 - loss: 0.3449 - accuracy: 0.8559 - auc: 0.906 - ETA: 13:20 - loss: 0.3441 - accuracy: 0.8566 - auc: 0.906 - ETA: 13:18 - loss: 0.3471 - accuracy: 0.8547 - auc: 0.904 - ETA: 13:16 - loss: 0.3450 - accuracy: 0.8558 - auc: 0.905 - ETA: 13:14 - loss: 0.3450 - accuracy: 0.8569 - auc: 0.906 - ETA: 13:11 - loss: 0.3456 - accuracy: 0.8563 - auc: 0.906 - ETA: 13:09 - loss: 0.3457 - accuracy: 0.8558 - auc: 0.906 - ETA: 13:07 - loss: 0.3458 - accuracy: 0.8548 - auc: 0.906 - ETA: 13:05 - loss: 0.3462 - accuracy: 0.8543 - auc: 0.905 - ETA: 13:03 - loss: 0.3477 - accuracy: 0.8530 - auc: 0.904 - ETA: 13:01 - loss: 0.3494 - accuracy: 0.8518 - auc: 0.903 - ETA: 12:59 - loss: 0.3487 - accuracy: 0.8520 - auc: 0.904 - ETA: 12:56 - loss: 0.3501 - accuracy: 0.8512 - auc: 0.903 - ETA: 12:54 - loss: 0.3498 - accuracy: 0.8515 - auc: 0.903 - ETA: 12:52 - loss: 0.3503 - accuracy: 0.8514 - auc: 0.903 - ETA: 12:50 - loss: 0.3497 - accuracy: 0.8517 - auc: 0.904 - ETA: 12:48 - loss: 0.3488 - accuracy: 0.8519 - auc: 0.904 - ETA: 12:46 - loss: 0.3478 - accuracy: 0.8529 - auc: 0.905 - ETA: 12:44 - loss: 0.3467 - accuracy: 0.8531 - auc: 0.905 - ETA: 12:42 - loss: 0.3477 - accuracy: 0.8520 - auc: 0.905 - ETA: 12:40 - loss: 0.3488 - accuracy: 0.8509 - auc: 0.904 - ETA: 12:38 - loss: 0.3474 - accuracy: 0.8518 - auc: 0.904 - ETA: 12:35 - loss: 0.3486 - accuracy: 0.8514 - auc: 0.904 - ETA: 12:34 - loss: 0.3485 - accuracy: 0.8513 - auc: 0.905 - ETA: 12:32 - loss: 0.3473 - accuracy: 0.8519 - auc: 0.905 - ETA: 12:30 - loss: 0.3468 - accuracy: 0.8524 - auc: 0.905 - ETA: 12:28 - loss: 0.3469 - accuracy: 0.8517 - auc: 0.905 - ETA: 12:26 - loss: 0.3477 - accuracy: 0.8516 - auc: 0.905 - ETA: 12:24 - loss: 0.3485 - accuracy: 0.8516 - auc: 0.905 - ETA: 12:23 - loss: 0.3488 - accuracy: 0.8512 - auc: 0.905 - ETA: 12:21 - loss: 0.3500 - accuracy: 0.8505 - auc: 0.904 - ETA: 12:19 - loss: 0.3491 - accuracy: 0.8510 - auc: 0.905 - ETA: 12:17 - loss: 0.3479 - accuracy: 0.8516 - auc: 0.905 - ETA: 12:16 - loss: 0.3485 - accuracy: 0.8512 - auc: 0.905 - ETA: 12:13 - loss: 0.3488 - accuracy: 0.8505 - auc: 0.905 - ETA: 12:11 - loss: 0.3500 - accuracy: 0.8502 - auc: 0.904 - ETA: 12:10 - loss: 0.3488 - accuracy: 0.8510 - auc: 0.905 - ETA: 12:08 - loss: 0.3497 - accuracy: 0.8506 - auc: 0.905 - ETA: 12:05 - loss: 0.3488 - accuracy: 0.8506 - auc: 0.906 - ETA: 12:03 - loss: 0.3483 - accuracy: 0.8511 - auc: 0.906 - ETA: 12:01 - loss: 0.3479 - accuracy: 0.8516 - auc: 0.907 - ETA: 11:59 - loss: 0.3467 - accuracy: 0.8526 - auc: 0.907 - ETA: 11:57 - loss: 0.3458 - accuracy: 0.8536 - auc: 0.907 - ETA: 11:55 - loss: 0.3473 - accuracy: 0.8530 - auc: 0.907 - ETA: 11:53 - loss: 0.3482 - accuracy: 0.8524 - auc: 0.906 - ETA: 11:51 - loss: 0.3490 - accuracy: 0.8518 - auc: 0.906 - ETA: 11:49 - loss: 0.3483 - accuracy: 0.8520 - auc: 0.906 - ETA: 11:48 - loss: 0.3479 - accuracy: 0.8524 - auc: 0.906 - ETA: 11:46 - loss: 0.3484 - accuracy: 0.8518 - auc: 0.906 - ETA: 11:44 - loss: 0.3477 - accuracy: 0.8523 - auc: 0.906 - ETA: 11:42 - loss: 0.3472 - accuracy: 0.8525 - auc: 0.906 - ETA: 11:41 - loss: 0.3474 - accuracy: 0.8521 - auc: 0.906 - ETA: 11:39 - loss: 0.3480 - accuracy: 0.8518 - auc: 0.905 - ETA: 11:37 - loss: 0.3483 - accuracy: 0.8512 - auc: 0.905 - ETA: 11:35 - loss: 0.3473 - accuracy: 0.8519 - auc: 0.906 - ETA: 11:33 - loss: 0.3466 - accuracy: 0.8526 - auc: 0.906 - ETA: 11:32 - loss: 0.3473 - accuracy: 0.8525 - auc: 0.906 - ETA: 11:30 - loss: 0.3482 - accuracy: 0.8522 - auc: 0.906 - ETA: 11:28 - loss: 0.3480 - accuracy: 0.8522 - auc: 0.906 - ETA: 11:26 - loss: 0.3482 - accuracy: 0.8521 - auc: 0.906 - ETA: 11:25 - loss: 0.3475 - accuracy: 0.8523 - auc: 0.906 - ETA: 11:23 - loss: 0.3473 - accuracy: 0.8524 - auc: 0.906 - ETA: 11:20 - loss: 0.3483 - accuracy: 0.8519 - auc: 0.905 - ETA: 11:19 - loss: 0.3485 - accuracy: 0.8507 - auc: 0.906 - ETA: 11:16 - loss: 0.3482 - accuracy: 0.8509 - auc: 0.9062 7648/14929 [==============>...............] - ETA: 11:15 - loss: 0.3478 - accuracy: 0.8510 - auc: 0.906 - ETA: 11:13 - loss: 0.3476 - accuracy: 0.8508 - auc: 0.906 - ETA: 11:10 - loss: 0.3482 - accuracy: 0.8507 - auc: 0.906 - ETA: 11:08 - loss: 0.3475 - accuracy: 0.8511 - auc: 0.906 - ETA: 11:07 - loss: 0.3478 - accuracy: 0.8513 - auc: 0.906 - ETA: 11:04 - loss: 0.3468 - accuracy: 0.8517 - auc: 0.906 - ETA: 11:02 - loss: 0.3474 - accuracy: 0.8514 - auc: 0.906 - ETA: 11:00 - loss: 0.3471 - accuracy: 0.8518 - auc: 0.906 - ETA: 10:58 - loss: 0.3461 - accuracy: 0.8524 - auc: 0.907 - ETA: 10:56 - loss: 0.3460 - accuracy: 0.8523 - auc: 0.907 - ETA: 10:54 - loss: 0.3462 - accuracy: 0.8523 - auc: 0.906 - ETA: 10:52 - loss: 0.3466 - accuracy: 0.8518 - auc: 0.906 - ETA: 10:50 - loss: 0.3455 - accuracy: 0.8523 - auc: 0.906 - ETA: 10:48 - loss: 0.3446 - accuracy: 0.8529 - auc: 0.907 - ETA: 10:46 - loss: 0.3436 - accuracy: 0.8535 - auc: 0.907 - ETA: 10:44 - loss: 0.3437 - accuracy: 0.8536 - auc: 0.907 - ETA: 10:42 - loss: 0.3436 - accuracy: 0.8538 - auc: 0.907 - ETA: 10:40 - loss: 0.3431 - accuracy: 0.8541 - auc: 0.907 - ETA: 10:38 - loss: 0.3427 - accuracy: 0.8544 - auc: 0.908 - ETA: 10:36 - loss: 0.3431 - accuracy: 0.8544 - auc: 0.907 - ETA: 10:33 - loss: 0.3429 - accuracy: 0.8545 - auc: 0.907 - ETA: 10:33 - loss: 0.3435 - accuracy: 0.8544 - auc: 0.907 - ETA: 10:32 - loss: 0.3436 - accuracy: 0.8544 - auc: 0.906 - ETA: 10:30 - loss: 0.3435 - accuracy: 0.8545 - auc: 0.906 - ETA: 10:28 - loss: 0.3424 - accuracy: 0.8552 - auc: 0.907 - ETA: 10:27 - loss: 0.3414 - accuracy: 0.8557 - auc: 0.907 - ETA: 10:25 - loss: 0.3416 - accuracy: 0.8554 - auc: 0.907 - ETA: 10:24 - loss: 0.3415 - accuracy: 0.8556 - auc: 0.907 - ETA: 10:22 - loss: 0.3413 - accuracy: 0.8555 - auc: 0.907 - ETA: 10:20 - loss: 0.3411 - accuracy: 0.8558 - auc: 0.907 - ETA: 10:17 - loss: 0.3404 - accuracy: 0.8563 - auc: 0.908 - ETA: 10:15 - loss: 0.3395 - accuracy: 0.8566 - auc: 0.909 - ETA: 10:13 - loss: 0.3391 - accuracy: 0.8567 - auc: 0.909 - ETA: 10:11 - loss: 0.3393 - accuracy: 0.8568 - auc: 0.909 - ETA: 10:09 - loss: 0.3389 - accuracy: 0.8571 - auc: 0.909 - ETA: 10:07 - loss: 0.3394 - accuracy: 0.8574 - auc: 0.909 - ETA: 10:05 - loss: 0.3388 - accuracy: 0.8577 - auc: 0.909 - ETA: 10:04 - loss: 0.3390 - accuracy: 0.8572 - auc: 0.909 - ETA: 10:01 - loss: 0.3384 - accuracy: 0.8575 - auc: 0.909 - ETA: 9:59 - loss: 0.3379 - accuracy: 0.8580 - auc: 0.910 - ETA: 9:57 - loss: 0.3370 - accuracy: 0.8586 - auc: 0.91 - ETA: 9:55 - loss: 0.3365 - accuracy: 0.8587 - auc: 0.91 - ETA: 9:53 - loss: 0.3357 - accuracy: 0.8591 - auc: 0.91 - ETA: 9:51 - loss: 0.3347 - accuracy: 0.8597 - auc: 0.91 - ETA: 9:49 - loss: 0.3353 - accuracy: 0.8591 - auc: 0.91 - ETA: 9:47 - loss: 0.3347 - accuracy: 0.8594 - auc: 0.91 - ETA: 9:45 - loss: 0.3340 - accuracy: 0.8596 - auc: 0.91 - ETA: 9:43 - loss: 0.3332 - accuracy: 0.8601 - auc: 0.91 - ETA: 9:41 - loss: 0.3330 - accuracy: 0.8601 - auc: 0.91 - ETA: 9:39 - loss: 0.3342 - accuracy: 0.8600 - auc: 0.91 - ETA: 9:37 - loss: 0.3334 - accuracy: 0.8605 - auc: 0.91 - ETA: 9:35 - loss: 0.3331 - accuracy: 0.8604 - auc: 0.91 - ETA: 9:33 - loss: 0.3334 - accuracy: 0.8603 - auc: 0.91 - ETA: 9:31 - loss: 0.3333 - accuracy: 0.8602 - auc: 0.91 - ETA: 9:29 - loss: 0.3322 - accuracy: 0.8608 - auc: 0.91 - ETA: 9:27 - loss: 0.3320 - accuracy: 0.8608 - auc: 0.91 - ETA: 9:25 - loss: 0.3326 - accuracy: 0.8609 - auc: 0.91 - ETA: 9:23 - loss: 0.3321 - accuracy: 0.8613 - auc: 0.91 - ETA: 9:21 - loss: 0.3328 - accuracy: 0.8609 - auc: 0.91 - ETA: 9:19 - loss: 0.3331 - accuracy: 0.8610 - auc: 0.91 - ETA: 9:17 - loss: 0.3337 - accuracy: 0.8607 - auc: 0.91 - ETA: 9:15 - loss: 0.3334 - accuracy: 0.8610 - auc: 0.91 - ETA: 9:13 - loss: 0.3324 - accuracy: 0.8617 - auc: 0.91 - ETA: 9:11 - loss: 0.3324 - accuracy: 0.8616 - auc: 0.91 - ETA: 9:09 - loss: 0.3329 - accuracy: 0.8613 - auc: 0.91 - ETA: 9:07 - loss: 0.3328 - accuracy: 0.8614 - auc: 0.91 - ETA: 9:05 - loss: 0.3328 - accuracy: 0.8615 - auc: 0.91 - ETA: 9:03 - loss: 0.3324 - accuracy: 0.8617 - auc: 0.91 - ETA: 9:01 - loss: 0.3326 - accuracy: 0.8616 - auc: 0.91 - ETA: 8:59 - loss: 0.3319 - accuracy: 0.8618 - auc: 0.91 - ETA: 8:57 - loss: 0.3317 - accuracy: 0.8622 - auc: 0.91 - ETA: 8:55 - loss: 0.3322 - accuracy: 0.8618 - auc: 0.91 - ETA: 8:54 - loss: 0.3323 - accuracy: 0.8618 - auc: 0.91 - ETA: 8:52 - loss: 0.3320 - accuracy: 0.8621 - auc: 0.91 - ETA: 8:50 - loss: 0.3318 - accuracy: 0.8623 - auc: 0.91 - ETA: 8:48 - loss: 0.3320 - accuracy: 0.8623 - auc: 0.91 - ETA: 8:46 - loss: 0.3315 - accuracy: 0.8627 - auc: 0.91 - ETA: 8:44 - loss: 0.3319 - accuracy: 0.8627 - auc: 0.91 - ETA: 8:41 - loss: 0.3316 - accuracy: 0.8629 - auc: 0.91 - ETA: 8:39 - loss: 0.3314 - accuracy: 0.8630 - auc: 0.91 - ETA: 8:37 - loss: 0.3315 - accuracy: 0.8629 - auc: 0.91 - ETA: 8:35 - loss: 0.3317 - accuracy: 0.8628 - auc: 0.91 - ETA: 8:33 - loss: 0.3319 - accuracy: 0.8627 - auc: 0.91 - ETA: 8:31 - loss: 0.3316 - accuracy: 0.8629 - auc: 0.91 - ETA: 8:28 - loss: 0.3312 - accuracy: 0.8631 - auc: 0.91 - ETA: 8:26 - loss: 0.3309 - accuracy: 0.8632 - auc: 0.91 - ETA: 8:24 - loss: 0.3308 - accuracy: 0.8632 - auc: 0.91 - ETA: 8:22 - loss: 0.3314 - accuracy: 0.8629 - auc: 0.91 - ETA: 8:20 - loss: 0.3313 - accuracy: 0.8629 - auc: 0.91 - ETA: 8:18 - loss: 0.3304 - accuracy: 0.8635 - auc: 0.91 - ETA: 8:16 - loss: 0.3304 - accuracy: 0.8634 - auc: 0.91 - ETA: 8:14 - loss: 0.3303 - accuracy: 0.8635 - auc: 0.91 - ETA: 8:12 - loss: 0.3309 - accuracy: 0.8633 - auc: 0.91 - ETA: 8:10 - loss: 0.3313 - accuracy: 0.8629 - auc: 0.91 - ETA: 8:07 - loss: 0.3323 - accuracy: 0.8623 - auc: 0.91 - ETA: 8:05 - loss: 0.3323 - accuracy: 0.8622 - auc: 0.91 - ETA: 8:03 - loss: 0.3319 - accuracy: 0.8624 - auc: 0.91 - ETA: 8:01 - loss: 0.3312 - accuracy: 0.8628 - auc: 0.91 - ETA: 7:59 - loss: 0.3310 - accuracy: 0.8630 - auc: 0.91 - ETA: 7:57 - loss: 0.3313 - accuracy: 0.8627 - auc: 0.91 - ETA: 7:55 - loss: 0.3311 - accuracy: 0.8629 - auc: 0.91 - ETA: 7:53 - loss: 0.3305 - accuracy: 0.8631 - auc: 0.91 - ETA: 7:51 - loss: 0.3305 - accuracy: 0.8631 - auc: 0.9138WARNING:tensorflow:Early stopping conditioned on metric `val_auc` which is not available. Available metrics are: loss,accuracy,auc\n"
     ]
    },
    {
     "name": "stderr",
     "output_type": "stream",
     "text": [
      "WARNING:tensorflow:Early stopping conditioned on metric `val_auc` which is not available. Available metrics are: loss,accuracy,auc\n"
     ]
    },
    {
     "ename": "KeyboardInterrupt",
     "evalue": "",
     "output_type": "error",
     "traceback": [
      "\u001b[1;31m---------------------------------------------------------------------------\u001b[0m",
      "\u001b[1;31mKeyboardInterrupt\u001b[0m                         Traceback (most recent call last)",
      "\u001b[1;32m<ipython-input-20-f8e1e9c3bab3>\u001b[0m in \u001b[0;36m<module>\u001b[1;34m\u001b[0m\n\u001b[0;32m      6\u001b[0m     \u001b[0mcallbacks\u001b[0m \u001b[1;33m=\u001b[0m \u001b[1;33m[\u001b[0m\u001b[0mearly_stopping\u001b[0m\u001b[1;33m]\u001b[0m\u001b[1;33m,\u001b[0m\u001b[1;33m\u001b[0m\u001b[1;33m\u001b[0m\u001b[0m\n\u001b[0;32m      7\u001b[0m     \u001b[0mvalidation_data\u001b[0m\u001b[1;33m=\u001b[0m\u001b[1;33m(\u001b[0m\u001b[0mX_val\u001b[0m\u001b[1;33m,\u001b[0m \u001b[0my_val\u001b[0m\u001b[1;33m)\u001b[0m\u001b[1;33m,\u001b[0m\u001b[1;33m\u001b[0m\u001b[1;33m\u001b[0m\u001b[0m\n\u001b[1;32m----> 8\u001b[1;33m     shuffle=True)\n\u001b[0m",
      "\u001b[1;32mC:\\ProgramData\\Anaconda3\\lib\\site-packages\\tensorflow_core\\python\\keras\\engine\\training.py\u001b[0m in \u001b[0;36mfit\u001b[1;34m(self, x, y, batch_size, epochs, verbose, callbacks, validation_split, validation_data, shuffle, class_weight, sample_weight, initial_epoch, steps_per_epoch, validation_steps, validation_freq, max_queue_size, workers, use_multiprocessing, **kwargs)\u001b[0m\n\u001b[0;32m    726\u001b[0m         \u001b[0mmax_queue_size\u001b[0m\u001b[1;33m=\u001b[0m\u001b[0mmax_queue_size\u001b[0m\u001b[1;33m,\u001b[0m\u001b[1;33m\u001b[0m\u001b[1;33m\u001b[0m\u001b[0m\n\u001b[0;32m    727\u001b[0m         \u001b[0mworkers\u001b[0m\u001b[1;33m=\u001b[0m\u001b[0mworkers\u001b[0m\u001b[1;33m,\u001b[0m\u001b[1;33m\u001b[0m\u001b[1;33m\u001b[0m\u001b[0m\n\u001b[1;32m--> 728\u001b[1;33m         use_multiprocessing=use_multiprocessing)\n\u001b[0m\u001b[0;32m    729\u001b[0m \u001b[1;33m\u001b[0m\u001b[0m\n\u001b[0;32m    730\u001b[0m   def evaluate(self,\n",
      "\u001b[1;32mC:\\ProgramData\\Anaconda3\\lib\\site-packages\\tensorflow_core\\python\\keras\\engine\\training_v2.py\u001b[0m in \u001b[0;36mfit\u001b[1;34m(self, model, x, y, batch_size, epochs, verbose, callbacks, validation_split, validation_data, shuffle, class_weight, sample_weight, initial_epoch, steps_per_epoch, validation_steps, validation_freq, **kwargs)\u001b[0m\n\u001b[0;32m    322\u001b[0m                 \u001b[0mmode\u001b[0m\u001b[1;33m=\u001b[0m\u001b[0mModeKeys\u001b[0m\u001b[1;33m.\u001b[0m\u001b[0mTRAIN\u001b[0m\u001b[1;33m,\u001b[0m\u001b[1;33m\u001b[0m\u001b[1;33m\u001b[0m\u001b[0m\n\u001b[0;32m    323\u001b[0m                 \u001b[0mtraining_context\u001b[0m\u001b[1;33m=\u001b[0m\u001b[0mtraining_context\u001b[0m\u001b[1;33m,\u001b[0m\u001b[1;33m\u001b[0m\u001b[1;33m\u001b[0m\u001b[0m\n\u001b[1;32m--> 324\u001b[1;33m                 total_epochs=epochs)\n\u001b[0m\u001b[0;32m    325\u001b[0m             \u001b[0mcbks\u001b[0m\u001b[1;33m.\u001b[0m\u001b[0mmake_logs\u001b[0m\u001b[1;33m(\u001b[0m\u001b[0mmodel\u001b[0m\u001b[1;33m,\u001b[0m \u001b[0mepoch_logs\u001b[0m\u001b[1;33m,\u001b[0m \u001b[0mtraining_result\u001b[0m\u001b[1;33m,\u001b[0m \u001b[0mModeKeys\u001b[0m\u001b[1;33m.\u001b[0m\u001b[0mTRAIN\u001b[0m\u001b[1;33m)\u001b[0m\u001b[1;33m\u001b[0m\u001b[1;33m\u001b[0m\u001b[0m\n\u001b[0;32m    326\u001b[0m \u001b[1;33m\u001b[0m\u001b[0m\n",
      "\u001b[1;32mC:\\ProgramData\\Anaconda3\\lib\\site-packages\\tensorflow_core\\python\\keras\\engine\\training_v2.py\u001b[0m in \u001b[0;36mrun_one_epoch\u001b[1;34m(model, iterator, execution_function, dataset_size, batch_size, strategy, steps_per_epoch, num_samples, mode, training_context, total_epochs)\u001b[0m\n\u001b[0;32m    121\u001b[0m         step=step, mode=mode, size=current_batch_size) as batch_logs:\n\u001b[0;32m    122\u001b[0m       \u001b[1;32mtry\u001b[0m\u001b[1;33m:\u001b[0m\u001b[1;33m\u001b[0m\u001b[1;33m\u001b[0m\u001b[0m\n\u001b[1;32m--> 123\u001b[1;33m         \u001b[0mbatch_outs\u001b[0m \u001b[1;33m=\u001b[0m \u001b[0mexecution_function\u001b[0m\u001b[1;33m(\u001b[0m\u001b[0miterator\u001b[0m\u001b[1;33m)\u001b[0m\u001b[1;33m\u001b[0m\u001b[1;33m\u001b[0m\u001b[0m\n\u001b[0m\u001b[0;32m    124\u001b[0m       \u001b[1;32mexcept\u001b[0m \u001b[1;33m(\u001b[0m\u001b[0mStopIteration\u001b[0m\u001b[1;33m,\u001b[0m \u001b[0merrors\u001b[0m\u001b[1;33m.\u001b[0m\u001b[0mOutOfRangeError\u001b[0m\u001b[1;33m)\u001b[0m\u001b[1;33m:\u001b[0m\u001b[1;33m\u001b[0m\u001b[1;33m\u001b[0m\u001b[0m\n\u001b[0;32m    125\u001b[0m         \u001b[1;31m# TODO(kaftan): File bug about tf function and errors.OutOfRangeError?\u001b[0m\u001b[1;33m\u001b[0m\u001b[1;33m\u001b[0m\u001b[1;33m\u001b[0m\u001b[0m\n",
      "\u001b[1;32mC:\\ProgramData\\Anaconda3\\lib\\site-packages\\tensorflow_core\\python\\keras\\engine\\training_v2_utils.py\u001b[0m in \u001b[0;36mexecution_function\u001b[1;34m(input_fn)\u001b[0m\n\u001b[0;32m     84\u001b[0m     \u001b[1;31m# `numpy` translates Tensors to values in Eager mode.\u001b[0m\u001b[1;33m\u001b[0m\u001b[1;33m\u001b[0m\u001b[1;33m\u001b[0m\u001b[0m\n\u001b[0;32m     85\u001b[0m     return nest.map_structure(_non_none_constant_value,\n\u001b[1;32m---> 86\u001b[1;33m                               distributed_function(input_fn))\n\u001b[0m\u001b[0;32m     87\u001b[0m \u001b[1;33m\u001b[0m\u001b[0m\n\u001b[0;32m     88\u001b[0m   \u001b[1;32mreturn\u001b[0m \u001b[0mexecution_function\u001b[0m\u001b[1;33m\u001b[0m\u001b[1;33m\u001b[0m\u001b[0m\n",
      "\u001b[1;32mC:\\ProgramData\\Anaconda3\\lib\\site-packages\\tensorflow_core\\python\\eager\\def_function.py\u001b[0m in \u001b[0;36m__call__\u001b[1;34m(self, *args, **kwds)\u001b[0m\n\u001b[0;32m    455\u001b[0m \u001b[1;33m\u001b[0m\u001b[0m\n\u001b[0;32m    456\u001b[0m     \u001b[0mtracing_count\u001b[0m \u001b[1;33m=\u001b[0m \u001b[0mself\u001b[0m\u001b[1;33m.\u001b[0m\u001b[0m_get_tracing_count\u001b[0m\u001b[1;33m(\u001b[0m\u001b[1;33m)\u001b[0m\u001b[1;33m\u001b[0m\u001b[1;33m\u001b[0m\u001b[0m\n\u001b[1;32m--> 457\u001b[1;33m     \u001b[0mresult\u001b[0m \u001b[1;33m=\u001b[0m \u001b[0mself\u001b[0m\u001b[1;33m.\u001b[0m\u001b[0m_call\u001b[0m\u001b[1;33m(\u001b[0m\u001b[1;33m*\u001b[0m\u001b[0margs\u001b[0m\u001b[1;33m,\u001b[0m \u001b[1;33m**\u001b[0m\u001b[0mkwds\u001b[0m\u001b[1;33m)\u001b[0m\u001b[1;33m\u001b[0m\u001b[1;33m\u001b[0m\u001b[0m\n\u001b[0m\u001b[0;32m    458\u001b[0m     \u001b[1;32mif\u001b[0m \u001b[0mtracing_count\u001b[0m \u001b[1;33m==\u001b[0m \u001b[0mself\u001b[0m\u001b[1;33m.\u001b[0m\u001b[0m_get_tracing_count\u001b[0m\u001b[1;33m(\u001b[0m\u001b[1;33m)\u001b[0m\u001b[1;33m:\u001b[0m\u001b[1;33m\u001b[0m\u001b[1;33m\u001b[0m\u001b[0m\n\u001b[0;32m    459\u001b[0m       \u001b[0mself\u001b[0m\u001b[1;33m.\u001b[0m\u001b[0m_call_counter\u001b[0m\u001b[1;33m.\u001b[0m\u001b[0mcalled_without_tracing\u001b[0m\u001b[1;33m(\u001b[0m\u001b[1;33m)\u001b[0m\u001b[1;33m\u001b[0m\u001b[1;33m\u001b[0m\u001b[0m\n",
      "\u001b[1;32mC:\\ProgramData\\Anaconda3\\lib\\site-packages\\tensorflow_core\\python\\eager\\def_function.py\u001b[0m in \u001b[0;36m_call\u001b[1;34m(self, *args, **kwds)\u001b[0m\n\u001b[0;32m    485\u001b[0m       \u001b[1;31m# In this case we have created variables on the first call, so we run the\u001b[0m\u001b[1;33m\u001b[0m\u001b[1;33m\u001b[0m\u001b[1;33m\u001b[0m\u001b[0m\n\u001b[0;32m    486\u001b[0m       \u001b[1;31m# defunned version which is guaranteed to never create variables.\u001b[0m\u001b[1;33m\u001b[0m\u001b[1;33m\u001b[0m\u001b[1;33m\u001b[0m\u001b[0m\n\u001b[1;32m--> 487\u001b[1;33m       \u001b[1;32mreturn\u001b[0m \u001b[0mself\u001b[0m\u001b[1;33m.\u001b[0m\u001b[0m_stateless_fn\u001b[0m\u001b[1;33m(\u001b[0m\u001b[1;33m*\u001b[0m\u001b[0margs\u001b[0m\u001b[1;33m,\u001b[0m \u001b[1;33m**\u001b[0m\u001b[0mkwds\u001b[0m\u001b[1;33m)\u001b[0m  \u001b[1;31m# pylint: disable=not-callable\u001b[0m\u001b[1;33m\u001b[0m\u001b[1;33m\u001b[0m\u001b[0m\n\u001b[0m\u001b[0;32m    488\u001b[0m     \u001b[1;32melif\u001b[0m \u001b[0mself\u001b[0m\u001b[1;33m.\u001b[0m\u001b[0m_stateful_fn\u001b[0m \u001b[1;32mis\u001b[0m \u001b[1;32mnot\u001b[0m \u001b[1;32mNone\u001b[0m\u001b[1;33m:\u001b[0m\u001b[1;33m\u001b[0m\u001b[1;33m\u001b[0m\u001b[0m\n\u001b[0;32m    489\u001b[0m       \u001b[1;31m# Release the lock early so that multiple threads can perform the call\u001b[0m\u001b[1;33m\u001b[0m\u001b[1;33m\u001b[0m\u001b[1;33m\u001b[0m\u001b[0m\n",
      "\u001b[1;32mC:\\ProgramData\\Anaconda3\\lib\\site-packages\\tensorflow_core\\python\\eager\\function.py\u001b[0m in \u001b[0;36m__call__\u001b[1;34m(self, *args, **kwargs)\u001b[0m\n\u001b[0;32m   1821\u001b[0m     \u001b[1;34m\"\"\"Calls a graph function specialized to the inputs.\"\"\"\u001b[0m\u001b[1;33m\u001b[0m\u001b[1;33m\u001b[0m\u001b[0m\n\u001b[0;32m   1822\u001b[0m     \u001b[0mgraph_function\u001b[0m\u001b[1;33m,\u001b[0m \u001b[0margs\u001b[0m\u001b[1;33m,\u001b[0m \u001b[0mkwargs\u001b[0m \u001b[1;33m=\u001b[0m \u001b[0mself\u001b[0m\u001b[1;33m.\u001b[0m\u001b[0m_maybe_define_function\u001b[0m\u001b[1;33m(\u001b[0m\u001b[0margs\u001b[0m\u001b[1;33m,\u001b[0m \u001b[0mkwargs\u001b[0m\u001b[1;33m)\u001b[0m\u001b[1;33m\u001b[0m\u001b[1;33m\u001b[0m\u001b[0m\n\u001b[1;32m-> 1823\u001b[1;33m     \u001b[1;32mreturn\u001b[0m \u001b[0mgraph_function\u001b[0m\u001b[1;33m.\u001b[0m\u001b[0m_filtered_call\u001b[0m\u001b[1;33m(\u001b[0m\u001b[0margs\u001b[0m\u001b[1;33m,\u001b[0m \u001b[0mkwargs\u001b[0m\u001b[1;33m)\u001b[0m  \u001b[1;31m# pylint: disable=protected-access\u001b[0m\u001b[1;33m\u001b[0m\u001b[1;33m\u001b[0m\u001b[0m\n\u001b[0m\u001b[0;32m   1824\u001b[0m \u001b[1;33m\u001b[0m\u001b[0m\n\u001b[0;32m   1825\u001b[0m   \u001b[1;33m@\u001b[0m\u001b[0mproperty\u001b[0m\u001b[1;33m\u001b[0m\u001b[1;33m\u001b[0m\u001b[0m\n",
      "\u001b[1;32mC:\\ProgramData\\Anaconda3\\lib\\site-packages\\tensorflow_core\\python\\eager\\function.py\u001b[0m in \u001b[0;36m_filtered_call\u001b[1;34m(self, args, kwargs)\u001b[0m\n\u001b[0;32m   1139\u001b[0m          if isinstance(t, (ops.Tensor,\n\u001b[0;32m   1140\u001b[0m                            resource_variable_ops.BaseResourceVariable))),\n\u001b[1;32m-> 1141\u001b[1;33m         self.captured_inputs)\n\u001b[0m\u001b[0;32m   1142\u001b[0m \u001b[1;33m\u001b[0m\u001b[0m\n\u001b[0;32m   1143\u001b[0m   \u001b[1;32mdef\u001b[0m \u001b[0m_call_flat\u001b[0m\u001b[1;33m(\u001b[0m\u001b[0mself\u001b[0m\u001b[1;33m,\u001b[0m \u001b[0margs\u001b[0m\u001b[1;33m,\u001b[0m \u001b[0mcaptured_inputs\u001b[0m\u001b[1;33m,\u001b[0m \u001b[0mcancellation_manager\u001b[0m\u001b[1;33m=\u001b[0m\u001b[1;32mNone\u001b[0m\u001b[1;33m)\u001b[0m\u001b[1;33m:\u001b[0m\u001b[1;33m\u001b[0m\u001b[1;33m\u001b[0m\u001b[0m\n",
      "\u001b[1;32mC:\\ProgramData\\Anaconda3\\lib\\site-packages\\tensorflow_core\\python\\eager\\function.py\u001b[0m in \u001b[0;36m_call_flat\u001b[1;34m(self, args, captured_inputs, cancellation_manager)\u001b[0m\n\u001b[0;32m   1222\u001b[0m     \u001b[1;32mif\u001b[0m \u001b[0mexecuting_eagerly\u001b[0m\u001b[1;33m:\u001b[0m\u001b[1;33m\u001b[0m\u001b[1;33m\u001b[0m\u001b[0m\n\u001b[0;32m   1223\u001b[0m       flat_outputs = forward_function.call(\n\u001b[1;32m-> 1224\u001b[1;33m           ctx, args, cancellation_manager=cancellation_manager)\n\u001b[0m\u001b[0;32m   1225\u001b[0m     \u001b[1;32melse\u001b[0m\u001b[1;33m:\u001b[0m\u001b[1;33m\u001b[0m\u001b[1;33m\u001b[0m\u001b[0m\n\u001b[0;32m   1226\u001b[0m       \u001b[0mgradient_name\u001b[0m \u001b[1;33m=\u001b[0m \u001b[0mself\u001b[0m\u001b[1;33m.\u001b[0m\u001b[0m_delayed_rewrite_functions\u001b[0m\u001b[1;33m.\u001b[0m\u001b[0mregister\u001b[0m\u001b[1;33m(\u001b[0m\u001b[1;33m)\u001b[0m\u001b[1;33m\u001b[0m\u001b[1;33m\u001b[0m\u001b[0m\n",
      "\u001b[1;32mC:\\ProgramData\\Anaconda3\\lib\\site-packages\\tensorflow_core\\python\\eager\\function.py\u001b[0m in \u001b[0;36mcall\u001b[1;34m(self, ctx, args, cancellation_manager)\u001b[0m\n\u001b[0;32m    509\u001b[0m               \u001b[0minputs\u001b[0m\u001b[1;33m=\u001b[0m\u001b[0margs\u001b[0m\u001b[1;33m,\u001b[0m\u001b[1;33m\u001b[0m\u001b[1;33m\u001b[0m\u001b[0m\n\u001b[0;32m    510\u001b[0m               \u001b[0mattrs\u001b[0m\u001b[1;33m=\u001b[0m\u001b[1;33m(\u001b[0m\u001b[1;34m\"executor_type\"\u001b[0m\u001b[1;33m,\u001b[0m \u001b[0mexecutor_type\u001b[0m\u001b[1;33m,\u001b[0m \u001b[1;34m\"config_proto\"\u001b[0m\u001b[1;33m,\u001b[0m \u001b[0mconfig\u001b[0m\u001b[1;33m)\u001b[0m\u001b[1;33m,\u001b[0m\u001b[1;33m\u001b[0m\u001b[1;33m\u001b[0m\u001b[0m\n\u001b[1;32m--> 511\u001b[1;33m               ctx=ctx)\n\u001b[0m\u001b[0;32m    512\u001b[0m         \u001b[1;32melse\u001b[0m\u001b[1;33m:\u001b[0m\u001b[1;33m\u001b[0m\u001b[1;33m\u001b[0m\u001b[0m\n\u001b[0;32m    513\u001b[0m           outputs = execute.execute_with_cancellation(\n",
      "\u001b[1;32mC:\\ProgramData\\Anaconda3\\lib\\site-packages\\tensorflow_core\\python\\eager\\execute.py\u001b[0m in \u001b[0;36mquick_execute\u001b[1;34m(op_name, num_outputs, inputs, attrs, ctx, name)\u001b[0m\n\u001b[0;32m     59\u001b[0m     tensors = pywrap_tensorflow.TFE_Py_Execute(ctx._handle, device_name,\n\u001b[0;32m     60\u001b[0m                                                \u001b[0mop_name\u001b[0m\u001b[1;33m,\u001b[0m \u001b[0minputs\u001b[0m\u001b[1;33m,\u001b[0m \u001b[0mattrs\u001b[0m\u001b[1;33m,\u001b[0m\u001b[1;33m\u001b[0m\u001b[1;33m\u001b[0m\u001b[0m\n\u001b[1;32m---> 61\u001b[1;33m                                                num_outputs)\n\u001b[0m\u001b[0;32m     62\u001b[0m   \u001b[1;32mexcept\u001b[0m \u001b[0mcore\u001b[0m\u001b[1;33m.\u001b[0m\u001b[0m_NotOkStatusException\u001b[0m \u001b[1;32mas\u001b[0m \u001b[0me\u001b[0m\u001b[1;33m:\u001b[0m\u001b[1;33m\u001b[0m\u001b[1;33m\u001b[0m\u001b[0m\n\u001b[0;32m     63\u001b[0m     \u001b[1;32mif\u001b[0m \u001b[0mname\u001b[0m \u001b[1;32mis\u001b[0m \u001b[1;32mnot\u001b[0m \u001b[1;32mNone\u001b[0m\u001b[1;33m:\u001b[0m\u001b[1;33m\u001b[0m\u001b[1;33m\u001b[0m\u001b[0m\n",
      "\u001b[1;31mKeyboardInterrupt\u001b[0m: "
     ]
    }
   ],
   "source": [
    "EPOCHS = 100\n",
    "baseline_history = model.fit(\n",
    "    X_train,\n",
    "    y_train,\n",
    "    epochs=EPOCHS,\n",
    "    callbacks = [early_stopping],\n",
    "    validation_data=(X_val, y_val),\n",
    "    shuffle=True)"
   ]
  },
  {
   "cell_type": "code",
   "execution_count": 21,
   "metadata": {},
   "outputs": [
    {
     "data": {
      "text/html": [
       "<div>\n",
       "<style scoped>\n",
       "    .dataframe tbody tr th:only-of-type {\n",
       "        vertical-align: middle;\n",
       "    }\n",
       "\n",
       "    .dataframe tbody tr th {\n",
       "        vertical-align: top;\n",
       "    }\n",
       "\n",
       "    .dataframe thead th {\n",
       "        text-align: right;\n",
       "    }\n",
       "</style>\n",
       "<table border=\"1\" class=\"dataframe\">\n",
       "  <thead>\n",
       "    <tr style=\"text-align: right;\">\n",
       "      <th></th>\n",
       "      <th>Id</th>\n",
       "      <th>Predicted</th>\n",
       "    </tr>\n",
       "  </thead>\n",
       "  <tbody>\n",
       "    <tr>\n",
       "      <th>0</th>\n",
       "      <td>0</td>\n",
       "      <td>0.835289</td>\n",
       "    </tr>\n",
       "    <tr>\n",
       "      <th>1</th>\n",
       "      <td>1</td>\n",
       "      <td>0.649739</td>\n",
       "    </tr>\n",
       "    <tr>\n",
       "      <th>2</th>\n",
       "      <td>2</td>\n",
       "      <td>0.386642</td>\n",
       "    </tr>\n",
       "    <tr>\n",
       "      <th>3</th>\n",
       "      <td>3</td>\n",
       "      <td>0.588804</td>\n",
       "    </tr>\n",
       "    <tr>\n",
       "      <th>4</th>\n",
       "      <td>4</td>\n",
       "      <td>0.663133</td>\n",
       "    </tr>\n",
       "    <tr>\n",
       "      <th>5</th>\n",
       "      <td>5</td>\n",
       "      <td>0.828460</td>\n",
       "    </tr>\n",
       "    <tr>\n",
       "      <th>6</th>\n",
       "      <td>6</td>\n",
       "      <td>0.000994</td>\n",
       "    </tr>\n",
       "    <tr>\n",
       "      <th>7</th>\n",
       "      <td>7</td>\n",
       "      <td>0.712606</td>\n",
       "    </tr>\n",
       "    <tr>\n",
       "      <th>8</th>\n",
       "      <td>8</td>\n",
       "      <td>0.829721</td>\n",
       "    </tr>\n",
       "    <tr>\n",
       "      <th>9</th>\n",
       "      <td>9</td>\n",
       "      <td>0.933630</td>\n",
       "    </tr>\n",
       "    <tr>\n",
       "      <th>10</th>\n",
       "      <td>10</td>\n",
       "      <td>0.700305</td>\n",
       "    </tr>\n",
       "    <tr>\n",
       "      <th>11</th>\n",
       "      <td>11</td>\n",
       "      <td>0.829721</td>\n",
       "    </tr>\n",
       "    <tr>\n",
       "      <th>12</th>\n",
       "      <td>12</td>\n",
       "      <td>0.709990</td>\n",
       "    </tr>\n",
       "    <tr>\n",
       "      <th>13</th>\n",
       "      <td>13</td>\n",
       "      <td>0.218460</td>\n",
       "    </tr>\n",
       "    <tr>\n",
       "      <th>14</th>\n",
       "      <td>14</td>\n",
       "      <td>0.000030</td>\n",
       "    </tr>\n",
       "    <tr>\n",
       "      <th>15</th>\n",
       "      <td>15</td>\n",
       "      <td>0.044791</td>\n",
       "    </tr>\n",
       "    <tr>\n",
       "      <th>16</th>\n",
       "      <td>16</td>\n",
       "      <td>0.073224</td>\n",
       "    </tr>\n",
       "    <tr>\n",
       "      <th>17</th>\n",
       "      <td>17</td>\n",
       "      <td>0.999174</td>\n",
       "    </tr>\n",
       "    <tr>\n",
       "      <th>18</th>\n",
       "      <td>18</td>\n",
       "      <td>0.088446</td>\n",
       "    </tr>\n",
       "    <tr>\n",
       "      <th>19</th>\n",
       "      <td>19</td>\n",
       "      <td>0.000018</td>\n",
       "    </tr>\n",
       "    <tr>\n",
       "      <th>20</th>\n",
       "      <td>20</td>\n",
       "      <td>0.829881</td>\n",
       "    </tr>\n",
       "    <tr>\n",
       "      <th>21</th>\n",
       "      <td>21</td>\n",
       "      <td>0.000005</td>\n",
       "    </tr>\n",
       "    <tr>\n",
       "      <th>22</th>\n",
       "      <td>22</td>\n",
       "      <td>0.088445</td>\n",
       "    </tr>\n",
       "    <tr>\n",
       "      <th>23</th>\n",
       "      <td>23</td>\n",
       "      <td>0.829721</td>\n",
       "    </tr>\n",
       "    <tr>\n",
       "      <th>24</th>\n",
       "      <td>24</td>\n",
       "      <td>0.712615</td>\n",
       "    </tr>\n",
       "    <tr>\n",
       "      <th>25</th>\n",
       "      <td>25</td>\n",
       "      <td>0.000006</td>\n",
       "    </tr>\n",
       "    <tr>\n",
       "      <th>26</th>\n",
       "      <td>26</td>\n",
       "      <td>0.084661</td>\n",
       "    </tr>\n",
       "    <tr>\n",
       "      <th>27</th>\n",
       "      <td>27</td>\n",
       "      <td>0.000478</td>\n",
       "    </tr>\n",
       "    <tr>\n",
       "      <th>28</th>\n",
       "      <td>28</td>\n",
       "      <td>0.840039</td>\n",
       "    </tr>\n",
       "    <tr>\n",
       "      <th>29</th>\n",
       "      <td>29</td>\n",
       "      <td>0.073736</td>\n",
       "    </tr>\n",
       "    <tr>\n",
       "      <th>...</th>\n",
       "      <td>...</td>\n",
       "      <td>...</td>\n",
       "    </tr>\n",
       "    <tr>\n",
       "      <th>6021</th>\n",
       "      <td>6021</td>\n",
       "      <td>0.712615</td>\n",
       "    </tr>\n",
       "    <tr>\n",
       "      <th>6022</th>\n",
       "      <td>6022</td>\n",
       "      <td>0.058937</td>\n",
       "    </tr>\n",
       "    <tr>\n",
       "      <th>6023</th>\n",
       "      <td>6023</td>\n",
       "      <td>0.617805</td>\n",
       "    </tr>\n",
       "    <tr>\n",
       "      <th>6024</th>\n",
       "      <td>6024</td>\n",
       "      <td>0.829721</td>\n",
       "    </tr>\n",
       "    <tr>\n",
       "      <th>6025</th>\n",
       "      <td>6025</td>\n",
       "      <td>0.712615</td>\n",
       "    </tr>\n",
       "    <tr>\n",
       "      <th>6026</th>\n",
       "      <td>6026</td>\n",
       "      <td>0.198383</td>\n",
       "    </tr>\n",
       "    <tr>\n",
       "      <th>6027</th>\n",
       "      <td>6027</td>\n",
       "      <td>0.788287</td>\n",
       "    </tr>\n",
       "    <tr>\n",
       "      <th>6028</th>\n",
       "      <td>6028</td>\n",
       "      <td>0.829721</td>\n",
       "    </tr>\n",
       "    <tr>\n",
       "      <th>6029</th>\n",
       "      <td>6029</td>\n",
       "      <td>0.712615</td>\n",
       "    </tr>\n",
       "    <tr>\n",
       "      <th>6030</th>\n",
       "      <td>6030</td>\n",
       "      <td>0.712615</td>\n",
       "    </tr>\n",
       "    <tr>\n",
       "      <th>6031</th>\n",
       "      <td>6031</td>\n",
       "      <td>0.064724</td>\n",
       "    </tr>\n",
       "    <tr>\n",
       "      <th>6032</th>\n",
       "      <td>6032</td>\n",
       "      <td>0.996387</td>\n",
       "    </tr>\n",
       "    <tr>\n",
       "      <th>6033</th>\n",
       "      <td>6033</td>\n",
       "      <td>0.896349</td>\n",
       "    </tr>\n",
       "    <tr>\n",
       "      <th>6034</th>\n",
       "      <td>6034</td>\n",
       "      <td>0.088445</td>\n",
       "    </tr>\n",
       "    <tr>\n",
       "      <th>6035</th>\n",
       "      <td>6035</td>\n",
       "      <td>0.829710</td>\n",
       "    </tr>\n",
       "    <tr>\n",
       "      <th>6036</th>\n",
       "      <td>6036</td>\n",
       "      <td>0.000002</td>\n",
       "    </tr>\n",
       "    <tr>\n",
       "      <th>6037</th>\n",
       "      <td>6037</td>\n",
       "      <td>0.712615</td>\n",
       "    </tr>\n",
       "    <tr>\n",
       "      <th>6038</th>\n",
       "      <td>6038</td>\n",
       "      <td>0.088447</td>\n",
       "    </tr>\n",
       "    <tr>\n",
       "      <th>6039</th>\n",
       "      <td>6039</td>\n",
       "      <td>0.996156</td>\n",
       "    </tr>\n",
       "    <tr>\n",
       "      <th>6040</th>\n",
       "      <td>6040</td>\n",
       "      <td>0.000190</td>\n",
       "    </tr>\n",
       "    <tr>\n",
       "      <th>6041</th>\n",
       "      <td>6041</td>\n",
       "      <td>0.712615</td>\n",
       "    </tr>\n",
       "    <tr>\n",
       "      <th>6042</th>\n",
       "      <td>6042</td>\n",
       "      <td>0.000029</td>\n",
       "    </tr>\n",
       "    <tr>\n",
       "      <th>6043</th>\n",
       "      <td>6043</td>\n",
       "      <td>0.000030</td>\n",
       "    </tr>\n",
       "    <tr>\n",
       "      <th>6044</th>\n",
       "      <td>6044</td>\n",
       "      <td>0.000002</td>\n",
       "    </tr>\n",
       "    <tr>\n",
       "      <th>6045</th>\n",
       "      <td>6045</td>\n",
       "      <td>0.712615</td>\n",
       "    </tr>\n",
       "    <tr>\n",
       "      <th>6046</th>\n",
       "      <td>6046</td>\n",
       "      <td>0.945690</td>\n",
       "    </tr>\n",
       "    <tr>\n",
       "      <th>6047</th>\n",
       "      <td>6047</td>\n",
       "      <td>0.999947</td>\n",
       "    </tr>\n",
       "    <tr>\n",
       "      <th>6048</th>\n",
       "      <td>6048</td>\n",
       "      <td>0.000478</td>\n",
       "    </tr>\n",
       "    <tr>\n",
       "      <th>6049</th>\n",
       "      <td>6049</td>\n",
       "      <td>0.712573</td>\n",
       "    </tr>\n",
       "    <tr>\n",
       "      <th>6050</th>\n",
       "      <td>6050</td>\n",
       "      <td>0.000477</td>\n",
       "    </tr>\n",
       "  </tbody>\n",
       "</table>\n",
       "<p>6051 rows × 2 columns</p>\n",
       "</div>"
      ],
      "text/plain": [
       "        Id  Predicted\n",
       "0        0   0.835289\n",
       "1        1   0.649739\n",
       "2        2   0.386642\n",
       "3        3   0.588804\n",
       "4        4   0.663133\n",
       "5        5   0.828460\n",
       "6        6   0.000994\n",
       "7        7   0.712606\n",
       "8        8   0.829721\n",
       "9        9   0.933630\n",
       "10      10   0.700305\n",
       "11      11   0.829721\n",
       "12      12   0.709990\n",
       "13      13   0.218460\n",
       "14      14   0.000030\n",
       "15      15   0.044791\n",
       "16      16   0.073224\n",
       "17      17   0.999174\n",
       "18      18   0.088446\n",
       "19      19   0.000018\n",
       "20      20   0.829881\n",
       "21      21   0.000005\n",
       "22      22   0.088445\n",
       "23      23   0.829721\n",
       "24      24   0.712615\n",
       "25      25   0.000006\n",
       "26      26   0.084661\n",
       "27      27   0.000478\n",
       "28      28   0.840039\n",
       "29      29   0.073736\n",
       "...    ...        ...\n",
       "6021  6021   0.712615\n",
       "6022  6022   0.058937\n",
       "6023  6023   0.617805\n",
       "6024  6024   0.829721\n",
       "6025  6025   0.712615\n",
       "6026  6026   0.198383\n",
       "6027  6027   0.788287\n",
       "6028  6028   0.829721\n",
       "6029  6029   0.712615\n",
       "6030  6030   0.712615\n",
       "6031  6031   0.064724\n",
       "6032  6032   0.996387\n",
       "6033  6033   0.896349\n",
       "6034  6034   0.088445\n",
       "6035  6035   0.829710\n",
       "6036  6036   0.000002\n",
       "6037  6037   0.712615\n",
       "6038  6038   0.088447\n",
       "6039  6039   0.996156\n",
       "6040  6040   0.000190\n",
       "6041  6041   0.712615\n",
       "6042  6042   0.000029\n",
       "6043  6043   0.000030\n",
       "6044  6044   0.000002\n",
       "6045  6045   0.712615\n",
       "6046  6046   0.945690\n",
       "6047  6047   0.999947\n",
       "6048  6048   0.000478\n",
       "6049  6049   0.712573\n",
       "6050  6050   0.000477\n",
       "\n",
       "[6051 rows x 2 columns]"
      ]
     },
     "execution_count": 21,
     "metadata": {},
     "output_type": "execute_result"
    }
   ],
   "source": [
    "YTest = model.predict(XTest)\n",
    "df_test['Predicted'] = YTest[:, 0]\n",
    "df_test"
   ]
  },
  {
   "cell_type": "code",
   "execution_count": 22,
   "metadata": {},
   "outputs": [],
   "source": [
    "df_test.to_csv('test.csv', index=False)"
   ]
  },
  {
   "cell_type": "markdown",
   "metadata": {},
   "source": [
    "## Save as real image"
   ]
  },
  {
   "cell_type": "code",
   "execution_count": 9,
   "metadata": {},
   "outputs": [],
   "source": [
    "import matplotlib.pyplot as plt\n",
    "from tqdm import tqdm\n",
    "import os\n",
    "\n",
    "def save_as_image(data, folder, y = []):\n",
    "    y = np.array(y)\n",
    "    for i in tqdm(range(data.shape[0])):\n",
    "        img_id = str(i) + '.png'\n",
    "        if y.shape[0] == data.shape[0]:\n",
    "            class_dir = str(y[i])\n",
    "            class_folder = folder + '/' + class_dir            \n",
    "        else:\n",
    "            class_folder = folder\n",
    "        if not os.path.exists(class_folder):\n",
    "            os.makedirs(class_folder)\n",
    "        img_dir = class_folder + '/' + img_id\n",
    "        plt.figure(figsize=(8, 8))\n",
    "        plt.imshow(data[i], cmap='binary', origin='lower')\n",
    "        plt.title('Joint Recurrence Plot', fontsize=16)\n",
    "        plt.savefig(img_dir, transparent=True)\n",
    "        plt.close()"
   ]
  },
  {
   "cell_type": "code",
   "execution_count": null,
   "metadata": {},
   "outputs": [],
   "source": [
    "save_as_image(X_train, 'image/train', y_train)"
   ]
  },
  {
   "cell_type": "code",
   "execution_count": null,
   "metadata": {},
   "outputs": [
    {
     "name": "stderr",
     "output_type": "stream",
     "text": [
      "  9%|████▊                                                 | 336/3733 [01:18<12:59,  4.36it/s]"
     ]
    }
   ],
   "source": [
    "save_as_image(X_val, 'image/valid', y_val)"
   ]
  },
  {
   "cell_type": "code",
   "execution_count": null,
   "metadata": {},
   "outputs": [],
   "source": [
    "save_as_image(XTest, 'image/test')"
   ]
  },
  {
   "cell_type": "code",
   "execution_count": null,
   "metadata": {},
   "outputs": [],
   "source": [
    "import tensorflow as tf\n",
    "train_ds = tf.data.Dataset.list_files(str('image/train/*'))\n",
    "valid_ds = tf.data.Dataset.list_files(str('image/valid/*'))\n",
    "test_ds = tf.data.Dataset.list_files(str('image/test/*'))"
   ]
  },
  {
   "cell_type": "code",
   "execution_count": null,
   "metadata": {},
   "outputs": [],
   "source": [
    "for f in train_ds.take(5):\n",
    "  print(f.numpy())"
   ]
  },
  {
   "cell_type": "code",
   "execution_count": null,
   "metadata": {},
   "outputs": [],
   "source": [
    "CLASS_NAMES = ['0','1']\n",
    "\n",
    "def get_label(file_path):\n",
    "    # convert the path to a list of path components\n",
    "    parts = tf.strings.split(file_path, '\\\\')\n",
    "    # The second to last is the class-directory\n",
    "    return parts[-2] == CLASS_NAMES\n",
    "\n",
    "def decode_img(img):\n",
    "    # convert the compressed string to a 3D uint8 tensor\n",
    "    img = tf.image.decode_jpeg(img, channels=3)\n",
    "    # Use `convert_image_dtype` to convert to floats in the [0,1] range.\n",
    "    img = tf.image.convert_image_dtype(img, tf.float32)\n",
    "    return img\n",
    "\n",
    "def process_path_image(file_path):\n",
    "    img = tf.io.read_file(file_path)\n",
    "    img = decode_img(img)\n",
    "    return img\n",
    "\n",
    "def process_path(file_path):\n",
    "    label = get_label(file_path)\n",
    "    # load the raw data from the file as a string\n",
    "    img = process_path_image(file_path)\n",
    "    return img, label"
   ]
  },
  {
   "cell_type": "code",
   "execution_count": null,
   "metadata": {},
   "outputs": [],
   "source": [
    "get_label('image\\\\train\\\\0\\\\2120.png')"
   ]
  },
  {
   "cell_type": "code",
   "execution_count": null,
   "metadata": {},
   "outputs": [],
   "source": [
    "AUTOTUNE = tf.data.experimental.AUTOTUNE\n",
    "\n",
    "labeled_train_ds = train_ds.map(process_path, num_parallel_calls=1)\n",
    "labeled_valid_ds = valid_ds.map(process_path, num_parallel_calls=1)\n",
    "labeled_test_ds = test_ds.map(process_path_image, num_parallel_calls=1)"
   ]
  },
  {
   "cell_type": "code",
   "execution_count": null,
   "metadata": {},
   "outputs": [],
   "source": [
    "BATCH_SIZE = 32\n",
    "SHUFFLE_BUFFER_SIZE = 1000\n",
    "\n",
    "train_batches = labeled_train_ds.shuffle(SHUFFLE_BUFFER_SIZE).batch(BATCH_SIZE)\n",
    "validation_batches = labeled_valid_ds.batch(BATCH_SIZE)\n",
    "test_batches = labeled_test_ds.batch(BATCH_SIZE)"
   ]
  },
  {
   "cell_type": "code",
   "execution_count": null,
   "metadata": {},
   "outputs": [],
   "source": [
    "for image_batch, label_batch in train_batches.take(1):\n",
    "    pass\n",
    "\n",
    "image_batch.shape"
   ]
  },
  {
   "cell_type": "code",
   "execution_count": null,
   "metadata": {},
   "outputs": [],
   "source": [
    "IMG_SIZE = image_batch.shape[1]"
   ]
  },
  {
   "cell_type": "code",
   "execution_count": null,
   "metadata": {},
   "outputs": [],
   "source": [
    "IMG_SHAPE = (IMG_SIZE, IMG_SIZE, 3)\n",
    "\n",
    "# Create the base model from the pre-trained model MobileNet V2\n",
    "base_model = tf.keras.applications.MobileNetV2(input_shape=IMG_SHAPE,\n",
    "                                               include_top=False,\n",
    "                                               weights='imagenet')"
   ]
  },
  {
   "cell_type": "code",
   "execution_count": null,
   "metadata": {},
   "outputs": [],
   "source": [
    "# Let's take a look at the base model architecture\n",
    "base_model.summary()"
   ]
  },
  {
   "cell_type": "code",
   "execution_count": null,
   "metadata": {},
   "outputs": [],
   "source": [
    "feature_batch = base_model(image_batch)\n",
    "print(feature_batch.shape)"
   ]
  },
  {
   "cell_type": "code",
   "execution_count": null,
   "metadata": {},
   "outputs": [],
   "source": [
    "global_average_layer = tf.keras.layers.GlobalAveragePooling2D()\n",
    "feature_batch_average = global_average_layer(feature_batch)\n",
    "print(feature_batch_average.shape)"
   ]
  },
  {
   "cell_type": "code",
   "execution_count": null,
   "metadata": {},
   "outputs": [],
   "source": [
    "prediction_layer = tf.keras.layers.Dense(2, activation='softmax')\n",
    "prediction_batch = prediction_layer(feature_batch_average)\n",
    "print(prediction_batch.shape)"
   ]
  },
  {
   "cell_type": "code",
   "execution_count": null,
   "metadata": {},
   "outputs": [],
   "source": [
    "YTest = model.predict(XTest)\n",
    "df_test['Predicted'] = YTest[:, 0]\n",
    "df_test.to_csv('test.csv', index=False)"
   ]
  },
  {
   "cell_type": "markdown",
   "metadata": {},
   "source": [
    "## Feature extraction"
   ]
  },
  {
   "cell_type": "code",
   "execution_count": null,
   "metadata": {},
   "outputs": [],
   "source": [
    "base_model.trainable = False\n"
   ]
  },
  {
   "cell_type": "code",
   "execution_count": null,
   "metadata": {},
   "outputs": [],
   "source": [
    "METRICS = [\n",
    "      tf.keras.metrics.BinaryAccuracy(name='accuracy'),\n",
    "      tf.keras.metrics.AUC(name='auc'),\n",
    "]\n",
    "\n",
    "model = tf.keras.Sequential([\n",
    "  base_model,\n",
    "  global_average_layer,\n",
    "  prediction_layer\n",
    "])\n",
    "\n",
    "base_learning_rate = 0.0001\n",
    "model.compile(loss='categorical_crossentropy',\n",
    "              optimizer = tf.keras.optimizers.RMSprop(lr=base_learning_rate/10),\n",
    "              metrics=METRICS)\n",
    "\n",
    "model.summary()"
   ]
  },
  {
   "cell_type": "code",
   "execution_count": null,
   "metadata": {},
   "outputs": [],
   "source": [
    "num_train, num_val, num_test = (\n",
    "  metadata.splits['train'].num_examples*weight/10\n",
    "  for weight in SPLIT_WEIGHTS\n",
    ")"
   ]
  },
  {
   "cell_type": "code",
   "execution_count": null,
   "metadata": {},
   "outputs": [],
   "source": [
    "initial_epochs = 10\n",
    "steps_per_epoch = round(num_train)//BATCH_SIZE\n",
    "validation_steps = 20\n",
    "\n",
    "loss0,accuracy0 = model.evaluate(validation_batches, steps = validation_steps)"
   ]
  },
  {
   "cell_type": "code",
   "execution_count": null,
   "metadata": {},
   "outputs": [],
   "source": [
    "print(\"initial loss: {:.2f}\".format(loss0))\n",
    "print(\"initial accuracy: {:.2f}\".format(accuracy0))"
   ]
  },
  {
   "cell_type": "code",
   "execution_count": null,
   "metadata": {},
   "outputs": [],
   "source": [
    "history = model.fit(train_batches,\n",
    "                    epochs=initial_epochs,\n",
    "                    validation_data=validation_batches)"
   ]
  },
  {
   "cell_type": "markdown",
   "metadata": {},
   "source": [
    "## Fine Tuning"
   ]
  },
  {
   "cell_type": "code",
   "execution_count": 88,
   "metadata": {},
   "outputs": [
    {
     "name": "stdout",
     "output_type": "stream",
     "text": [
      "Number of layers in the base model:  155\n"
     ]
    }
   ],
   "source": [
    "base_model.trainable = True\n",
    "# Let's take a look to see how many layers are in the base model\n",
    "print(\"Number of layers in the base model: \", len(base_model.layers))\n",
    "\n",
    "# Fine tune from this layer onwards\n",
    "fine_tune_at = 100\n",
    "\n",
    "# Freeze all the layers before the `fine_tune_at` layer\n",
    "for layer in base_model.layers[:fine_tune_at]:\n",
    "    layer.trainable =  False"
   ]
  },
  {
   "cell_type": "code",
   "execution_count": 101,
   "metadata": {},
   "outputs": [
    {
     "data": {
      "text/plain": [
       "58"
      ]
     },
     "execution_count": 101,
     "metadata": {},
     "output_type": "execute_result"
    }
   ],
   "source": [
    "len(model.trainable_variables)"
   ]
  },
  {
   "cell_type": "code",
   "execution_count": 102,
   "metadata": {},
   "outputs": [],
   "source": [
    "early_stopping = tf.keras.callbacks.EarlyStopping(\n",
    "    monitor='val_auc', \n",
    "    verbose=1,\n",
    "    patience=10,\n",
    "    mode='max',\n",
    "    restore_best_weights=True)\n"
   ]
  },
  {
   "cell_type": "code",
   "execution_count": null,
   "metadata": {},
   "outputs": [
    {
     "name": "stdout",
     "output_type": "stream",
     "text": [
      "Epoch 1/100\n",
      "     12/Unknown - 41s 41s/step - loss: 0.8197 - accuracy: 0.4375 - auc: 0.42 - 81s 40s/step - loss: 0.7096 - accuracy: 0.6094 - auc: 0.55 - 116s 39s/step - loss: 0.6777 - accuracy: 0.6458 - auc: 0.605 - 150s 37s/step - loss: 0.6427 - accuracy: 0.6719 - auc: 0.674 - 185s 37s/step - loss: 0.6431 - accuracy: 0.6687 - auc: 0.675 - 221s 37s/step - loss: 0.6601 - accuracy: 0.6458 - auc: 0.647 - 256s 37s/step - loss: 0.6619 - accuracy: 0.6384 - auc: 0.644 - 291s 36s/step - loss: 0.6494 - accuracy: 0.6719 - auc: 0.665 - 325s 36s/step - loss: 0.6429 - accuracy: 0.6806 - auc: 0.676 - 361s 36s/step - loss: 0.6444 - accuracy: 0.6719 - auc: 0.674 - 396s 36s/step - loss: 0.6381 - accuracy: 0.6818 - auc: 0.687 - 431s 36s/step - loss: 0.6356 - accuracy: 0.6875 - auc: 0.6920"
     ]
    }
   ],
   "source": [
    "EPOCHS = 100\n",
    "baseline_history = model.fit(\n",
    "        train_batches,\n",
    "        epochs=EPOCHS,\n",
    "        callbacks = [early_stopping],\n",
    "        validation_data=validation_batches)"
   ]
  },
  {
   "cell_type": "code",
   "execution_count": null,
   "metadata": {},
   "outputs": [],
   "source": [
    "YTest = model.predict(XTest)\n",
    "df_test['Predicted'] = YTest[:, 0]\n",
    "df_test"
   ]
  },
  {
   "cell_type": "code",
   "execution_count": null,
   "metadata": {},
   "outputs": [],
   "source": [
    "df_test.to_csv('test.csv', index=False)"
   ]
  },
  {
   "cell_type": "code",
   "execution_count": null,
   "metadata": {},
   "outputs": [],
   "source": []
  }
 ],
 "metadata": {
  "kernelspec": {
   "display_name": "Python 3",
   "language": "python",
   "name": "python3"
  },
  "language_info": {
   "codemirror_mode": {
    "name": "ipython",
    "version": 3
   },
   "file_extension": ".py",
   "mimetype": "text/x-python",
   "name": "python",
   "nbconvert_exporter": "python",
   "pygments_lexer": "ipython3",
   "version": "3.6.9"
  }
 },
 "nbformat": 4,
 "nbformat_minor": 2
}
