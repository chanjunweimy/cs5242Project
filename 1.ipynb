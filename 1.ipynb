{
 "cells": [
  {
   "cell_type": "markdown",
   "metadata": {},
   "source": [
    "import numpy as np\n",
    "xtrain = np.load('traindata.npy',allow_pickle=True)"
   ]
  },
  {
   "cell_type": "markdown",
   "metadata": {},
   "source": [
    "for i in range(18662):\n",
    "    if xtrain[i][:,64:92].sum(axis=0).sum() != 0:\n",
    "        print(i, 'with label', df_train['Label'][i], 'is not equal')"
   ]
  },
  {
   "cell_type": "markdown",
   "metadata": {},
   "source": [
    "\"\"\"\n",
    "def load_train_dataframe(id):\n",
    "    train_data = np.load(\"train/train/{}.npy\".format(id))\n",
    "    return pd.DataFrame(data=train_data)\n",
    "def load_test_dataframe(id):\n",
    "    test_data = np.load(\"test/test/{}.npy\".format(id))\n",
    "    return pd.DataFrame(data=test_data)\n",
    "\n",
    "# load training\n",
    "traindata = []\n",
    "for id in df_train['Id']:\n",
    "    dfi = load_train_dataframe(id)\n",
    "    traindata.append(dfi.values)\n",
    "print('Done train')\n",
    "# load test\n",
    "testdata = []\n",
    "for id in df_test['Id']:\n",
    "    dfi = load_test_dataframe(id)\n",
    "    testdata.append(dfi.values)\n",
    "print('Done test')\n",
    "\n",
    "np.save('traindata.npy', traindata)\n",
    "\n",
    "np.save('testdata.npy', testdata)\n",
    "\n",
    "\"\"\""
   ]
  },
  {
   "cell_type": "code",
   "execution_count": 1,
   "metadata": {},
   "outputs": [
    {
     "name": "stdout",
     "output_type": "stream",
     "text": [
      "Done\n",
      "training data:  (18662, 2) \n",
      "test data:  (6051, 2)\n"
     ]
    }
   ],
   "source": [
    "import pandas as pd\n",
    "import numpy as np\n",
    "import tensorflow as tf\n",
    "\n",
    "print('Done')\n",
    "df_train = pd.read_csv('train_kaggle.csv')\n",
    "df_test = pd.read_csv('sample_solution.csv')\n",
    "\n",
    "print('training data: ',df_train.shape,'\\ntest data: ', df_test.shape)"
   ]
  },
  {
   "cell_type": "code",
   "execution_count": 2,
   "metadata": {},
   "outputs": [
    {
     "data": {
      "text/plain": [
       "(18662, 1000, 8)"
      ]
     },
     "execution_count": 2,
     "metadata": {},
     "output_type": "execute_result"
    }
   ],
   "source": [
    "feature = 0 # feature 0 to 8 to choose\n",
    "\n",
    "def process(dfs, feature):\n",
    "    data = []\n",
    "    feature_length = [8,4,16,16,8,12,16,12,10]\n",
    "    feature_pos = np.array([[0,8],[8,12],[12,28],[28,44],[44,52],[52,64],[64,80],[80,92],[92,102]])    \n",
    "    length = feature_length[feature]\n",
    "   \n",
    "    for df in dfs:\n",
    "        out = np.zeros((df.shape[0],length))\n",
    "        out[:,0:length] = df[:,feature_pos[feature,0]:feature_pos[feature,1]]\n",
    "\n",
    "        data.append(out)                 \n",
    "    return data\n",
    "\n",
    "def pad_data(dfs):\n",
    "    padsize = 1000\n",
    "    data = []\n",
    "    for df in dfs:\n",
    "        diff = padsize-df.shape[0]\n",
    "        if diff >0:\n",
    "            df = np.pad(df, [(0, diff), (0,0)], 'constant')\n",
    "        else:\n",
    "            df = df[-padsize:]\n",
    "        data.append(df)\n",
    "        \n",
    "    data = np.stack(data)\n",
    "    return data\n",
    "\n",
    "# Load data + Process + Pad\n",
    "xtrain = np.load('traindata.npy',allow_pickle=True)\n",
    "xtrain = process(xtrain, feature)\n",
    "xtrain = pad_data(xtrain)\n",
    "xtrain.shape"
   ]
  },
  {
   "cell_type": "code",
   "execution_count": 3,
   "metadata": {},
   "outputs": [
    {
     "name": "stdout",
     "output_type": "stream",
     "text": [
      "Done\n"
     ]
    }
   ],
   "source": [
    "ytrain = np.array(df_train['Label'])\n",
    "print('Done')"
   ]
  },
  {
   "cell_type": "code",
   "execution_count": 4,
   "metadata": {},
   "outputs": [],
   "source": [
    "from sklearn.model_selection import train_test_split\n",
    "\n",
    "xtrain, X_val, ytrain, y_val = train_test_split(xtrain, ytrain, test_size=0.2, random_state=42)\n",
    "\n",
    "import matplotlib.pyplot as plt\n",
    "def plot_metrics(history):\n",
    "    metrics =  ['loss', 'auc', 'precision', 'recall']\n",
    "    for n, metric in enumerate(metrics):\n",
    "        name = metric.replace(\"_\",\" \").capitalize()\n",
    "        plt.subplot(2,2,n+1)\n",
    "        plt.plot(history.epoch,  history.history[metric], color=colors[0], label='Train')\n",
    "        plt.plot(history.epoch, history.history['val_'+metric],\n",
    "                 color=colors[0], linestyle=\"--\", label='Val')\n",
    "        plt.xlabel('Epoch')\n",
    "        plt.ylabel(name)\n",
    "        if metric == 'loss':\n",
    "            plt.ylim([0, plt.ylim()[1]])\n",
    "        elif metric == 'auc':\n",
    "            plt.ylim([0.8,1])\n",
    "        else:\n",
    "            plt.ylim([0,1])\n",
    "\n",
    "        plt.legend()\n",
    "        \n",
    "import sklearn\n",
    "def plot_roc(name, labels, predictions, **kwargs):\n",
    "    fp, tp, _ = sklearn.metrics.roc_curve(labels, predictions)\n",
    "\n",
    "    plt.plot(100*fp, 100*tp, label=name, linewidth=2, **kwargs)\n",
    "    plt.xlabel('False positives [%]')\n",
    "    plt.ylabel('True positives [%]')\n",
    "    plt.xlim([-0.5,20])\n",
    "    plt.ylim([80,100.5])\n",
    "    plt.grid(True)\n",
    "    ax = plt.gca()\n",
    "    ax.set_aspect('equal')"
   ]
  },
  {
   "cell_type": "code",
   "execution_count": 5,
   "metadata": {},
   "outputs": [
    {
     "name": "stdout",
     "output_type": "stream",
     "text": [
      "Model: \"model\"\n",
      "_________________________________________________________________\n",
      "Layer (type)                 Output Shape              Param #   \n",
      "=================================================================\n",
      "input_1 (InputLayer)         [(None, 1000, 8)]         0         \n",
      "_________________________________________________________________\n",
      "conv1d (Conv1D)              (None, 1000, 6)           246       \n",
      "_________________________________________________________________\n",
      "max_pooling1d (MaxPooling1D) (None, 500, 6)            0         \n",
      "_________________________________________________________________\n",
      "dropout (Dropout)            (None, 500, 6)            0         \n",
      "_________________________________________________________________\n",
      "conv1d_1 (Conv1D)            (None, 500, 16)           496       \n",
      "_________________________________________________________________\n",
      "max_pooling1d_1 (MaxPooling1 (None, 250, 16)           0         \n",
      "_________________________________________________________________\n",
      "dropout_1 (Dropout)          (None, 250, 16)           0         \n",
      "_________________________________________________________________\n",
      "flatten (Flatten)            (None, 4000)              0         \n",
      "_________________________________________________________________\n",
      "dense (Dense)                (None, 120)               480120    \n",
      "_________________________________________________________________\n",
      "dense_1 (Dense)              (None, 84)                10164     \n",
      "_________________________________________________________________\n",
      "dense_2 (Dense)              (None, 1)                 85        \n",
      "=================================================================\n",
      "Total params: 491,111\n",
      "Trainable params: 491,111\n",
      "Non-trainable params: 0\n",
      "_________________________________________________________________\n"
     ]
    }
   ],
   "source": [
    "import tensorflow as tf\n",
    "from tensorflow import keras\n",
    "\n",
    "METRICS = [\n",
    "      keras.metrics.BinaryAccuracy(name='accuracy'),\n",
    "      keras.metrics.AUC(name='auc'),\n",
    "]\n",
    "\n",
    "inputs = keras.Input(shape=(xtrain.shape[1], xtrain.shape[2])) \n",
    "x = keras.layers.Conv1D(filters=6, kernel_size=5, padding='same', activation='relu')(inputs)\n",
    "x = keras.layers.MaxPooling1D(pool_size=2)(x)\n",
    "x = keras.layers.Dropout(0.4)(x)\n",
    "x = keras.layers.Conv1D(filters=16, kernel_size=5, padding='same', activation='relu')(x)\n",
    "x = keras.layers.MaxPooling1D(pool_size=2)(x)\n",
    "x = keras.layers.Dropout(0.4)(x)\n",
    "x = keras.layers.Flatten()(x)\n",
    "x = keras.layers.Dense(120, activation='relu')(x)\n",
    "x = keras.layers.Dense(84, activation='relu')(x)\n",
    "x = keras.layers.Dense(1, activation='sigmoid')(x)\n",
    "\n",
    "model = keras.Model(inputs=inputs, outputs=x)\n",
    "\n",
    "# model.compile(loss='categorical_crossentropy',\n",
    "#              optimizer='adam',\n",
    "#              metrics=['accuracy'])\n",
    "\n",
    "model.compile(\n",
    "      optimizer=keras.optimizers.Adam(),\n",
    "      loss=keras.losses.BinaryCrossentropy(),\n",
    "      metrics=METRICS)\n",
    "\n",
    "# Take a look at the model summary\n",
    "model.summary()"
   ]
  },
  {
   "cell_type": "code",
   "execution_count": 6,
   "metadata": {},
   "outputs": [],
   "source": [
    "early_stopping = tf.keras.callbacks.EarlyStopping(\n",
    "    monitor='val_auc', \n",
    "    verbose=1,\n",
    "    patience=10,\n",
    "    mode='max',\n",
    "    restore_best_weights=True)"
   ]
  },
  {
   "cell_type": "code",
   "execution_count": null,
   "metadata": {},
   "outputs": [
    {
     "name": "stdout",
     "output_type": "stream",
     "text": [
      "Train on 14929 samples, validate on 3733 samples\n",
      "Epoch 1/100\n",
      "14929/14929 [==============================] - 12s 819us/sample - loss: 0.3630 - accuracy: 0.8384 - auc: 0.9148 - val_loss: 0.2926 - val_accuracy: 0.8765 - val_auc: 0.9552\n",
      "Epoch 2/100\n",
      "13888/14929 [==========================>...] - ETA: 0s - loss: 0.2826 - accuracy: 0.8754 - auc: 0.9492 ETA: 1s - loss:"
     ]
    }
   ],
   "source": [
    "from tensorflow.keras.utils import to_categorical\n",
    "\n",
    "EPOCHS = 100\n",
    "baseline_history = model.fit(\n",
    "    xtrain,\n",
    "    ytrain,\n",
    "    epochs=EPOCHS,\n",
    "    callbacks = [early_stopping],\n",
    "    validation_data=(X_val, y_val))\n",
    "\n",
    "# model.fit(xtrain, to_categorical(ytrain), epochs=30)"
   ]
  },
  {
   "cell_type": "code",
   "execution_count": null,
   "metadata": {},
   "outputs": [],
   "source": [
    "# Load data + Process + Pad\n",
    "xtest = np.load('testdata.npy',allow_pickle=True)\n",
    "xtest = process(xtest)\n",
    "xtest = pad_data(xtest)\n",
    "\n",
    "ytest = model.predict(xtest)\n",
    "print('Done')"
   ]
  },
  {
   "cell_type": "code",
   "execution_count": null,
   "metadata": {},
   "outputs": [],
   "source": [
    "df_test['Predicted'] = ytest[:, 0]\n",
    "df_test"
   ]
  },
  {
   "cell_type": "code",
   "execution_count": null,
   "metadata": {},
   "outputs": [],
   "source": [
    "df_test.to_csv('features/feature_{}.csv'.format(feature), index=False)"
   ]
  }
 ],
 "metadata": {
  "kernelspec": {
   "display_name": "Python 3",
   "language": "python",
   "name": "python3"
  },
  "language_info": {
   "codemirror_mode": {
    "name": "ipython",
    "version": 3
   },
   "file_extension": ".py",
   "mimetype": "text/x-python",
   "name": "python",
   "nbconvert_exporter": "python",
   "pygments_lexer": "ipython3",
   "version": "3.7.3"
  }
 },
 "nbformat": 4,
 "nbformat_minor": 2
}
